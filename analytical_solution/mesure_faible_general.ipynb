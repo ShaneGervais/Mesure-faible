{
 "cells": [
  {
   "cell_type": "code",
   "execution_count": 1,
   "id": "4c1e3b05-c883-42ba-af29-88aa1acb9fb9",
   "metadata": {},
   "outputs": [
    {
     "name": "stdout",
     "output_type": "stream",
     "text": [
      "IPython console for SymPy 1.11.1 (Python 3.11.3-64-bit) (ground types: python)\n",
      "\n",
      "These commands were executed:\n",
      ">>> from sympy import *\n",
      ">>> x, y, z, t = symbols('x y z t')\n",
      ">>> k, m, n = symbols('k m n', integer=True)\n",
      ">>> f, g, h = symbols('f g h', cls=Function)\n",
      ">>> init_printing()\n",
      "\n",
      "Documentation can be found at https://docs.sympy.org/1.11.1/\n",
      "\n"
     ]
    }
   ],
   "source": [
    "import sympy as smp\n",
    "import sympy.physics.quantum as qtm\n",
    "from IPython.display import display, Math\n",
    "smp.init_session()"
   ]
  },
  {
   "cell_type": "code",
   "execution_count": 2,
   "id": "7fd1a910-14dd-4f4e-acff-50dd949d73c8",
   "metadata": {},
   "outputs": [],
   "source": [
    "theta = smp.symbols(r'\\theta', real=True)\n",
    "phi_x = smp.symbols(r'\\phi_{x}', real=True)\n",
    "phi_y = smp.symbols(r'\\phi_{y}', real=True)\n",
    "a = smp.cos(theta)*smp.exp(smp.I*phi_x)\n",
    "b = smp.sin(theta)*smp.exp(smp.I*phi_y)\n",
    "sigma = smp.symbols(r'\\sigma', real=True, positive=True)\n",
    "x = smp.symbols('x', real=True)\n",
    "d = smp.symbols(r'\\delta', real=True, positive=True)"
   ]
  },
  {
   "cell_type": "code",
   "execution_count": 3,
   "id": "e9834af0-da82-4a53-9297-11a3899db28b",
   "metadata": {},
   "outputs": [
    {
     "data": {
      "text/latex": [
       "$\\displaystyle \\ket{\\psi} = \\ket{\\varphi} \\otimes \\ket{\\xi}$"
      ],
      "text/plain": [
       "<IPython.core.display.Math object>"
      ]
     },
     "metadata": {},
     "output_type": "display_data"
    },
    {
     "data": {
      "text/latex": [
       "$\\displaystyle \\ket{\\varphi} = e^{i \\phi_{x}} \\cos{\\left(\\theta \\right)} {\\left|H\\right\\rangle } + e^{i \\phi_{y}} \\sin{\\left(\\theta \\right)} {\\left|V\\right\\rangle }$"
      ],
      "text/plain": [
       "<IPython.core.display.Math object>"
      ]
     },
     "metadata": {},
     "output_type": "display_data"
    },
    {
     "data": {
      "text/latex": [
       "$\\displaystyle \\ket{\\xi(x)} = \\braket{x|\\xi} = \\frac{2^{\\frac{3}{4}} e^{- \\frac{x^{2}}{4 \\sigma^{2}}}}{2 \\sqrt[4]{\\pi} \\sqrt{\\sigma}}$"
      ],
      "text/plain": [
       "<IPython.core.display.Math object>"
      ]
     },
     "metadata": {},
     "output_type": "display_data"
    },
    {
     "data": {
      "text/latex": [
       "$\\displaystyle \\ket{\\psi} = \\frac{2^{\\frac{3}{4}} e^{i \\phi_{x}} e^{- \\frac{x^{2}}{4 \\sigma^{2}}} \\cos{\\left(\\theta \\right)}}{2 \\sqrt[4]{\\pi} \\sqrt{\\sigma}} + \\frac{2^{\\frac{3}{4}} e^{i \\phi_{y}} e^{- \\frac{x^{2}}{4 \\sigma^{2}}} \\sin{\\left(\\theta \\right)}}{2 \\sqrt[4]{\\pi} \\sqrt{\\sigma}}$"
      ],
      "text/plain": [
       "<IPython.core.display.Math object>"
      ]
     },
     "metadata": {},
     "output_type": "display_data"
    }
   ],
   "source": [
    "display(Math(r'\\ket{\\psi} = \\ket{\\varphi} \\otimes \\ket{\\xi}'))\n",
    "\n",
    "h = qtm.OrthogonalKet('H')\n",
    "v = qtm.OrthogonalKet('V')\n",
    "varphi = qtm.OrthogonalKet(r'\\varphi')\n",
    "varphi = a*h + b*v\n",
    "display(Math(r'\\ket{\\varphi} = ' + smp.latex(varphi)))\n",
    "\n",
    "gauss = (smp.exp(-(x**2)/(4*sigma**2)))/(smp.sqrt(smp.sqrt(2*smp.pi)*sigma))\n",
    "display(Math(r'\\ket{\\xi(x)} = \\braket{x|\\xi} = ' + smp.latex(gauss)))\n",
    "\n",
    "psi = a*gauss + b*gauss\n",
    "display(Math(r'\\ket{\\psi} = ' + smp.latex(psi)))"
   ]
  },
  {
   "cell_type": "code",
   "execution_count": 4,
   "id": "24ebb9f8",
   "metadata": {},
   "outputs": [
    {
     "data": {
      "text/latex": [
       "$\\displaystyle \\hat{U} = e^{- i \\delta {A}\\otimes {P}}$"
      ],
      "text/plain": [
       "<IPython.core.display.Math object>"
      ]
     },
     "metadata": {},
     "output_type": "display_data"
    },
    {
     "data": {
      "text/latex": [
       "$\\displaystyle \\hat{U}\\ket{\\psi} = \\frac{2^{\\frac{3}{4}} e^{i \\phi_{x}} e^{- \\frac{\\left(- \\delta + x\\right)^{2}}{4 \\sigma^{2}}} \\cos{\\left(\\theta \\right)} {\\left|H\\right\\rangle }}{2 \\sqrt[4]{\\pi} \\sqrt{\\sigma}} + \\frac{2^{\\frac{3}{4}} e^{i \\phi_{y}} e^{- \\frac{x^{2}}{4 \\sigma^{2}}} \\sin{\\left(\\theta \\right)} {\\left|V\\right\\rangle }}{2 \\sqrt[4]{\\pi} \\sqrt{\\sigma}}$"
      ],
      "text/plain": [
       "<IPython.core.display.Math object>"
      ]
     },
     "metadata": {},
     "output_type": "display_data"
    }
   ],
   "source": [
    "A = smp.Symbol('A',commutative=False)\n",
    "P = smp.Symbol('P',commutative=False)\n",
    "op_interaction = smp.exp(-smp.I*d*(qtm.TensorProduct(A,P)))\n",
    "display(Math(r'\\hat{U} = ' + smp.latex(op_interaction)))\n",
    "\n",
    "gauss_d = (smp.exp(-((x-d)**2)/(4*sigma**2)))/(smp.sqrt(smp.sqrt(2*smp.pi)*sigma))\n",
    "\n",
    "psi_d = a*gauss_d*h + b*gauss*v\n",
    "display(Math(r'\\hat{U}\\ket{\\psi} = ' + smp.latex(psi_d)))"
   ]
  },
  {
   "cell_type": "code",
   "execution_count": 5,
   "metadata": {},
   "outputs": [
    {
     "data": {
      "text/latex": [
       "$\\displaystyle \\bra{F} = e^{i \\phi^{`}} \\sin{\\left(\\theta^{`} \\right)} {\\left\\langle V\\right|} + \\cos{\\left(\\theta^{`} \\right)} {\\left\\langle H\\right|}$"
      ],
      "text/plain": [
       "<IPython.core.display.Math object>"
      ]
     },
     "metadata": {},
     "output_type": "display_data"
    },
    {
     "data": {
      "text/latex": [
       "$\\displaystyle \\ket{\\psi_{f}} = \\bra{F}\\hat{U}\\ket{\\psi} = \\frac{2^{\\frac{3}{4}} e^{i \\phi^{`}} e^{i \\phi_{y}} e^{- \\frac{x^{2}}{4 \\sigma^{2}}} \\sin{\\left(\\theta \\right)} \\sin{\\left(\\theta^{`} \\right)}}{2 \\sqrt[4]{\\pi} \\sqrt{\\sigma}} + \\frac{2^{\\frac{3}{4}} e^{i \\phi_{x}} e^{- \\frac{\\delta^{2}}{4 \\sigma^{2}}} e^{- \\frac{x^{2}}{4 \\sigma^{2}}} e^{\\frac{\\delta x}{2 \\sigma^{2}}} \\cos{\\left(\\theta \\right)} \\cos{\\left(\\theta^{`} \\right)}}{2 \\sqrt[4]{\\pi} \\sqrt{\\sigma}}$"
      ],
      "text/plain": [
       "<IPython.core.display.Math object>"
      ]
     },
     "metadata": {},
     "output_type": "display_data"
    }
   ],
   "source": [
    "theta_prime = smp.symbols(r'\\theta^{`}', real=True)\n",
    "phi_prime = smp.symbols(r'\\phi^{`}', real=True)\n",
    "hb = qtm.OrthogonalBra('H')\n",
    "vb = qtm.OrthogonalBra('V')\n",
    "post = (hb*smp.cos(theta_prime) + smp.exp(smp.I*phi_prime)*smp.sin(theta_prime)*vb)\n",
    "display(Math(r'\\bra{F} = ' + smp.latex(post)))\n",
    "\n",
    "psi_f = qtm.qapply(((post*psi_d).expand())).subs(vb*h, 0).subs(hb*v, 0)\n",
    "display(Math(r'\\ket{\\psi_{f}} = \\bra{F}\\hat{U}\\ket{\\psi} = ' + smp.latex(psi_f)))"
   ]
  },
  {
   "cell_type": "code",
   "execution_count": 6,
   "id": "eb9bcbe8",
   "metadata": {},
   "outputs": [
    {
     "data": {
      "text/latex": [
       "$\\displaystyle <\\hat{X}> = \\frac{\\delta \\left(2 e^{\\frac{\\delta^{2}}{\\sigma^{2}}} \\cos{\\left(\\theta \\right)} \\cos{\\left(\\theta^{`} \\right)} + e^{\\frac{7 \\delta^{2}}{8 \\sigma^{2}} - i \\phi^{`} + i \\phi_{x} - i \\phi_{y}} \\sin{\\left(\\theta \\right)} \\sin{\\left(\\theta^{`} \\right)} + e^{\\frac{7 \\delta^{2}}{8 \\sigma^{2}} + i \\phi^{`} - i \\phi_{x} + i \\phi_{y}} \\sin{\\left(\\theta \\right)} \\sin{\\left(\\theta^{`} \\right)}\\right) e^{- \\frac{\\delta^{2}}{\\sigma^{2}}} \\cos{\\left(\\theta \\right)} \\cos{\\left(\\theta^{`} \\right)}}{2}$"
      ],
      "text/plain": [
       "<IPython.core.display.Math object>"
      ]
     },
     "metadata": {},
     "output_type": "display_data"
    },
    {
     "data": {
      "text/latex": [
       "$\\displaystyle \\lim_{e^{\\frac{-\\delta^{2}}{8\\sigma^{2}}} \\to 1} <\\hat{X}>= \\frac{\\delta \\left(e^{- i \\phi^{`} + i \\phi_{x} - i \\phi_{y}} \\sin{\\left(\\theta \\right)} \\sin{\\left(\\theta^{`} \\right)} + e^{i \\phi^{`} - i \\phi_{x} + i \\phi_{y}} \\sin{\\left(\\theta \\right)} \\sin{\\left(\\theta^{`} \\right)} + 2 \\cos{\\left(\\theta \\right)} \\cos{\\left(\\theta^{`} \\right)}\\right) \\cos{\\left(\\theta \\right)} \\cos{\\left(\\theta^{`} \\right)}}{2}$"
      ],
      "text/plain": [
       "<IPython.core.display.Math object>"
      ]
     },
     "metadata": {},
     "output_type": "display_data"
    }
   ],
   "source": [
    "x_moy = (smp.integrate(smp.conjugate(psi_f)*x*psi_f, (x, -smp.oo, smp.oo))).simplify()\n",
    "display(Math(r\"<\\hat{X}> = \"+ smp.latex(x_moy)))\n",
    "\n",
    "x_moy_limit = x_moy.subs(smp.exp((-d**2)/(8*sigma**2)), 1)\n",
    "display(Math(r'\\lim_{e^{\\frac{-\\delta^{2}}{8\\sigma^{2}}} \\to 1} <\\hat{X}>= ' + smp.latex(x_moy_limit)))"
   ]
  },
  {
   "cell_type": "code",
   "execution_count": 7,
   "id": "d13bede5",
   "metadata": {},
   "outputs": [
    {
     "data": {
      "text/latex": [
       "$\\displaystyle \\ket{\\psi(k)_{f}} = 2^{\\frac{3}{4}} \\sqrt[4]{\\pi} \\sqrt{\\sigma} \\left(e^{i \\phi_{x}} \\cos{\\left(\\theta \\right)} \\cos{\\left(\\theta^{`} \\right)} + e^{i \\left(2 \\pi \\delta k + \\phi^{`} + \\phi_{y}\\right)} \\sin{\\left(\\theta \\right)} \\sin{\\left(\\theta^{`} \\right)}\\right) e^{- 2 \\pi k \\left(i \\delta + 2 \\pi \\sigma^{2} k\\right)}$"
      ],
      "text/plain": [
       "<IPython.core.display.Math object>"
      ]
     },
     "metadata": {},
     "output_type": "display_data"
    }
   ],
   "source": [
    "#continue avec ce système pour trouver la moyenne de la fréquence\n",
    "k = smp.symbols('k', real=True)\n",
    "\n",
    "psi_ff = smp.fourier_transform(psi_f, x, k)\n",
    "display(Math(r'\\ket{\\psi(k)_{f}} = ' +smp.latex(psi_ff)))"
   ]
  },
  {
   "cell_type": "code",
   "execution_count": 8,
   "id": "75558ee4",
   "metadata": {},
   "outputs": [
    {
     "data": {
      "text/latex": [
       "$\\displaystyle <\\hat{K}> = \\frac{i \\delta \\left(- e^{2 i \\phi_{x}} + e^{2 i \\left(\\phi^{`} + \\phi_{y}\\right)}\\right) \\left(\\cos{\\left(2 \\theta - 2 \\theta^{`} \\right)} - \\cos{\\left(2 \\theta + 2 \\theta^{`} \\right)}\\right) e^{- \\frac{\\delta^{2}}{8 \\sigma^{2}} - i \\phi^{`} - i \\phi_{x} - i \\phi_{y}}}{64 \\pi \\sigma^{2}}$"
      ],
      "text/plain": [
       "<IPython.core.display.Math object>"
      ]
     },
     "metadata": {},
     "output_type": "display_data"
    }
   ],
   "source": [
    "k_moy = (smp.integrate(smp.conjugate(psi_ff)*k*psi_ff, (k, -smp.oo, smp.oo))).simplify()\n",
    "display(Math(r\"<\\hat{K}> = \"+ smp.latex(k_moy)))"
   ]
  },
  {
   "cell_type": "code",
   "execution_count": 9,
   "id": "03ba115f",
   "metadata": {},
   "outputs": [
    {
     "data": {
      "text/latex": [
       "$\\displaystyle \\lim_{e^{\\frac{-\\delta^{2}}{8\\sigma^{2}}} \\to 1} <\\hat{K}> = \\frac{i \\delta \\left(- e^{2 i \\phi_{x}} + e^{2 i \\left(\\phi^{`} + \\phi_{y}\\right)}\\right) \\left(\\cos{\\left(2 \\theta - 2 \\theta^{`} \\right)} - \\cos{\\left(2 \\theta + 2 \\theta^{`} \\right)}\\right) e^{- i \\phi^{`} - i \\phi_{x} - i \\phi_{y}}}{64 \\pi \\sigma^{2}}$"
      ],
      "text/plain": [
       "<IPython.core.display.Math object>"
      ]
     },
     "metadata": {},
     "output_type": "display_data"
    }
   ],
   "source": [
    "#prend limit de exp((-d**2)/(8*o**2) -> 1\n",
    "k_moy_limit = k_moy.subs(smp.exp((-d**2)/(8*sigma**2)), 1)\n",
    "display(Math(r'\\lim_{e^{\\frac{-\\delta^{2}}{8\\sigma^{2}}} \\to 1} <\\hat{K}> = ' + smp.latex(k_moy_limit)))"
   ]
  }
 ],
 "metadata": {
  "kernelspec": {
   "display_name": "Python 3 (ipykernel)",
   "language": "python",
   "name": "python3"
  },
  "language_info": {
   "codemirror_mode": {
    "name": "ipython",
    "version": 3
   },
   "file_extension": ".py",
   "mimetype": "text/x-python",
   "name": "python",
   "nbconvert_exporter": "python",
   "pygments_lexer": "ipython3",
   "version": "3.11.3"
  }
 },
 "nbformat": 4,
 "nbformat_minor": 5
}
