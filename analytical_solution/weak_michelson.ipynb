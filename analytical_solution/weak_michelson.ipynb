{
 "cells": [
  {
   "attachments": {},
   "cell_type": "markdown",
   "metadata": {},
   "source": [
    "Considérons un laser pulsé avec une distribution gaussienne. Le laser subit une interférence faible dont son état quantique sera décrit par la valeur faible. Dans ce calepin nous voulons trouver la relation du décalage des polarisations en fonction de la différence de parcours temporelle."
   ]
  },
  {
   "cell_type": "code",
   "execution_count": 16,
   "metadata": {},
   "outputs": [],
   "source": [
    "import sympy as smp\n",
    "from IPython.display import Math"
   ]
  },
  {
   "cell_type": "code",
   "execution_count": 17,
   "metadata": {},
   "outputs": [],
   "source": [
    "t = smp.symbols('t', real=True)\n",
    "w = smp.symbols(r'\\omega', real=True, positive=True)\n",
    "tau = smp.symbols(r'\\tau', real=True)\n",
    "z = smp.symbols('z', real=True)\n",
    "sigma = smp.symbols(r'\\sigma', real=True, positive=True)\n",
    "k = smp.symbols('k', real=True)\n",
    "c = smp.symbols('c', constant=True, real=True, positive=True)\n",
    "varphi = smp.symbols(r'\\varphi')\n",
    "theta = smp.symbols(r'\\theta', real=True)\n",
    "phi = smp.symbols(r'\\phi', real=True)\n",
    "U = smp.symbols(r'\\hat{U}')\n",
    "d = smp.symbols(r'\\delta(t)')\n",
    "wavelength = smp.symbols(r'\\lambda', real=True, positive=True)\n",
    "frequency = smp.symbols('f', real=True, positive=True)"
   ]
  },
  {
   "attachments": {},
   "cell_type": "markdown",
   "metadata": {},
   "source": [
    "Distribution gaussienne du pointeur temporelle"
   ]
  },
  {
   "cell_type": "code",
   "execution_count": 18,
   "metadata": {},
   "outputs": [
    {
     "data": {
      "text/latex": [
       "$\\displaystyle A(t) = \\frac{2^{\\frac{3}{4}} e^{- \\frac{\\left(t - \\frac{z}{c}\\right)^{2}}{4 \\sigma^{2}}}}{2 \\sqrt[4]{\\pi} \\sqrt{\\sigma}}$"
      ],
      "text/plain": [
       "<IPython.core.display.Math object>"
      ]
     },
     "metadata": {},
     "output_type": "display_data"
    }
   ],
   "source": [
    "A_t = smp.sqrt(1/(smp.sqrt(2*smp.pi)*sigma))*smp.exp(-((t-z/c)**2)/(4*sigma**2))\n",
    "display(Math('A(t) = ' + smp.latex(A_t)))"
   ]
  },
  {
   "cell_type": "code",
   "execution_count": 19,
   "metadata": {},
   "outputs": [
    {
     "data": {
      "text/latex": [
       "$\\displaystyle \\varphi(t) =e^{i \\phi} \\sin{\\left(\\theta \\right)} + \\cos{\\left(\\theta \\right)}$"
      ],
      "text/plain": [
       "<IPython.core.display.Math object>"
      ]
     },
     "metadata": {},
     "output_type": "display_data"
    }
   ],
   "source": [
    "polar = smp.cos(theta) + smp.sin(theta)*smp.exp(smp.I*phi)\n",
    "display(Math(r'\\varphi(t) =' + smp.latex(polar)))"
   ]
  },
  {
   "attachments": {},
   "cell_type": "markdown",
   "metadata": {},
   "source": [
    "Le champ électrique de notre état quantique"
   ]
  },
  {
   "cell_type": "code",
   "execution_count": 20,
   "metadata": {},
   "outputs": [
    {
     "data": {
      "text/latex": [
       "$\\displaystyle |E(t)> = \\frac{2^{\\frac{3}{4}} \\left(e^{i \\phi} \\sin{\\left(\\theta \\right)} + \\cos{\\left(\\theta \\right)}\\right) e^{- i \\left(- \\omega t + k z\\right)} e^{- \\frac{\\left(t - \\frac{z}{c}\\right)^{2}}{4 \\sigma^{2}}}}{2 \\sqrt[4]{\\pi} \\sqrt{\\sigma}}$"
      ],
      "text/plain": [
       "<IPython.core.display.Math object>"
      ]
     },
     "metadata": {},
     "output_type": "display_data"
    }
   ],
   "source": [
    "E_t = A_t*polar*smp.exp(-smp.I*(k*z - w*t))\n",
    "display(Math('|E(t)> = ' + smp.latex(E_t)))"
   ]
  },
  {
   "attachments": {},
   "cell_type": "markdown",
   "metadata": {},
   "source": [
    "Faisons passer ce champ dans un séparateur de faisceau dont que une de ces faisceaux séparée parcours un trajet plus long que l'autre qui introduit un délais temporel soit `tau`"
   ]
  },
  {
   "cell_type": "code",
   "execution_count": 21,
   "metadata": {},
   "outputs": [
    {
     "data": {
      "text/latex": [
       "$\\displaystyle E_{1}(t) = \\frac{\\sqrt[4]{2} \\left(e^{i \\phi} \\sin{\\left(\\theta \\right)} + \\cos{\\left(\\theta \\right)}\\right) e^{- i \\left(- \\omega t + k z\\right)} e^{- \\frac{\\left(t - \\frac{z}{c}\\right)^{2}}{4 \\sigma^{2}}}}{2 \\sqrt[4]{\\pi} \\sqrt{\\sigma}}$"
      ],
      "text/plain": [
       "<IPython.core.display.Math object>"
      ]
     },
     "metadata": {},
     "output_type": "display_data"
    },
    {
     "data": {
      "text/latex": [
       "$\\displaystyle A(t) = \\frac{2^{\\frac{3}{4}} e^{- \\frac{\\left(t - \\frac{z}{c}\\right)^{2}}{4 \\sigma^{2}}}}{2 \\sqrt[4]{\\pi} \\sqrt{\\sigma}}$"
      ],
      "text/plain": [
       "<IPython.core.display.Math object>"
      ]
     },
     "metadata": {},
     "output_type": "display_data"
    },
    {
     "data": {
      "text/latex": [
       "$\\displaystyle E_{2}(t + \\tau) = \\frac{\\sqrt[4]{2} \\left(e^{i \\phi} \\sin{\\left(\\theta \\right)} + \\cos{\\left(\\theta \\right)}\\right) e^{- \\frac{\\tau^{2}}{4 \\sigma^{2}}} e^{- \\frac{t^{2}}{4 \\sigma^{2}}} e^{i \\omega \\tau} e^{i \\omega t} e^{- i k z} e^{- \\frac{\\tau t}{2 \\sigma^{2}}} e^{- \\frac{z^{2}}{4 \\sigma^{2} c^{2}}} e^{\\frac{\\tau z}{2 \\sigma^{2} c}} e^{\\frac{t z}{2 \\sigma^{2} c}}}{2 \\sqrt[4]{\\pi} \\sqrt{\\sigma}}$"
      ],
      "text/plain": [
       "<IPython.core.display.Math object>"
      ]
     },
     "metadata": {},
     "output_type": "display_data"
    },
    {
     "data": {
      "text/latex": [
       "$\\displaystyle \\frac{\\sqrt[4]{2} \\hat{U} \\left(e^{i \\phi} \\sin{\\left(\\theta \\right)} + \\cos{\\left(\\theta \\right)}\\right) e^{- i \\left(- \\omega t + k z\\right)} e^{- \\frac{\\left(t - \\frac{z}{c}\\right)^{2}}{4 \\sigma^{2}}}}{2 \\sqrt[4]{\\pi} \\sqrt{\\sigma}} = \\frac{\\sqrt[4]{2} \\left(e^{i \\phi} \\sin{\\left(\\theta \\right)} + \\cos{\\left(\\theta \\right)}\\right) e^{- i \\left(- \\omega \\left(\\tau + t\\right) + k z\\right)} e^{- \\frac{\\left(\\tau + t - \\frac{z}{c}\\right)^{2}}{4 \\sigma^{2}}}}{2 \\sqrt[4]{\\pi} \\sqrt{\\sigma}}$"
      ],
      "text/plain": [
       "<IPython.core.display.Math object>"
      ]
     },
     "metadata": {},
     "output_type": "display_data"
    },
    {
     "data": {
      "text/latex": [
       "$\\displaystyle \\hat{U} = e^{\\frac{\\tau \\left(4 i \\omega \\sigma^{2} c - \\tau c - 2 c t + 2 z\\right)}{4 \\sigma^{2} c}}$"
      ],
      "text/plain": [
       "<IPython.core.display.Math object>"
      ]
     },
     "metadata": {},
     "output_type": "display_data"
    },
    {
     "data": {
      "text/latex": [
       "$\\displaystyle E_{2}(t+\\tau) = \\hat{U}E_{2}(t) = \\frac{\\sqrt[4]{2} \\left(e^{i \\phi} \\sin{\\left(\\theta \\right)} + \\cos{\\left(\\theta \\right)}\\right) e^{- \\frac{\\tau^{2}}{4 \\sigma^{2}}} e^{- \\frac{t^{2}}{4 \\sigma^{2}}} e^{i \\omega \\tau} e^{i \\omega t} e^{- i k z} e^{- \\frac{\\tau t}{2 \\sigma^{2}}} e^{- \\frac{z^{2}}{4 \\sigma^{2} c^{2}}} e^{\\frac{\\tau z}{2 \\sigma^{2} c}} e^{\\frac{t z}{2 \\sigma^{2} c}}}{2 \\sqrt[4]{\\pi} \\sqrt{\\sigma}}$"
      ],
      "text/plain": [
       "<IPython.core.display.Math object>"
      ]
     },
     "metadata": {},
     "output_type": "display_data"
    }
   ],
   "source": [
    "E_1 = (1/smp.sqrt(2))*E_t\n",
    "E_2 = (1/smp.sqrt(2))*E_t\n",
    "display(Math(r'E_{1}(t) = ' + smp.latex(E_1)))\n",
    "\n",
    "A_tt = smp.sqrt(1/(smp.sqrt(2*smp.pi)*sigma))*smp.exp(-((t-z/c + tau)**2)/(4*(sigma)**2))\n",
    "display(Math('A(t) = ' + smp.latex(A_t)))\n",
    "\n",
    "E_22 = (1/smp.sqrt(2))*A_tt*polar*smp.exp(-smp.I*(k*z - w*(t+tau)))\n",
    "display(Math(r'E_{2}(t + \\tau) = ' + smp.latex(E_22.simplify().factor()))) #simplify and factor to show (visually) E_22 and E_2_tau are the same\n",
    "\n",
    "eq1 = smp.Eq(U*E_2, E_22)\n",
    "display(Math(smp.latex(eq1)))\n",
    "eq2 = smp.solve(eq1, U)\n",
    "U = eq2[0].factor().simplify()\n",
    "display(Math(r'\\hat{U} = ' + smp.latex(U)))\n",
    "\n",
    "E_2_tau = (U*(1/smp.sqrt(2))*E_t).simplify().factor()\n",
    "display(Math(r'E_{2}(t+\\tau) = \\hat{U}E_{2}(t) = ' + smp.latex(E_2_tau)))"
   ]
  },
  {
   "cell_type": "code",
   "execution_count": 22,
   "metadata": {},
   "outputs": [
    {
     "data": {
      "text/plain": [
       "\"\\nE_1 = (1/smp.sqrt(2))*E_t\\nE_2_t = (1/smp.sqrt(2))*A_tt*polar*smp.exp(-smp.I*(k*z - w*(t+tau)))\\n\\nE_t_tau = (E_1 + E_2_t)\\ndisplay(Math(r'E(t) = ' + smp.latex(E_t_tau)))\\n\\nE_0 = A_t*polar\\nE_gen = (E_0/smp.sqrt(2))*(1 + smp.exp(smp.I*d))*smp.exp(smp.I*(k*z - w*t))\\n\\ndisplay(Math(r'E(t+\\\\delta) = ' + smp.latex(E_gen)))\\neq3 = smp.Eq(E_t_tau.simplify(), E_gen)\\ndisplay(Math(smp.latex(eq3)))\\n\\neq4 = smp.solve(eq3, d)\\ndisplay(Math(smp.latex(eq4)))\\nd = eq4[0].factor().simplify()\\n\\ndisplay(Math(r'\\\\delta(t) = ' + smp.latex(d)))\\ndisplay(Math(r'\\\\delta(t) = ' + smp.latex((d.subs(tau, (w**2)/(2*smp.pi*sigma)).subs(z, sigma*c).subs(c, wavelength/frequency).subs(w, 2*smp.pi*frequency).subs(k, 2*smp.pi/wavelength)).factor().simplify().doit())))\\n\""
      ]
     },
     "execution_count": 22,
     "metadata": {},
     "output_type": "execute_result"
    }
   ],
   "source": [
    "\"\"\"\n",
    "E_1 = (1/smp.sqrt(2))*E_t\n",
    "E_2_t = (1/smp.sqrt(2))*A_tt*polar*smp.exp(-smp.I*(k*z - w*(t+tau)))\n",
    "\n",
    "E_t_tau = (E_1 + E_2_t)\n",
    "display(Math(r'E(t) = ' + smp.latex(E_t_tau)))\n",
    "\n",
    "E_0 = A_t*polar\n",
    "E_gen = (E_0/smp.sqrt(2))*(1 + smp.exp(smp.I*d))*smp.exp(smp.I*(k*z - w*t))\n",
    "\n",
    "display(Math(r'E(t+\\delta) = ' + smp.latex(E_gen)))\n",
    "eq3 = smp.Eq(E_t_tau.simplify(), E_gen)\n",
    "display(Math(smp.latex(eq3)))\n",
    "\n",
    "eq4 = smp.solve(eq3, d)\n",
    "display(Math(smp.latex(eq4)))\n",
    "d = eq4[0].factor().simplify()\n",
    "\n",
    "display(Math(r'\\delta(t) = ' + smp.latex(d)))\n",
    "display(Math(r'\\delta(t) = ' + smp.latex((d.subs(tau, (w**2)/(2*smp.pi*sigma)).subs(z, sigma*c).subs(c, wavelength/frequency).subs(w, 2*smp.pi*frequency).subs(k, 2*smp.pi/wavelength)).factor().simplify().doit())))\n",
    "\"\"\""
   ]
  },
  {
   "attachments": {},
   "cell_type": "markdown",
   "metadata": {},
   "source": [
    "Essaie une differente approche, trouve `delta` avec les exponentielles"
   ]
  },
  {
   "cell_type": "code",
   "execution_count": 23,
   "metadata": {},
   "outputs": [
    {
     "data": {
      "text/latex": [
       "$\\displaystyle i \\omega \\tau + \\frac{- \\tau^{2} - 2 \\tau t + \\frac{2 \\tau z}{c}}{4 \\sigma^{2}}$"
      ],
      "text/plain": [
       "<IPython.core.display.Math object>"
      ]
     },
     "metadata": {},
     "output_type": "display_data"
    },
    {
     "data": {
      "text/latex": [
       "$\\displaystyle i \\delta(t)$"
      ],
      "text/plain": [
       "<IPython.core.display.Math object>"
      ]
     },
     "metadata": {},
     "output_type": "display_data"
    },
    {
     "data": {
      "text/latex": [
       "$\\displaystyle i \\omega \\tau + \\frac{- \\tau^{2} - 2 \\tau t + \\frac{2 \\tau z}{c}}{4 \\sigma^{2}} = i \\delta(t)$"
      ],
      "text/plain": [
       "<IPython.core.display.Math object>"
      ]
     },
     "metadata": {},
     "output_type": "display_data"
    },
    {
     "data": {
      "text/latex": [
       "$\\displaystyle \\delta(t) = \\frac{\\tau \\left(4 \\omega \\sigma^{2} c + i c \\left(\\tau + 2 t\\right) - 2 i z\\right)}{4 \\sigma^{2} c}$"
      ],
      "text/plain": [
       "<IPython.core.display.Math object>"
      ]
     },
     "metadata": {},
     "output_type": "display_data"
    }
   ],
   "source": [
    "d = smp.symbols(r'\\delta(t)')\n",
    "eq5 = -(tau**2 +2*t*tau - 2*tau*z/c)/(4*sigma**2) + smp.I*w*tau\n",
    "eq6 = smp.I*d\n",
    "\n",
    "display(Math(smp.latex(eq5)))\n",
    "display(Math(smp.latex(eq6)))\n",
    "\n",
    "eq7 = smp.Eq(eq5, eq6)\n",
    "display(Math(smp.latex(eq7)))\n",
    "\n",
    "eq8 = (smp.solve(eq7, d))[0]\n",
    "display(Math(r'\\delta(t) = ' + smp.latex(eq8)))\n"
   ]
  },
  {
   "attachments": {},
   "cell_type": "markdown",
   "metadata": {},
   "source": [
    "Trouvons le g_1(t)"
   ]
  },
  {
   "cell_type": "code",
   "execution_count": 24,
   "metadata": {},
   "outputs": [
    {
     "data": {
      "text/latex": [
       "$\\displaystyle g^{(1)}(\\tau) = e^{\\tau \\left(i \\omega - \\frac{\\tau}{8 \\sigma^{2}}\\right)}$"
      ],
      "text/plain": [
       "<IPython.core.display.Math object>"
      ]
     },
     "metadata": {},
     "output_type": "display_data"
    }
   ],
   "source": [
    "G_1_TAU = smp.integrate(smp.conjugate(E_1)*E_2_tau, (t, -smp.oo, smp.oo))\n",
    "G_1_ZERO = smp.integrate(smp.conjugate(E_1)*E_1, (t, -smp.oo, smp.oo))\n",
    "\n",
    "g_1 = (G_1_TAU/G_1_ZERO).simplify()\n",
    "display(Math(r'g^{(1)}(\\tau) = ' + smp.latex(g_1)))"
   ]
  },
  {
   "cell_type": "code",
   "execution_count": 25,
   "metadata": {},
   "outputs": [
    {
     "data": {
      "text/latex": [
       "$\\displaystyle F(\\omega) = \\frac{\\sqrt{2} \\sigma e^{- 2 \\sigma^{2} \\left(\\omega + \\omega_{0}\\right)^{2}}}{\\sqrt{\\pi}}$"
      ],
      "text/plain": [
       "<IPython.core.display.Math object>"
      ]
     },
     "metadata": {},
     "output_type": "display_data"
    }
   ],
   "source": [
    "w_0 = smp.symbols(r'\\omega_0', real=True, positive=True)\n",
    "F_w = (1/(2*smp.pi)*smp.integrate(g_1*smp.exp(smp.I*w_0*tau), (tau, -smp.oo, smp.oo))).simplify()\n",
    "display(Math(r'F(\\omega) = ' + smp.latex(F_w)))"
   ]
  },
  {
   "cell_type": "code",
   "execution_count": 26,
   "metadata": {},
   "outputs": [
    {
     "data": {
      "text/latex": [
       "$\\displaystyle <\\hat{\\Omega}> = \\bra{F(\\omega)} \\hat{\\omega} \\ket{F(\\omega)} =- \\frac{\\omega_{0} \\sigma \\operatorname{erfc}{\\left(2 \\omega_{0} \\sigma \\right)}}{2 \\sqrt{\\pi}} + \\frac{e^{- 4 \\omega_{0}^{2} \\sigma^{2}}}{4 \\pi}$"
      ],
      "text/plain": [
       "<IPython.core.display.Math object>"
      ]
     },
     "metadata": {},
     "output_type": "display_data"
    }
   ],
   "source": [
    "w_moy = (smp.integrate(smp.conjugate(F_w)*w*F_w, (w, 0, smp.oo))).simplify()\n",
    "display(Math(r'<\\hat{\\Omega}> = \\bra{F(\\omega)} \\hat{\\omega} \\ket{F(\\omega)} =' +smp.latex(w_moy)))"
   ]
  },
  {
   "cell_type": "code",
   "execution_count": 27,
   "metadata": {},
   "outputs": [
    {
     "data": {
      "text/latex": [
       "$\\displaystyle E_{test_1} = \\frac{\\sqrt{2} \\left(e^{i \\phi} \\sin{\\left(\\theta \\right)} + \\cos{\\left(\\theta \\right)}\\right) e^{- i \\left(- \\omega t + k z\\right)}}{2}$"
      ],
      "text/plain": [
       "<IPython.core.display.Math object>"
      ]
     },
     "metadata": {},
     "output_type": "display_data"
    },
    {
     "data": {
      "text/latex": [
       "$\\displaystyle E_{test_2} = \\frac{\\sqrt{2} \\left(e^{i \\phi} \\sin{\\left(\\theta \\right)} + \\cos{\\left(\\theta \\right)}\\right) e^{- i \\left(- \\omega \\left(\\tau + t\\right) + k z\\right)}}{2}$"
      ],
      "text/plain": [
       "<IPython.core.display.Math object>"
      ]
     },
     "metadata": {},
     "output_type": "display_data"
    }
   ],
   "source": [
    "E_t_1 = (1/smp.sqrt(2))*polar*smp.exp(-smp.I*(k*z - w*t))\n",
    "E_t_2 = (1/smp.sqrt(2))*polar*smp.exp(-smp.I*(k*z - w*(t+tau)))\n",
    "\n",
    "display(Math(r'E_{test_1} = ' + smp.latex(E_t_1)))\n",
    "display(Math(r'E_{test_2} = ' + smp.latex(E_t_2)))"
   ]
  },
  {
   "cell_type": "code",
   "execution_count": 28,
   "metadata": {},
   "outputs": [
    {
     "data": {
      "text/latex": [
       "$\\displaystyle g^{(1)}(\\tau) = e^{i \\omega \\tau}$"
      ],
      "text/plain": [
       "<IPython.core.display.Math object>"
      ]
     },
     "metadata": {},
     "output_type": "display_data"
    }
   ],
   "source": [
    "#G_1_TAU = smp.integrate(smp.conjugate(E_t_1)*E_t_2, (t, -smp.oo, smp.oo))\n",
    "#G_1_ZERO = smp.integrate(smp.conjugate(E_t_1)*E_t_1, (t, -smp.oo, smp.oo))\n",
    "G_1_TAU = smp.conjugate(E_t_1)*E_t_2\n",
    "G_1_ZERO = smp.conjugate(E_t_1)*E_t_1\n",
    "\n",
    "\n",
    "g_1 = (G_1_TAU/G_1_ZERO).simplify()\n",
    "display(Math(r'g^{(1)}(\\tau) = ' + smp.latex(g_1)))"
   ]
  },
  {
   "cell_type": "code",
   "execution_count": 29,
   "metadata": {},
   "outputs": [
    {
     "data": {
      "text/latex": [
       "$\\displaystyle F(\\omega) = \\frac{\\begin{cases} 0 & \\text{for}\\: \\left|{\\arg{\\left(\\omega - \\omega_{0} \\right)} - \\frac{\\pi}{2}}\\right| < \\frac{\\pi}{2} \\wedge \\left|{\\arg{\\left(\\omega - \\omega_{0} \\right)} + \\frac{\\pi}{2}}\\right| < \\frac{\\pi}{2} \\\\\\int\\limits_{-\\infty}^{\\infty} e^{i \\tau \\left(\\omega - \\omega_{0}\\right)}\\, d\\tau & \\text{otherwise} \\end{cases}}{2 \\pi}$"
      ],
      "text/plain": [
       "<IPython.core.display.Math object>"
      ]
     },
     "metadata": {},
     "output_type": "display_data"
    }
   ],
   "source": [
    "w_0 = smp.symbols(r'\\omega_0', real=True, positive=True)\n",
    "F_w = ((1/(2*smp.pi)*(smp.integrate(g_1*smp.exp(-smp.I*w_0*tau), (tau, -smp.oo, smp.oo)))).simplify())\n",
    "display(Math(r'F(\\omega) = ' + smp.latex(F_w)))"
   ]
  },
  {
   "cell_type": "code",
   "execution_count": 30,
   "metadata": {},
   "outputs": [
    {
     "data": {
      "text/latex": [
       "$\\displaystyle <\\hat{\\Omega}> = \\bra{F(\\omega)} \\hat{\\omega} \\ket{F(\\omega)} =\\int\\limits_{0}^{\\infty} \\begin{cases} 0 & \\text{for}\\: \\left|{\\arg{\\left(\\omega - \\omega_{0} \\right)} - \\frac{\\pi}{2}}\\right| < \\frac{\\pi}{2} \\wedge \\left|{\\arg{\\left(\\omega - \\omega_{0} \\right)} + \\frac{\\pi}{2}}\\right| < \\frac{\\pi}{2} \\\\\\frac{\\omega \\left(\\overline{\\int\\limits_{-\\infty}^{\\infty} e^{i \\tau \\left(\\omega - \\omega_{0}\\right)}\\, d\\tau}\\right) \\int\\limits_{-\\infty}^{\\infty} e^{i \\tau \\left(\\omega - \\omega_{0}\\right)}\\, d\\tau}{4 \\pi^{2}} & \\text{otherwise} \\end{cases}\\, d\\omega$"
      ],
      "text/plain": [
       "<IPython.core.display.Math object>"
      ]
     },
     "metadata": {},
     "output_type": "display_data"
    }
   ],
   "source": [
    "w_moy = (smp.integrate(smp.conjugate(F_w)*w*F_w, (w, 0, smp.oo))).simplify()\n",
    "display(Math(r'<\\hat{\\Omega}> = \\bra{F(\\omega)} \\hat{\\omega} \\ket{F(\\omega)} =' +smp.latex(w_moy)))"
   ]
  }
 ],
 "metadata": {
  "kernelspec": {
   "display_name": "Python 3 (ipykernel)",
   "language": "python",
   "name": "python3"
  },
  "language_info": {
   "codemirror_mode": {
    "name": "ipython",
    "version": 3
   },
   "file_extension": ".py",
   "mimetype": "text/x-python",
   "name": "python",
   "nbconvert_exporter": "python",
   "pygments_lexer": "ipython3",
   "version": "3.11.3"
  }
 },
 "nbformat": 4,
 "nbformat_minor": 4
}
