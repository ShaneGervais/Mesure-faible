{
 "cells": [
  {
   "attachments": {},
   "cell_type": "markdown",
   "metadata": {},
   "source": [
    "Considérons un laser pulsé avec une distribution gaussienne. Le laser subit une interférence faible dont son état quantique sera décrit par la valeur faible. Dans ce calepin nous voulons trouver la relation du décalage des polarisations en fonction de la différence de parcours temporelle."
   ]
  },
  {
   "cell_type": "code",
   "execution_count": 150,
   "metadata": {},
   "outputs": [],
   "source": [
    "import sympy as smp\n",
    "from IPython.display import Math"
   ]
  },
  {
   "cell_type": "code",
   "execution_count": 151,
   "metadata": {},
   "outputs": [],
   "source": [
    "t = smp.symbols('t', real=True)\n",
    "w = smp.symbols(r'\\omega', real=True, positive=True)\n",
    "tau = smp.symbols(r'\\tau', real=True)\n",
    "z = smp.symbols('z', real=True)\n",
    "sigma = smp.symbols(r'\\sigma', real=True, positive=True)\n",
    "k = smp.symbols('k', real=True)\n",
    "c = smp.symbols('c', constant=True, real=True, positive=True)\n",
    "varphi = smp.symbols(r'\\varphi')\n",
    "theta = smp.symbols(r'\\theta', real=True)\n",
    "phi = smp.symbols(r'\\phi', real=True)\n",
    "U = smp.symbols(r'\\hat{U}')\n",
    "d = smp.symbols(r'\\delta(t)')\n",
    "wavelength = smp.symbols(r'\\lambda', real=True, positive=True)\n",
    "frequency = smp.symbols('f', real=True, positive=True)\n",
    "w_0 = smp.symbols(r'\\omega_0', real=True, positive=True)"
   ]
  },
  {
   "attachments": {},
   "cell_type": "markdown",
   "metadata": {},
   "source": [
    "Distribution gaussienne du pointeur temporelle"
   ]
  },
  {
   "cell_type": "code",
   "execution_count": 152,
   "metadata": {},
   "outputs": [
    {
     "data": {
      "text/latex": [
       "$\\displaystyle A(t) = \\frac{2^{\\frac{3}{4}} e^{- \\frac{\\left(t - \\frac{z}{c}\\right)^{2}}{4 \\sigma^{2}}}}{2 \\sqrt[4]{\\pi} \\sqrt{\\sigma}}$"
      ],
      "text/plain": [
       "<IPython.core.display.Math object>"
      ]
     },
     "metadata": {},
     "output_type": "display_data"
    }
   ],
   "source": [
    "A_t = smp.sqrt(1/(smp.sqrt(2*smp.pi)*sigma))*smp.exp(-((t-z/c)**2)/(4*sigma**2))\n",
    "display(Math('A(t) = ' + smp.latex(A_t)))"
   ]
  },
  {
   "cell_type": "code",
   "execution_count": 153,
   "metadata": {},
   "outputs": [
    {
     "data": {
      "text/latex": [
       "$\\displaystyle \\varphi(t) =e^{i \\phi} \\sin{\\left(\\theta \\right)} + \\cos{\\left(\\theta \\right)}$"
      ],
      "text/plain": [
       "<IPython.core.display.Math object>"
      ]
     },
     "metadata": {},
     "output_type": "display_data"
    }
   ],
   "source": [
    "polar = smp.cos(theta) + smp.sin(theta)*smp.exp(smp.I*phi)\n",
    "display(Math(r'\\varphi(t) =' + smp.latex(polar)))"
   ]
  },
  {
   "attachments": {},
   "cell_type": "markdown",
   "metadata": {},
   "source": [
    "Le champ électrique de notre état quantique"
   ]
  },
  {
   "cell_type": "code",
   "execution_count": 154,
   "metadata": {},
   "outputs": [
    {
     "data": {
      "text/latex": [
       "$\\displaystyle |E(t)> = \\frac{2^{\\frac{3}{4}} \\left(e^{i \\phi} \\sin{\\left(\\theta \\right)} + \\cos{\\left(\\theta \\right)}\\right) e^{i \\left(- \\omega_{0} t + k z\\right)} e^{- \\frac{\\left(t - \\frac{z}{c}\\right)^{2}}{4 \\sigma^{2}}}}{2 \\sqrt[4]{\\pi} \\sqrt{\\sigma}}$"
      ],
      "text/plain": [
       "<IPython.core.display.Math object>"
      ]
     },
     "metadata": {},
     "output_type": "display_data"
    }
   ],
   "source": [
    "E_t = A_t*polar*smp.exp(smp.I*(k*z - w_0*t))\n",
    "display(Math('|E(t)> = ' + smp.latex(E_t)))"
   ]
  },
  {
   "attachments": {},
   "cell_type": "markdown",
   "metadata": {},
   "source": [
    "Faisons passer ce champ dans un séparateur de faisceau dont que une de ces faisceaux séparée parcours un trajet plus long que l'autre qui introduit un délais temporel soit `tau`"
   ]
  },
  {
   "cell_type": "code",
   "execution_count": 155,
   "metadata": {},
   "outputs": [
    {
     "data": {
      "text/latex": [
       "$\\displaystyle E_{1}(t) = \\frac{\\sqrt[4]{2} \\left(e^{i \\phi} \\sin{\\left(\\theta \\right)} + \\cos{\\left(\\theta \\right)}\\right) e^{i \\left(- \\omega_{0} t + k z\\right)} e^{- \\frac{\\left(t - \\frac{z}{c}\\right)^{2}}{4 \\sigma^{2}}}}{2 \\sqrt[4]{\\pi} \\sqrt{\\sigma}}$"
      ],
      "text/plain": [
       "<IPython.core.display.Math object>"
      ]
     },
     "metadata": {},
     "output_type": "display_data"
    },
    {
     "data": {
      "text/latex": [
       "$\\displaystyle E_{2}(t) = \\frac{\\sqrt[4]{2} \\left(e^{i \\phi} \\sin{\\left(\\theta \\right)} + \\cos{\\left(\\theta \\right)}\\right) e^{i \\left(- \\omega_{0} t + k z\\right)} e^{- \\frac{\\left(t - \\frac{z}{c}\\right)^{2}}{4 \\sigma^{2}}}}{2 \\sqrt[4]{\\pi} \\sqrt{\\sigma}}$"
      ],
      "text/plain": [
       "<IPython.core.display.Math object>"
      ]
     },
     "metadata": {},
     "output_type": "display_data"
    },
    {
     "data": {
      "text/latex": [
       "$\\displaystyle A(t) = \\frac{2^{\\frac{3}{4}} e^{- \\frac{\\left(\\tau + t - \\frac{z}{c}\\right)^{2}}{4 \\sigma^{2}}}}{2 \\sqrt[4]{\\pi} \\sqrt{\\sigma}}$"
      ],
      "text/plain": [
       "<IPython.core.display.Math object>"
      ]
     },
     "metadata": {},
     "output_type": "display_data"
    },
    {
     "data": {
      "text/latex": [
       "$\\displaystyle E_{2}(t + \\tau) = \\frac{\\sqrt[4]{2} \\left(e^{i \\phi} \\sin{\\left(\\theta \\right)} + \\cos{\\left(\\theta \\right)}\\right) e^{- \\frac{\\tau^{2}}{4 \\sigma^{2}}} e^{- \\frac{t^{2}}{4 \\sigma^{2}}} e^{- i \\omega_{0} \\tau} e^{- i \\omega_{0} t} e^{i k z} e^{- \\frac{\\tau t}{2 \\sigma^{2}}} e^{- \\frac{z^{2}}{4 \\sigma^{2} c^{2}}} e^{\\frac{\\tau z}{2 \\sigma^{2} c}} e^{\\frac{t z}{2 \\sigma^{2} c}}}{2 \\sqrt[4]{\\pi} \\sqrt{\\sigma}}$"
      ],
      "text/plain": [
       "<IPython.core.display.Math object>"
      ]
     },
     "metadata": {},
     "output_type": "display_data"
    },
    {
     "data": {
      "text/latex": [
       "$\\displaystyle \\frac{\\sqrt[4]{2} \\hat{U} \\left(e^{i \\phi} \\sin{\\left(\\theta \\right)} + \\cos{\\left(\\theta \\right)}\\right) e^{i \\left(- \\omega_{0} t + k z\\right)} e^{- \\frac{\\left(t - \\frac{z}{c}\\right)^{2}}{4 \\sigma^{2}}}}{2 \\sqrt[4]{\\pi} \\sqrt{\\sigma}} = \\frac{\\sqrt[4]{2} \\left(e^{i \\phi} \\sin{\\left(\\theta \\right)} + \\cos{\\left(\\theta \\right)}\\right) e^{i \\left(- \\omega_{0} \\left(\\tau + t\\right) + k z\\right)} e^{- \\frac{\\left(\\tau + t - \\frac{z}{c}\\right)^{2}}{4 \\sigma^{2}}}}{2 \\sqrt[4]{\\pi} \\sqrt{\\sigma}}$"
      ],
      "text/plain": [
       "<IPython.core.display.Math object>"
      ]
     },
     "metadata": {},
     "output_type": "display_data"
    },
    {
     "data": {
      "text/latex": [
       "$\\displaystyle \\hat{U} = e^{\\frac{- 4 i \\omega_{0} \\sigma^{2} \\tau c^{2} + \\left(c t - z\\right)^{2} - \\left(c \\left(\\tau + t\\right) - z\\right)^{2}}{4 \\sigma^{2} c^{2}}}$"
      ],
      "text/plain": [
       "<IPython.core.display.Math object>"
      ]
     },
     "metadata": {},
     "output_type": "display_data"
    },
    {
     "data": {
      "text/latex": [
       "$\\displaystyle E_{2}(t+\\tau) = \\hat{U}E_{2}(t) = \\frac{\\sqrt[4]{2} \\left(e^{i \\phi} \\sin{\\left(\\theta \\right)} + \\cos{\\left(\\theta \\right)}\\right) e^{- \\frac{\\tau^{2}}{4 \\sigma^{2}}} e^{- \\frac{t^{2}}{4 \\sigma^{2}}} e^{- i \\omega_{0} \\tau} e^{- i \\omega_{0} t} e^{i k z} e^{- \\frac{\\tau t}{2 \\sigma^{2}}} e^{- \\frac{z^{2}}{4 \\sigma^{2} c^{2}}} e^{\\frac{\\tau z}{2 \\sigma^{2} c}} e^{\\frac{t z}{2 \\sigma^{2} c}}}{2 \\sqrt[4]{\\pi} \\sqrt{\\sigma}}$"
      ],
      "text/plain": [
       "<IPython.core.display.Math object>"
      ]
     },
     "metadata": {},
     "output_type": "display_data"
    },
    {
     "data": {
      "text/latex": [
       "$\\displaystyle \\delta(t) = \\frac{i \\left(4 \\sigma^{2} c \\log{\\left(e^{- i \\omega_{0} \\tau} \\right)} - \\tau^{2} c - 2 \\tau c t + 2 \\tau z\\right)}{4 \\sigma^{2} c}$"
      ],
      "text/plain": [
       "<IPython.core.display.Math object>"
      ]
     },
     "metadata": {},
     "output_type": "display_data"
    }
   ],
   "source": [
    "E_1 = (1/smp.sqrt(2))*E_t\n",
    "E_2 = (1/smp.sqrt(2))*E_t\n",
    "display(Math(r'E_{1}(t) = ' + smp.latex(E_1)))\n",
    "display(Math(r'E_{2}(t) = ' + smp.latex(E_2)))\n",
    "\n",
    "A_tt = smp.sqrt(1/(smp.sqrt(2*smp.pi)*sigma))*smp.exp(-((t-z/c +tau)**2)/(4*sigma**2))\n",
    "display(Math('A(t) = ' + smp.latex(A_tt)))\n",
    "\n",
    "E_22 = (1/smp.sqrt(2))*A_tt*polar*smp.exp(smp.I*(k*z - w_0*(t+tau)))\n",
    "display(Math(r'E_{2}(t + \\tau) = ' + smp.latex(E_22.simplify().factor()))) #simplify and factor to show (visually) E_22 and E_2_tau are the same\n",
    "\n",
    "eq1 = smp.Eq(U*E_2, E_22)\n",
    "display(Math(smp.latex(eq1)))\n",
    "eq2 = smp.solve(eq1, U)\n",
    "U = eq2[0].simplify()\n",
    "display(Math(r'\\hat{U} = ' + smp.latex(U)))\n",
    "\n",
    "E_2_tau = (U*(1/smp.sqrt(2))*E_t).simplify().factor()\n",
    "display(Math(r'E_{2}(t+\\tau) = \\hat{U}E_{2}(t) = ' + smp.latex(E_2_tau)))\n",
    "\n",
    "delta = ((smp.ln(U))/(-smp.I)).simplify().expand().factor()\n",
    "display(Math(r'\\delta(t) = ' + smp.latex(delta)))"
   ]
  },
  {
   "attachments": {},
   "cell_type": "markdown",
   "metadata": {},
   "source": [
    "Essaie une differente approche, trouve `delta` avec les exponentielles"
   ]
  },
  {
   "cell_type": "code",
   "execution_count": 156,
   "metadata": {},
   "outputs": [
    {
     "data": {
      "text/latex": [
       "$\\displaystyle i \\omega_{0} \\tau + \\frac{- \\tau^{2} - 2 \\tau t + \\frac{2 \\tau z}{c}}{4 \\sigma^{2}}$"
      ],
      "text/plain": [
       "<IPython.core.display.Math object>"
      ]
     },
     "metadata": {},
     "output_type": "display_data"
    },
    {
     "data": {
      "text/latex": [
       "$\\displaystyle i \\delta(t)$"
      ],
      "text/plain": [
       "<IPython.core.display.Math object>"
      ]
     },
     "metadata": {},
     "output_type": "display_data"
    },
    {
     "data": {
      "text/latex": [
       "$\\displaystyle i \\omega_{0} \\tau + \\frac{- \\tau^{2} - 2 \\tau t + \\frac{2 \\tau z}{c}}{4 \\sigma^{2}} = i \\delta(t)$"
      ],
      "text/plain": [
       "<IPython.core.display.Math object>"
      ]
     },
     "metadata": {},
     "output_type": "display_data"
    },
    {
     "data": {
      "text/latex": [
       "$\\displaystyle \\delta(t) = \\frac{i \\tau \\left(4 \\omega_{0} \\sigma^{2} c + i c \\left(\\tau + 2 t\\right) - 2 i z\\right)}{4 \\sigma^{2} c}$"
      ],
      "text/plain": [
       "<IPython.core.display.Math object>"
      ]
     },
     "metadata": {},
     "output_type": "display_data"
    }
   ],
   "source": [
    "d = smp.symbols(r'\\delta(t)')\n",
    "eq5 = -(tau**2 +2*t*tau - 2*tau*z/c)/(4*sigma**2) + smp.I*w_0*tau\n",
    "eq6 = smp.I*d\n",
    "\n",
    "display(Math(smp.latex(eq5)))\n",
    "display(Math(smp.latex(eq6)))\n",
    "\n",
    "eq7 = smp.Eq(eq5, eq6)\n",
    "display(Math(smp.latex(eq7)))\n",
    "\n",
    "eq8 = (smp.solve(eq7, d))[0]\n",
    "display(Math(r'\\delta(t) = ' + smp.latex(eq8*smp.I.expand())))\n"
   ]
  },
  {
   "attachments": {},
   "cell_type": "markdown",
   "metadata": {},
   "source": [
    "Trouvons le g_1(t)"
   ]
  },
  {
   "cell_type": "code",
   "execution_count": 157,
   "metadata": {},
   "outputs": [
    {
     "data": {
      "text/latex": [
       "$\\displaystyle G(\\tau) = \\frac{\\left(\\frac{e^{2 i \\phi} \\sin{\\left(2 \\theta \\right)}}{2} + e^{i \\phi} + \\frac{\\sin{\\left(2 \\theta \\right)}}{2}\\right) e^{- i \\omega_{0} \\tau - i \\phi - \\frac{\\tau^{2}}{8 \\sigma^{2}}}}{2}$"
      ],
      "text/plain": [
       "<IPython.core.display.Math object>"
      ]
     },
     "metadata": {},
     "output_type": "display_data"
    },
    {
     "data": {
      "text/latex": [
       "$\\displaystyle G(0) = \\frac{\\left(e^{i \\phi} \\sin{\\left(\\theta \\right)} + \\cos{\\left(\\theta \\right)}\\right) \\left(e^{i \\phi} \\cos{\\left(\\theta \\right)} + \\sin{\\left(\\theta \\right)}\\right) e^{- i \\phi}}{2}$"
      ],
      "text/plain": [
       "<IPython.core.display.Math object>"
      ]
     },
     "metadata": {},
     "output_type": "display_data"
    },
    {
     "data": {
      "text/latex": [
       "$\\displaystyle g^{(1)}(\\tau) = e^{- i \\omega_{0} \\tau - \\frac{\\tau^{2}}{8 \\sigma^{2}}}$"
      ],
      "text/plain": [
       "<IPython.core.display.Math object>"
      ]
     },
     "metadata": {},
     "output_type": "display_data"
    }
   ],
   "source": [
    "G_1_TAU = (smp.integrate(smp.conjugate(E_1)*E_2_tau, (t, -smp.oo, smp.oo))).simplify()\n",
    "display(Math(r'G(\\tau) = ' + smp.latex(G_1_TAU)))\n",
    "G_1_ZERO = smp.integrate(smp.conjugate(E_1)*E_1, (t, -smp.oo, smp.oo))\n",
    "display(Math(r'G(0) = ' + smp.latex(G_1_ZERO.simplify())))\n",
    "\n",
    "g_1 = (G_1_TAU/G_1_ZERO).simplify()\n",
    "display(Math(r'g^{(1)}(\\tau) = ' + smp.latex(g_1)))"
   ]
  },
  {
   "cell_type": "code",
   "execution_count": 158,
   "metadata": {},
   "outputs": [
    {
     "data": {
      "text/latex": [
       "$\\displaystyle \\tau_c = \\sqrt{2} \\sqrt{\\pi} \\sigma$"
      ],
      "text/plain": [
       "<IPython.core.display.Math object>"
      ]
     },
     "metadata": {},
     "output_type": "display_data"
    }
   ],
   "source": [
    "tau_c = smp.integrate((smp.conjugate(g_1)*g_1)**2, (tau, -smp.oo, smp.oo))\n",
    "display(Math(r'\\tau_c = ' + smp.latex(tau_c)))"
   ]
  },
  {
   "cell_type": "code",
   "execution_count": 159,
   "metadata": {},
   "outputs": [
    {
     "data": {
      "text/latex": [
       "$\\displaystyle S(\\omega) = \\frac{\\sqrt{2} \\sqrt{\\pi} \\sigma \\left(e^{2 i \\phi} \\sin{\\left(2 \\theta \\right)} + 2 e^{i \\phi} + \\sin{\\left(2 \\theta \\right)}\\right) e^{- 2 \\omega^{2} \\sigma^{2} - 4 \\omega \\omega_{0} \\sigma^{2} - 2 \\omega_{0}^{2} \\sigma^{2} - i \\phi}}{2}$"
      ],
      "text/plain": [
       "<IPython.core.display.Math object>"
      ]
     },
     "metadata": {},
     "output_type": "display_data"
    }
   ],
   "source": [
    "#using the autocorrelation function\n",
    "S = (smp.integrate(G_1_TAU*smp.exp(-smp.I*w*tau), (tau, -smp.oo, smp.oo))).simplify()\n",
    "display(Math(r'S(\\omega) = ' + smp.latex(S)))"
   ]
  },
  {
   "cell_type": "code",
   "execution_count": 160,
   "metadata": {},
   "outputs": [
    {
     "data": {
      "text/latex": [
       "$\\displaystyle \\Delta\\omega = \\frac{\\sqrt{\\pi}}{\\sigma}$"
      ],
      "text/plain": [
       "<IPython.core.display.Math object>"
      ]
     },
     "metadata": {},
     "output_type": "display_data"
    }
   ],
   "source": [
    "dw = (((smp.integrate(S, (w, -smp.oo, smp.oo)))**2)/(smp.integrate(S**2, (w, -smp.oo, smp.oo)))).simplify()\n",
    "display(Math(r'\\Delta\\omega = ' + smp.latex(dw)))"
   ]
  },
  {
   "cell_type": "code",
   "execution_count": 161,
   "metadata": {},
   "outputs": [
    {
     "data": {
      "text/latex": [
       "$\\displaystyle <\\hat{\\Omega}> = \\bra{F(\\omega)} \\hat{\\omega} \\ket{F(\\omega)} =- \\frac{\\pi \\left(2 \\sqrt{\\pi} \\omega_{0} \\sigma e^{4 \\omega_{0}^{2} \\sigma^{2}} \\operatorname{erfc}{\\left(2 \\omega_{0} \\sigma \\right)} - 1\\right) \\left(\\frac{e^{2 i \\phi} \\sin{\\left(2 \\theta \\right)}}{2} + e^{i \\phi} + \\frac{\\sin{\\left(2 \\theta \\right)}}{2}\\right)^{2} e^{- 4 \\omega_{0}^{2} \\sigma^{2} - 2 i \\phi}}{4}$"
      ],
      "text/plain": [
       "<IPython.core.display.Math object>"
      ]
     },
     "metadata": {},
     "output_type": "display_data"
    }
   ],
   "source": [
    "w_moy = (smp.integrate(smp.conjugate(S)*w*S, (w, 0, smp.oo))).simplify()\n",
    "display(Math(r'<\\hat{\\Omega}> = \\bra{F(\\omega)} \\hat{\\omega} \\ket{F(\\omega)} =' +smp.latex(w_moy)))"
   ]
  },
  {
   "cell_type": "code",
   "execution_count": 163,
   "metadata": {},
   "outputs": [
    {
     "data": {
      "text/latex": [
       "$\\displaystyle F(\\omega) = \\frac{\\sqrt{2} \\sigma e^{- 2 \\sigma^{2} \\left(\\omega - \\omega_{0}\\right)^{2}}}{\\sqrt{\\pi}}$"
      ],
      "text/plain": [
       "<IPython.core.display.Math object>"
      ]
     },
     "metadata": {},
     "output_type": "display_data"
    },
    {
     "data": {
      "text/latex": [
       "$\\displaystyle 1$"
      ],
      "text/plain": [
       "<IPython.core.display.Math object>"
      ]
     },
     "metadata": {},
     "output_type": "display_data"
    }
   ],
   "source": [
    "F_w = (1/(2*smp.pi)*smp.integrate(g_1*smp.exp(smp.I*w*tau), (tau, -smp.oo, smp.oo))).simplify()\n",
    "display(Math(r'F(\\omega) = ' + smp.latex(F_w)))"
   ]
  },
  {
   "cell_type": "code",
   "execution_count": 164,
   "metadata": {},
   "outputs": [
    {
     "data": {
      "text/latex": [
       "$\\displaystyle <\\hat{\\Omega}> = \\bra{F(\\omega)} \\hat{\\omega} \\ket{F(\\omega)} =- \\frac{\\omega_{0} \\sigma \\operatorname{erfc}{\\left(2 \\omega_{0} \\sigma \\right)}}{2 \\sqrt{\\pi}} + \\frac{\\omega_{0} \\sigma}{\\sqrt{\\pi}} + \\frac{e^{- 4 \\omega_{0}^{2} \\sigma^{2}}}{4 \\pi}$"
      ],
      "text/plain": [
       "<IPython.core.display.Math object>"
      ]
     },
     "metadata": {},
     "output_type": "display_data"
    }
   ],
   "source": [
    "w_moy = (smp.integrate(smp.conjugate(F_w)*w*F_w, (w, 0, smp.oo))).simplify()\n",
    "display(Math(r'<\\hat{\\Omega}> = \\bra{F(\\omega)} \\hat{\\omega} \\ket{F(\\omega)} =' +smp.latex(w_moy)))"
   ]
  },
  {
   "cell_type": "code",
   "execution_count": 165,
   "metadata": {},
   "outputs": [
    {
     "data": {
      "text/plain": [
       "\"\\nE_t_1 = (1/smp.sqrt(2))*polar*smp.exp(-smp.I*(k*z - w*t))\\nE_t_2 = (1/smp.sqrt(2))*polar*smp.exp(-smp.I*(k*z - w*(t+tau)))\\n\\ndisplay(Math(r'E_{test_1} = ' + smp.latex(E_t_1)))\\ndisplay(Math(r'E_{test_2} = ' + smp.latex(E_t_2)))\\n\""
      ]
     },
     "execution_count": 165,
     "metadata": {},
     "output_type": "execute_result"
    }
   ],
   "source": [
    "\"\"\"\n",
    "E_t_1 = (1/smp.sqrt(2))*polar*smp.exp(-smp.I*(k*z - w*t))\n",
    "E_t_2 = (1/smp.sqrt(2))*polar*smp.exp(-smp.I*(k*z - w*(t+tau)))\n",
    "\n",
    "display(Math(r'E_{test_1} = ' + smp.latex(E_t_1)))\n",
    "display(Math(r'E_{test_2} = ' + smp.latex(E_t_2)))\n",
    "\"\"\""
   ]
  },
  {
   "cell_type": "code",
   "execution_count": 166,
   "metadata": {},
   "outputs": [
    {
     "data": {
      "text/plain": [
       "\"\\n#G_1_TAU = smp.integrate(smp.conjugate(E_t_1)*E_t_2, (t, -smp.oo, smp.oo))\\n#G_1_ZERO = smp.integrate(smp.conjugate(E_t_1)*E_t_1, (t, -smp.oo, smp.oo))\\nG_1_TAU = smp.conjugate(E_t_1)*E_t_2\\nG_1_ZERO = smp.conjugate(E_t_1)*E_t_1\\n\\n\\ng_1 = (G_1_TAU/G_1_ZERO).simplify()\\ndisplay(Math(r'g^{(1)}(\\tau) = ' + smp.latex(g_1)))\\n\""
      ]
     },
     "execution_count": 166,
     "metadata": {},
     "output_type": "execute_result"
    }
   ],
   "source": [
    "\"\"\"\n",
    "#G_1_TAU = smp.integrate(smp.conjugate(E_t_1)*E_t_2, (t, -smp.oo, smp.oo))\n",
    "#G_1_ZERO = smp.integrate(smp.conjugate(E_t_1)*E_t_1, (t, -smp.oo, smp.oo))\n",
    "G_1_TAU = smp.conjugate(E_t_1)*E_t_2\n",
    "G_1_ZERO = smp.conjugate(E_t_1)*E_t_1\n",
    "\n",
    "\n",
    "g_1 = (G_1_TAU/G_1_ZERO).simplify()\n",
    "display(Math(r'g^{(1)}(\\tau) = ' + smp.latex(g_1)))\n",
    "\"\"\""
   ]
  },
  {
   "cell_type": "code",
   "execution_count": 167,
   "metadata": {},
   "outputs": [
    {
     "data": {
      "text/plain": [
       "\"\\nw_0 = smp.symbols(r'\\\\omega_0', real=True, positive=True)\\nF_w = ((1/(2*smp.pi)*(smp.integrate(g_1*smp.exp(-smp.I*w_0*tau), (tau, -smp.oo, smp.oo)))).simplify())\\ndisplay(Math(r'F(\\\\omega) = ' + smp.latex(F_w)))\\n\""
      ]
     },
     "execution_count": 167,
     "metadata": {},
     "output_type": "execute_result"
    }
   ],
   "source": [
    "\"\"\"\n",
    "w_0 = smp.symbols(r'\\omega_0', real=True, positive=True)\n",
    "F_w = ((1/(2*smp.pi)*(smp.integrate(g_1*smp.exp(-smp.I*w_0*tau), (tau, -smp.oo, smp.oo)))).simplify())\n",
    "display(Math(r'F(\\omega) = ' + smp.latex(F_w)))\n",
    "\"\"\""
   ]
  },
  {
   "cell_type": "code",
   "execution_count": 168,
   "metadata": {},
   "outputs": [
    {
     "data": {
      "text/plain": [
       "\"\\nw_moy = (smp.integrate(smp.conjugate(F_w)*w*F_w, (w, 0, smp.oo))).simplify()\\ndisplay(Math(r'<\\\\hat{\\\\Omega}> = \\x08ra{F(\\\\omega)} \\\\hat{\\\\omega} \\\\ket{F(\\\\omega)} =' +smp.latex(w_moy)))\\n\""
      ]
     },
     "execution_count": 168,
     "metadata": {},
     "output_type": "execute_result"
    }
   ],
   "source": [
    "\"\"\"\n",
    "w_moy = (smp.integrate(smp.conjugate(F_w)*w*F_w, (w, 0, smp.oo))).simplify()\n",
    "display(Math(r'<\\hat{\\Omega}> = \\bra{F(\\omega)} \\hat{\\omega} \\ket{F(\\omega)} =' +smp.latex(w_moy)))\n",
    "\"\"\""
   ]
  }
 ],
 "metadata": {
  "kernelspec": {
   "display_name": "Python 3 (ipykernel)",
   "language": "python",
   "name": "python3"
  },
  "language_info": {
   "codemirror_mode": {
    "name": "ipython",
    "version": 3
   },
   "file_extension": ".py",
   "mimetype": "text/x-python",
   "name": "python",
   "nbconvert_exporter": "python",
   "pygments_lexer": "ipython3",
   "version": "3.11.3"
  }
 },
 "nbformat": 4,
 "nbformat_minor": 4
}
