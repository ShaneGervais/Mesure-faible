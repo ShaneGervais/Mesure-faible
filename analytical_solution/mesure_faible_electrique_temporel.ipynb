{
 "cells": [
  {
   "attachments": {},
   "cell_type": "markdown",
   "metadata": {},
   "source": [
    "Calcul analytique de la partie réel et imaginaire de la valeur faible d'un systèm d'optique quantique.\n",
    "\n",
    "\n",
    "Le système contient un laser pulsé avec un profil gaussien temporel qui est préparé avec une lame demi onde et quart d'onde. L'impulsion subit une mesure faible sur sa partie horizontale de l'état de polarisation presenté par un décalage temporel. Ensuite,  l'impulsion est projecter avec l'état de polairsation diagonale."
   ]
  },
  {
   "cell_type": "code",
   "execution_count": 14,
   "metadata": {},
   "outputs": [
    {
     "name": "stdout",
     "output_type": "stream",
     "text": [
      "IPython console for SymPy 1.11.1 (Python 3.11.3-64-bit) (ground types: python)\n",
      "\n",
      "These commands were executed:\n",
      ">>> from sympy import *\n",
      ">>> x, y, z, t = symbols('x y z t')\n",
      ">>> k, m, n = symbols('k m n', integer=True)\n",
      ">>> f, g, h = symbols('f g h', cls=Function)\n",
      ">>> init_printing()\n",
      "\n",
      "Documentation can be found at https://docs.sympy.org/1.11.1/\n",
      "\n"
     ]
    }
   ],
   "source": [
    "#sympy pour effectuer les calcules\n",
    "import sympy as smp\n",
    "from IPython.display import display, Math\n",
    "smp.init_session()"
   ]
  },
  {
   "cell_type": "code",
   "execution_count": 15,
   "metadata": {},
   "outputs": [],
   "source": [
    "a = smp.symbols('a', real=False, complex = True)\n",
    "t = smp.symbols('t', real=True)\n",
    "o = smp.symbols(r'\\sigma', real=True, positive = True)\n",
    "b = smp.symbols('b', real=False, complex = True)\n",
    "d = smp.symbols(r'\\delta', real=True)\n",
    "z = smp.symbols('z', real=True)\n",
    "k = smp.symbols('k', real=True, positive=True)\n",
    "w = smp.symbols(r'\\omega', real=True, positive=True)\n",
    "tau = smp.symbols(r'\\tau', real=True)\n",
    "c = smp.symbols('c', real=True, positive=True, constant=True)"
   ]
  },
  {
   "cell_type": "code",
   "execution_count": 16,
   "metadata": {},
   "outputs": [
    {
     "data": {
      "text/latex": [
       "$\\displaystyle A(t) = \\frac{2^{\\frac{3}{4}} e^{- \\frac{\\left(t - \\frac{z}{c}\\right)^{2}}{4 \\sigma^{2}}}}{2 \\sqrt[4]{\\pi} \\sqrt{\\sigma}}$"
      ],
      "text/plain": [
       "<IPython.core.display.Math object>"
      ]
     },
     "metadata": {},
     "output_type": "display_data"
    },
    {
     "data": {
      "text/latex": [
       "$\\displaystyle |\\xi(z,t)> = \\frac{2^{\\frac{3}{4}} e^{i \\left(- \\omega t + k z\\right)} e^{- \\frac{\\left(t - \\frac{z}{c}\\right)^{2}}{4 \\sigma^{2}}}}{2 \\sqrt[4]{\\pi} \\sqrt{\\sigma}}$"
      ],
      "text/plain": [
       "<IPython.core.display.Math object>"
      ]
     },
     "metadata": {},
     "output_type": "display_data"
    },
    {
     "data": {
      "text/latex": [
       "$\\displaystyle |\\varphi(\\theta, \\phi)> = a |H> + b |V>$"
      ],
      "text/plain": [
       "<IPython.core.display.Math object>"
      ]
     },
     "metadata": {},
     "output_type": "display_data"
    },
    {
     "data": {
      "text/latex": [
       "$\\displaystyle |E(z,t)> = |\\varphi(\\theta, \\phi)> \\otimes |\\xi(z,t)>$"
      ],
      "text/plain": [
       "<IPython.core.display.Math object>"
      ]
     },
     "metadata": {},
     "output_type": "display_data"
    }
   ],
   "source": [
    "#Fonction gaussien\n",
    "A = (smp.sqrt(1/((smp.sqrt(2*smp.pi))*o)))*smp.exp(-((t-z/c)**2)/(4*o**2))\n",
    "display(Math('A(t) = '+smp.latex(A)))\n",
    "\n",
    "xi = A*smp.exp(smp.I*(k*z - w*t))\n",
    "display(Math(r'|\\xi(z,t)> = '+smp.latex(xi)))\n",
    "\n",
    "#intiallement\n",
    "phi = a + b\n",
    "H = smp.symbols('|H>')\n",
    "V = smp.symbols('|V>')\n",
    "display(Math(r'|\\varphi(\\theta, \\phi)> = ' +smp.latex(a*H + b*V)))\n",
    "display(Math(r'|E(z,t)> = |\\varphi(\\theta, \\phi)> \\otimes |\\xi(z,t)>'))"
   ]
  },
  {
   "cell_type": "code",
   "execution_count": 17,
   "metadata": {},
   "outputs": [
    {
     "data": {
      "text/latex": [
       "$\\displaystyle |\\xi_{f}(z,t+\\tau)> = \\frac{2^{\\frac{3}{4}} e^{i \\left(- \\omega \\left(\\tau + t - \\frac{z}{c}\\right) + k z\\right)} e^{- \\frac{\\left(\\tau + t - \\frac{z}{c}\\right)^{2}}{4 \\sigma^{2}}}}{2 \\sqrt[4]{\\pi} \\sqrt{\\sigma}}$"
      ],
      "text/plain": [
       "<IPython.core.display.Math object>"
      ]
     },
     "metadata": {},
     "output_type": "display_data"
    }
   ],
   "source": [
    "#decalage (mesure faible) sur H\n",
    "A_f = (smp.sqrt(1/((smp.sqrt(2*smp.pi))*o)))*smp.exp(-((t-z/c+tau)**2)/(4*o**2))\n",
    "xi_f = A_f*smp.exp(smp.I*(k*z - w*(t-z/c+tau)))\n",
    "display(Math(r'|\\xi_{f}(z,t+\\tau)> = ' +smp.latex(xi_f)))"
   ]
  },
  {
   "attachments": {},
   "cell_type": "markdown",
   "metadata": {},
   "source": [
    "Ici nous effectuons notre procédure de caractérsation faible et pusique trouver l'expression du opérateur d'intéraction"
   ]
  },
  {
   "cell_type": "code",
   "execution_count": 18,
   "metadata": {},
   "outputs": [
    {
     "data": {
      "text/latex": [
       "$\\displaystyle |E_{i}(z,t)> = \\frac{2^{\\frac{3}{4}} \\left(a + b\\right) e^{i \\left(- \\omega t + k z\\right)} e^{- \\frac{\\left(t - \\frac{z}{c}\\right)^{2}}{4 \\sigma^{2}}}}{2 \\sqrt[4]{\\pi} \\sqrt{\\sigma}}$"
      ],
      "text/plain": [
       "<IPython.core.display.Math object>"
      ]
     },
     "metadata": {},
     "output_type": "display_data"
    },
    {
     "data": {
      "text/latex": [
       "$\\displaystyle |E_{1}(z,t+\\tau)> = \\frac{\\sqrt[4]{2} a e^{i \\left(- \\omega \\left(\\tau + t - \\frac{z}{c}\\right) + k z\\right)} e^{- \\frac{\\left(\\tau + t - \\frac{z}{c}\\right)^{2}}{4 \\sigma^{2}}}}{2 \\sqrt[4]{\\pi} \\sqrt{\\sigma}}$"
      ],
      "text/plain": [
       "<IPython.core.display.Math object>"
      ]
     },
     "metadata": {},
     "output_type": "display_data"
    },
    {
     "data": {
      "text/latex": [
       "$\\displaystyle |E_{2}(z,t)> = \\frac{\\sqrt[4]{2} b e^{i \\left(- \\omega t + k z\\right)} e^{- \\frac{\\left(t - \\frac{z}{c}\\right)^{2}}{4 \\sigma^{2}}}}{2 \\sqrt[4]{\\pi} \\sqrt{\\sigma}}$"
      ],
      "text/plain": [
       "<IPython.core.display.Math object>"
      ]
     },
     "metadata": {},
     "output_type": "display_data"
    },
    {
     "data": {
      "text/latex": [
       "$\\displaystyle \\frac{2^{\\frac{3}{4}} \\hat{U} a e^{i \\left(- \\omega t + k z\\right)} e^{- \\frac{\\left(t - \\frac{z}{c}\\right)^{2}}{4 \\sigma^{2}}}}{2 \\sqrt[4]{\\pi} \\sqrt{\\sigma}} = \\frac{2^{\\frac{3}{4}} a e^{i \\left(- \\omega \\left(\\tau + t - \\frac{z}{c}\\right) + k z\\right)} e^{- \\frac{\\left(\\tau + t - \\frac{z}{c}\\right)^{2}}{4 \\sigma^{2}}}}{2 \\sqrt[4]{\\pi} \\sqrt{\\sigma}}$"
      ],
      "text/plain": [
       "<IPython.core.display.Math object>"
      ]
     },
     "metadata": {},
     "output_type": "display_data"
    },
    {
     "data": {
      "text/latex": [
       "$\\displaystyle \\hat{U} = e^{\\frac{- 4 i \\omega \\sigma^{2} \\tau c + 4 i \\omega \\sigma^{2} z - \\tau c \\left(\\tau + 2 t\\right) + 2 \\tau z}{4 \\sigma^{2} c}}$"
      ],
      "text/plain": [
       "<IPython.core.display.Math object>"
      ]
     },
     "metadata": {},
     "output_type": "display_data"
    },
    {
     "data": {
      "text/latex": [
       "$\\displaystyle |E_{f}(z,t)> = <D|\\hat{U}|E_{i}(z,t)> = \\frac{\\sqrt{2} \\cdot \\left(\\frac{\\sqrt[4]{2} a e^{i \\left(- \\omega \\left(\\tau + t - \\frac{z}{c}\\right) + k z\\right)} e^{- \\frac{\\left(\\tau + t - \\frac{z}{c}\\right)^{2}}{4 \\sigma^{2}}}}{2 \\sqrt[4]{\\pi} \\sqrt{\\sigma}} + \\frac{\\sqrt[4]{2} b e^{i \\left(- \\omega t + k z\\right)} e^{- \\frac{\\left(t - \\frac{z}{c}\\right)^{2}}{4 \\sigma^{2}}}}{2 \\sqrt[4]{\\pi} \\sqrt{\\sigma}}\\right)}{2}$"
      ],
      "text/plain": [
       "<IPython.core.display.Math object>"
      ]
     },
     "metadata": {},
     "output_type": "display_data"
    }
   ],
   "source": [
    "#champ total initial\n",
    "E_i = xi*phi\n",
    "display(Math(r'|E_{i}(z,t)> = '+smp.latex(E_i)))\n",
    "\n",
    "#PBS\n",
    "#effectue une mesure faible sur la partie horizontale de la polarisation\n",
    "E_1 = xi_f*a*(1/smp.sqrt(2)) #celui faible\n",
    "E_2 = xi*b*(1/smp.sqrt(2))\n",
    "display(Math(r'|E_{1}(z,t+\\tau)> = '+smp.latex(E_1)))\n",
    "display(Math(r'|E_{2}(z,t)> = '+smp.latex(E_2)))\n",
    "\n",
    "#résourd l'opérateur d'interaction\n",
    "U = smp.symbols(r'\\hat{U}')\n",
    "eq1 = smp.Eq(U*xi*a, xi_f*a)\n",
    "display(Math(smp.latex(eq1)))\n",
    "eq2 = smp.solve(eq1, U)\n",
    "U = eq2[0].simplify()\n",
    "display(Math(r'\\hat{U} = ' + smp.latex(U)))\n",
    "\n",
    "#postselection sur D = 1/sqrt(2)*(H_faible + V)\n",
    "E_w = ((1/smp.sqrt(2))*(E_1 + E_2))\n",
    "#mesure faible sur H\n",
    "display(Math(r'|E_{f}(z,t)> = <D|\\hat{U}|E_{i}(z,t)> = ' + smp.latex(E_w)))\n"
   ]
  },
  {
   "attachments": {},
   "cell_type": "markdown",
   "metadata": {},
   "source": [
    "Trouvons la partie réel de la valeur faible"
   ]
  },
  {
   "cell_type": "code",
   "execution_count": 19,
   "metadata": {},
   "outputs": [
    {
     "data": {
      "text/latex": [
       "$\\displaystyle \\langle \\hat{T} \\rangle= <E_{f}(z,t)|\\hat{t}|E_{f}(z,t)> =- \\frac{\\tau a e^{- i \\omega \\tau + \\frac{i \\omega z}{c} - \\frac{\\tau^{2}}{8 \\sigma^{2}}} \\overline{b}}{8} - \\frac{\\tau a \\overline{a}}{4} - \\frac{\\tau b e^{i \\omega \\tau - \\frac{i \\omega z}{c} - \\frac{\\tau^{2}}{8 \\sigma^{2}}} \\overline{a}}{8} + \\frac{a z e^{- i \\omega \\tau + \\frac{i \\omega z}{c} - \\frac{\\tau^{2}}{8 \\sigma^{2}}} \\overline{b}}{4 c} + \\frac{a z \\overline{a}}{4 c} + \\frac{b z e^{i \\omega \\tau - \\frac{i \\omega z}{c} - \\frac{\\tau^{2}}{8 \\sigma^{2}}} \\overline{a}}{4 c} + \\frac{b z \\overline{b}}{4 c}$"
      ],
      "text/plain": [
       "<IPython.core.display.Math object>"
      ]
     },
     "metadata": {},
     "output_type": "display_data"
    },
    {
     "data": {
      "text/latex": [
       "$\\displaystyle \\lim_{e^{\\frac{-\\delta^{2}}{8\\sigma^{2}}} \\to 1} \\langle \\hat{T} \\rangle= - \\frac{\\tau a e^{- i \\omega \\tau + \\frac{i \\omega z}{c} - \\frac{\\tau^{2}}{8 \\sigma^{2}}} \\overline{b}}{8} - \\frac{\\tau a \\overline{a}}{4} - \\frac{\\tau b e^{i \\omega \\tau - \\frac{i \\omega z}{c} - \\frac{\\tau^{2}}{8 \\sigma^{2}}} \\overline{a}}{8} + \\frac{a z e^{- i \\omega \\tau + \\frac{i \\omega z}{c} - \\frac{\\tau^{2}}{8 \\sigma^{2}}} \\overline{b}}{4 c} + \\frac{a z \\overline{a}}{4 c} + \\frac{b z e^{i \\omega \\tau - \\frac{i \\omega z}{c} - \\frac{\\tau^{2}}{8 \\sigma^{2}}} \\overline{a}}{4 c} + \\frac{b z \\overline{b}}{4 c}$"
      ],
      "text/plain": [
       "<IPython.core.display.Math object>"
      ]
     },
     "metadata": {},
     "output_type": "display_data"
    }
   ],
   "source": [
    "t_moy = (smp.integrate(smp.conjugate(E_w)*t*E_w, (t, -smp.oo, smp.oo))).simplify()\n",
    "display(Math(r'\\langle \\hat{T} \\rangle= <E_{f}(z,t)|\\hat{t}|E_{f}(z,t)> =' +smp.latex(t_moy)))\n",
    "\n",
    "t_moy_limit = t_moy.subs(smp.exp((-d**2)/(8*o**2)), 1)\n",
    "display(Math(r'\\lim_{e^{\\frac{-\\delta^{2}}{8\\sigma^{2}}} \\to 1} \\langle \\hat{T} \\rangle= ' +smp.latex(t_moy_limit)))"
   ]
  },
  {
   "attachments": {},
   "cell_type": "markdown",
   "metadata": {},
   "source": [
    "Trouvons le G_1"
   ]
  },
  {
   "cell_type": "code",
   "execution_count": 20,
   "metadata": {},
   "outputs": [
    {
     "data": {
      "text/latex": [
       "$\\displaystyle G(\\tau) = \\frac{b e^{i \\omega \\tau - \\frac{i \\omega z}{c} - \\frac{\\tau^{2}}{8 \\sigma^{2}}} \\overline{a}}{2}$"
      ],
      "text/plain": [
       "<IPython.core.display.Math object>"
      ]
     },
     "metadata": {},
     "output_type": "display_data"
    },
    {
     "data": {
      "text/latex": [
       "$\\displaystyle G(0) = \\frac{a \\overline{a}}{2}$"
      ],
      "text/plain": [
       "<IPython.core.display.Math object>"
      ]
     },
     "metadata": {},
     "output_type": "display_data"
    },
    {
     "data": {
      "text/latex": [
       "$\\displaystyle g^{(1)}(\\tau) = \\frac{b e^{i \\omega \\tau - \\frac{i \\omega z}{c} - \\frac{\\tau^{2}}{8 \\sigma^{2}}}}{a}$"
      ],
      "text/plain": [
       "<IPython.core.display.Math object>"
      ]
     },
     "metadata": {},
     "output_type": "display_data"
    }
   ],
   "source": [
    "G_1_TAU = (smp.integrate(smp.conjugate(E_1)*E_2, (t, -smp.oo, smp.oo))).simplify()\n",
    "display(Math(r'G(\\tau) = ' + smp.latex(G_1_TAU)))\n",
    "G_1_ZERO = smp.integrate(smp.conjugate(E_1)*E_1, (t, -smp.oo, smp.oo))\n",
    "display(Math(r'G(0) = ' + smp.latex(G_1_ZERO.simplify())))\n",
    "\n",
    "g_1 = (G_1_TAU/G_1_ZERO).simplify()\n",
    "display(Math(r'g^{(1)}(\\tau) = ' + smp.latex(g_1)))"
   ]
  },
  {
   "attachments": {},
   "cell_type": "markdown",
   "metadata": {},
   "source": [
    "La longeur de cohérence"
   ]
  },
  {
   "cell_type": "code",
   "execution_count": 21,
   "metadata": {},
   "outputs": [
    {
     "data": {
      "text/latex": [
       "$\\displaystyle \\tau_c = \\frac{\\sqrt{2} \\sqrt{\\pi} \\sigma b^{2} \\overline{b}^{2}}{a^{2} \\overline{a}^{2}}$"
      ],
      "text/plain": [
       "<IPython.core.display.Math object>"
      ]
     },
     "metadata": {},
     "output_type": "display_data"
    }
   ],
   "source": [
    "tau_c = smp.integrate((smp.conjugate(g_1)*g_1)**2, (tau, -smp.oo, smp.oo))\n",
    "display(Math(r'\\tau_c = ' + smp.latex(tau_c)))"
   ]
  },
  {
   "attachments": {},
   "cell_type": "markdown",
   "metadata": {},
   "source": [
    "Ici nous allons trouvons la partie imaginaire de la valeur faible avec le power spectrum et la fonction de transformation de fourier."
   ]
  },
  {
   "cell_type": "code",
   "execution_count": 22,
   "metadata": {},
   "outputs": [
    {
     "data": {
      "text/latex": [
       "$\\displaystyle S(\\omega) = \\sqrt{2} \\sqrt{\\pi} \\sigma b e^{- \\frac{i \\omega z}{c}} \\overline{a}$"
      ],
      "text/plain": [
       "<IPython.core.display.Math object>"
      ]
     },
     "metadata": {},
     "output_type": "display_data"
    }
   ],
   "source": [
    "#using the autocorrelation function\n",
    "S = (smp.integrate(G_1_TAU*smp.exp(-smp.I*w*tau), (tau, -smp.oo, smp.oo))).simplify()\n",
    "display(Math(r'S(\\omega) = ' + smp.latex(S)))"
   ]
  },
  {
   "cell_type": "code",
   "execution_count": 23,
   "metadata": {},
   "outputs": [
    {
     "data": {
      "text/latex": [
       "$\\displaystyle \\Delta\\omega = \\begin{cases} - \\frac{2 i c}{z} & \\text{for}\\: \\left|{\\arg{\\left(z \\right)} + \\frac{\\pi}{2}}\\right| < \\frac{\\pi}{2} \\vee \\left|{2 \\arg{\\left(z \\right)} + \\pi}\\right| < \\pi \\\\\\frac{\\left(\\int\\limits_{0}^{\\infty} e^{- \\frac{i \\omega z}{c}}\\, d\\omega\\right)^{2}}{\\int\\limits_{0}^{\\infty} e^{- \\frac{2 i \\omega z}{c}}\\, d\\omega} & \\text{otherwise} \\end{cases}$"
      ],
      "text/plain": [
       "<IPython.core.display.Math object>"
      ]
     },
     "metadata": {},
     "output_type": "display_data"
    }
   ],
   "source": [
    "dw = (((smp.integrate(S, (w, 0, smp.oo)))**2)/(smp.integrate(S**2, (w, 0, smp.oo)))).simplify()\n",
    "display(Math(r'\\Delta\\omega = ' + smp.latex(dw)))"
   ]
  },
  {
   "cell_type": "code",
   "execution_count": 24,
   "metadata": {},
   "outputs": [
    {
     "data": {
      "text/latex": [
       "$\\displaystyle <\\hat{\\Omega}> = <S(\\omega)|\\hat{\\omega}|S(\\omega)> =\\infty \\operatorname{sign}{\\left(a b \\overline{a} \\overline{b} \\right)}$"
      ],
      "text/plain": [
       "<IPython.core.display.Math object>"
      ]
     },
     "metadata": {},
     "output_type": "display_data"
    }
   ],
   "source": [
    "w_moy = (smp.integrate(smp.conjugate(S)*w*S, (w, 0, smp.oo))).simplify()\n",
    "display(Math(r'<\\hat{\\Omega}> = <S(\\omega)|\\hat{\\omega}|S(\\omega)> =' +smp.latex(w_moy)))"
   ]
  },
  {
   "cell_type": "code",
   "execution_count": 25,
   "metadata": {},
   "outputs": [
    {
     "data": {
      "text/latex": [
       "$\\displaystyle F(\\omega) = \\frac{\\sqrt{2} \\sigma b e^{- \\frac{\\omega \\left(8 \\omega \\sigma^{2} c + i z\\right)}{c}}}{\\sqrt{\\pi} a}$"
      ],
      "text/plain": [
       "<IPython.core.display.Math object>"
      ]
     },
     "metadata": {},
     "output_type": "display_data"
    }
   ],
   "source": [
    "F_w = (1/(2*smp.pi)*smp.integrate(g_1*smp.exp(smp.I*w*tau), (tau, -smp.oo, smp.oo))).simplify()\n",
    "display(Math(r'F(\\omega) = ' + smp.latex(F_w)))"
   ]
  },
  {
   "cell_type": "code",
   "execution_count": 26,
   "metadata": {},
   "outputs": [
    {
     "data": {
      "text/latex": [
       "$\\displaystyle <\\hat{\\Omega}> = <F(\\omega)|\\hat{\\omega}|F(\\omega)> =\\frac{b \\overline{b}}{16 \\pi a \\overline{a}}$"
      ],
      "text/plain": [
       "<IPython.core.display.Math object>"
      ]
     },
     "metadata": {},
     "output_type": "display_data"
    }
   ],
   "source": [
    "w_moy = (smp.integrate(smp.conjugate(F_w)*w*F_w, (w, 0, smp.oo))).simplify()\n",
    "display(Math(r'<\\hat{\\Omega}> = <F(\\omega)|\\hat{\\omega}|F(\\omega)> =' +smp.latex(w_moy)))"
   ]
  },
  {
   "cell_type": "code",
   "execution_count": null,
   "metadata": {},
   "outputs": [],
   "source": []
  }
 ],
 "metadata": {
  "kernelspec": {
   "display_name": "Python 3",
   "language": "python",
   "name": "python3"
  },
  "language_info": {
   "codemirror_mode": {
    "name": "ipython",
    "version": 3
   },
   "file_extension": ".py",
   "mimetype": "text/x-python",
   "name": "python",
   "nbconvert_exporter": "python",
   "pygments_lexer": "ipython3",
   "version": "3.11.3"
  },
  "orig_nbformat": 4
 },
 "nbformat": 4,
 "nbformat_minor": 2
}
