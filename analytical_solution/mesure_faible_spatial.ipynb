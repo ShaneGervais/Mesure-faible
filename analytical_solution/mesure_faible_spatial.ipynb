{
 "cells": [
  {
   "cell_type": "markdown",
   "metadata": {},
   "source": [
    "Dans ce calepin IPython, nous allons caractériser l'état de polarisation d'un ordinateur quantique contenant un circuit d'optique dans laquelle ses états de polarisation sont représentés par un système de qubit."
   ]
  },
  {
   "cell_type": "code",
   "execution_count": 55,
   "metadata": {},
   "outputs": [
    {
     "name": "stdout",
     "output_type": "stream",
     "text": [
      "IPython console for SymPy 1.11.1 (Python 3.11.2-64-bit) (ground types: python)\n",
      "\n",
      "These commands were executed:\n",
      ">>> from sympy import *\n",
      ">>> x, y, z, t = symbols('x y z t')\n",
      ">>> k, m, n = symbols('k m n', integer=True)\n",
      ">>> f, g, h = symbols('f g h', cls=Function)\n",
      ">>> init_printing()\n",
      "\n",
      "Documentation can be found at https://docs.sympy.org/1.11.1/\n",
      "\n"
     ]
    }
   ],
   "source": [
    "#sympy pour effectuer les calcules\n",
    "import sympy as smp\n",
    "from IPython.display import display, Math\n",
    "smp.init_session()"
   ]
  },
  {
   "cell_type": "code",
   "execution_count": 56,
   "metadata": {},
   "outputs": [],
   "source": [
    "a = smp.symbols('a', real=False, complex = True)\n",
    "x = smp.symbols('x', real=True)\n",
    "o = smp.symbols(r'\\sigma', real=True, positive = True)\n",
    "b = smp.symbols('b', real=False, complex = True)\n",
    "d = smp.symbols(r'\\delta', real=True)"
   ]
  },
  {
   "cell_type": "code",
   "execution_count": 57,
   "metadata": {},
   "outputs": [
    {
     "data": {
      "text/latex": [
       "$\\displaystyle A(x) = \\frac{2^{\\frac{3}{4}} e^{- \\frac{x^{2}}{4 \\sigma^{2}}}}{2 \\sqrt[4]{\\pi} \\sqrt{\\sigma}}$"
      ],
      "text/plain": [
       "<IPython.core.display.Math object>"
      ]
     },
     "metadata": {},
     "output_type": "display_data"
    }
   ],
   "source": [
    "#Fonction gaussien\n",
    "A = (smp.sqrt(1/((smp.sqrt(2*smp.pi))*o)))*smp.exp(-(x**2)/(4*o**2))\n",
    "display(Math(r'A(x) = '+smp.latex(A)))"
   ]
  },
  {
   "cell_type": "code",
   "execution_count": 58,
   "metadata": {},
   "outputs": [
    {
     "data": {
      "text/latex": [
       "$\\displaystyle H(x) = \\frac{2^{\\frac{3}{4}} a e^{- \\frac{x^{2}}{4 \\sigma^{2}}}}{2 \\sqrt[4]{\\pi} \\sqrt{\\sigma}}$"
      ],
      "text/plain": [
       "<IPython.core.display.Math object>"
      ]
     },
     "metadata": {},
     "output_type": "display_data"
    }
   ],
   "source": [
    "#état polarisé horizontal\n",
    "h = a*A\n",
    "display(Math('H(x) = ' +smp.latex(h)))"
   ]
  },
  {
   "cell_type": "code",
   "execution_count": 59,
   "metadata": {},
   "outputs": [
    {
     "data": {
      "text/latex": [
       "$\\displaystyle V(x) = \\frac{2^{\\frac{3}{4}} b e^{- \\frac{x^{2}}{4 \\sigma^{2}}}}{2 \\sqrt[4]{\\pi} \\sqrt{\\sigma}}$"
      ],
      "text/plain": [
       "<IPython.core.display.Math object>"
      ]
     },
     "metadata": {},
     "output_type": "display_data"
    }
   ],
   "source": [
    "#état polarisé vertical\n",
    "v = b*A\n",
    "display(Math('V(x) = ' +smp.latex(v)))"
   ]
  },
  {
   "cell_type": "code",
   "execution_count": 60,
   "metadata": {},
   "outputs": [
    {
     "data": {
      "text/latex": [
       "$\\displaystyle \\psi(x) = \\frac{2^{\\frac{3}{4}} a e^{- \\frac{x^{2}}{4 \\sigma^{2}}}}{2 \\sqrt[4]{\\pi} \\sqrt{\\sigma}} + \\frac{2^{\\frac{3}{4}} b e^{- \\frac{x^{2}}{4 \\sigma^{2}}}}{2 \\sqrt[4]{\\pi} \\sqrt{\\sigma}}$"
      ],
      "text/plain": [
       "<IPython.core.display.Math object>"
      ]
     },
     "metadata": {},
     "output_type": "display_data"
    }
   ],
   "source": [
    "#intiallement\n",
    "psi = h + v\n",
    "display(Math(r'\\psi(x) = ' +smp.latex(psi)))"
   ]
  },
  {
   "cell_type": "code",
   "execution_count": 61,
   "metadata": {},
   "outputs": [
    {
     "data": {
      "text/latex": [
       "$\\displaystyle \\psi(x)_f = \\frac{2^{\\frac{3}{4}} a e^{- \\frac{\\left(- \\delta + x\\right)^{2}}{4 \\sigma^{2}}}}{2 \\sqrt[4]{\\pi} \\sqrt{\\sigma}} + \\frac{2^{\\frac{3}{4}} b e^{- \\frac{x^{2}}{4 \\sigma^{2}}}}{2 \\sqrt[4]{\\pi} \\sqrt{\\sigma}}$"
      ],
      "text/plain": [
       "<IPython.core.display.Math object>"
      ]
     },
     "metadata": {},
     "output_type": "display_data"
    }
   ],
   "source": [
    "#decalage (mesure faible) sur H\n",
    "A_f = (smp.sqrt(1/((smp.sqrt(2*smp.pi))*o)))*smp.exp(-((x-d)**2)/(4*o**2))\n",
    "h_f = A_f*a\n",
    "psi_f = (h_f + v)\n",
    "display(Math(r'\\psi(x)_f = ' +smp.latex(psi_f)))"
   ]
  },
  {
   "cell_type": "code",
   "execution_count": 62,
   "metadata": {},
   "outputs": [
    {
     "data": {
      "text/latex": [
       "$\\displaystyle D(x)_f = \\frac{\\sqrt{2} \\cdot \\left(\\frac{2^{\\frac{3}{4}} a e^{- \\frac{\\left(- \\delta + x\\right)^{2}}{4 \\sigma^{2}}}}{2 \\sqrt[4]{\\pi} \\sqrt{\\sigma}} + \\frac{2^{\\frac{3}{4}} b e^{- \\frac{x^{2}}{4 \\sigma^{2}}}}{2 \\sqrt[4]{\\pi} \\sqrt{\\sigma}}\\right)}{2}$"
      ],
      "text/plain": [
       "<IPython.core.display.Math object>"
      ]
     },
     "metadata": {},
     "output_type": "display_data"
    }
   ],
   "source": [
    "#postsélection sur l'état diagonaux\n",
    "diag_f = (1/smp.sqrt(2))*(h_f + v)\n",
    "display(Math(r'D(x)_f = ' +smp.latex(diag_f)))"
   ]
  },
  {
   "cell_type": "code",
   "execution_count": 63,
   "metadata": {},
   "outputs": [
    {
     "data": {
      "text/latex": [
       "$\\displaystyle \\psi(x)_a = \\frac{\\sqrt[4]{2} a e^{- \\frac{\\left(- \\delta + x\\right)^{2}}{4 \\sigma^{2}}}}{2 \\sqrt[4]{\\pi} \\sqrt{\\sigma}}$"
      ],
      "text/plain": [
       "<IPython.core.display.Math object>"
      ]
     },
     "metadata": {},
     "output_type": "display_data"
    },
    {
     "data": {
      "text/latex": [
       "$\\displaystyle \\psi(x)_b = \\frac{\\sqrt[4]{2} b e^{- \\frac{x^{2}}{4 \\sigma^{2}}}}{2 \\sqrt[4]{\\pi} \\sqrt{\\sigma}}$"
      ],
      "text/plain": [
       "<IPython.core.display.Math object>"
      ]
     },
     "metadata": {},
     "output_type": "display_data"
    }
   ],
   "source": [
    "#séparation des variables\n",
    "psi_a = (1/smp.sqrt(2))*(h_f)\n",
    "psi_b = (1/smp.sqrt(2))*(v)\n",
    "display(Math(r'\\psi(x)_a = ' +smp.latex(psi_a)))\n",
    "display(Math(r'\\psi(x)_b = ' +smp.latex(psi_b)))"
   ]
  },
  {
   "cell_type": "code",
   "execution_count": 64,
   "metadata": {},
   "outputs": [
    {
     "data": {
      "text/latex": [
       "$\\displaystyle \\psi(x)_1 = \\frac{\\sqrt{2} a e^{- \\frac{\\left(- \\delta + x\\right)^{2}}{2 \\sigma^{2}}} \\overline{a}}{4 \\sqrt{\\pi} \\sigma}$"
      ],
      "text/plain": [
       "<IPython.core.display.Math object>"
      ]
     },
     "metadata": {},
     "output_type": "display_data"
    },
    {
     "data": {
      "text/latex": [
       "$\\displaystyle \\psi(x)_2 = \\frac{\\sqrt{2} a e^{- \\frac{x^{2}}{4 \\sigma^{2}}} e^{- \\frac{\\left(- \\delta + x\\right)^{2}}{4 \\sigma^{2}}} \\overline{b}}{4 \\sqrt{\\pi} \\sigma}$"
      ],
      "text/plain": [
       "<IPython.core.display.Math object>"
      ]
     },
     "metadata": {},
     "output_type": "display_data"
    },
    {
     "data": {
      "text/latex": [
       "$\\displaystyle \\psi(x)_3 = \\frac{\\sqrt{2} b e^{- \\frac{x^{2}}{4 \\sigma^{2}}} e^{- \\frac{\\left(- \\delta + x\\right)^{2}}{4 \\sigma^{2}}} \\overline{a}}{4 \\sqrt{\\pi} \\sigma}$"
      ],
      "text/plain": [
       "<IPython.core.display.Math object>"
      ]
     },
     "metadata": {},
     "output_type": "display_data"
    },
    {
     "data": {
      "text/latex": [
       "$\\displaystyle \\psi(x)_4 = \\frac{\\sqrt{2} b e^{- \\frac{x^{2}}{2 \\sigma^{2}}} \\overline{b}}{4 \\sqrt{\\pi} \\sigma}$"
      ],
      "text/plain": [
       "<IPython.core.display.Math object>"
      ]
     },
     "metadata": {},
     "output_type": "display_data"
    }
   ],
   "source": [
    "psi_1 = psi_a*smp.conjugate(psi_a)\n",
    "psi_2 = psi_a*smp.conjugate(psi_b)\n",
    "psi_3 = smp.conjugate(psi_a)*psi_b\n",
    "psi_4 = smp.conjugate(psi_b)*psi_b\n",
    "display(Math(r'\\psi(x)_1 = ' +smp.latex(psi_1)))\n",
    "display(Math(r'\\psi(x)_2 = ' +smp.latex(psi_2)))\n",
    "display(Math(r'\\psi(x)_3 = ' +smp.latex(psi_3)))\n",
    "display(Math(r'\\psi(x)_4 = ' +smp.latex(psi_4)))"
   ]
  },
  {
   "cell_type": "code",
   "execution_count": 65,
   "metadata": {},
   "outputs": [
    {
     "data": {
      "text/latex": [
       "$\\displaystyle \\psi(x)_1 = \\frac{\\delta a \\overline{a}}{2}$"
      ],
      "text/plain": [
       "<IPython.core.display.Math object>"
      ]
     },
     "metadata": {},
     "output_type": "display_data"
    },
    {
     "data": {
      "text/latex": [
       "$\\displaystyle \\psi(x)_2 = \\frac{\\delta a \\left(2 - \\operatorname{erfc}{\\left(\\frac{\\sqrt{2} \\delta}{4 \\sigma} \\right)}\\right) e^{- \\frac{\\delta^{2}}{8 \\sigma^{2}}} \\overline{b}}{4} + \\frac{\\delta a \\left(- 2 \\sqrt{\\pi} \\left(2 - \\operatorname{erfc}{\\left(\\frac{\\sqrt{2} \\delta}{4 \\sigma} \\right)}\\right) - \\frac{4 \\sqrt{2} \\sigma e^{- \\frac{\\delta^{2}}{8 \\sigma^{2}}}}{\\delta}\\right) e^{- \\frac{\\delta^{2}}{8 \\sigma^{2}}} \\overline{b}}{16 \\sqrt{\\pi}} + \\frac{\\delta a \\left(- 2 \\sqrt{\\pi} \\operatorname{erfc}{\\left(\\frac{\\sqrt{2} \\delta}{4 \\sigma} \\right)} + \\frac{4 \\sqrt{2} \\sigma e^{- \\frac{\\delta^{2}}{8 \\sigma^{2}}}}{\\delta}\\right) e^{- \\frac{\\delta^{2}}{8 \\sigma^{2}}} \\overline{b}}{16 \\sqrt{\\pi}} + \\frac{\\delta a e^{- \\frac{\\delta^{2}}{8 \\sigma^{2}}} \\overline{b} \\operatorname{erfc}{\\left(\\frac{\\sqrt{2} \\delta}{4 \\sigma} \\right)}}{4}$"
      ],
      "text/plain": [
       "<IPython.core.display.Math object>"
      ]
     },
     "metadata": {},
     "output_type": "display_data"
    },
    {
     "data": {
      "text/latex": [
       "$\\displaystyle \\psi(x)_3 = \\frac{\\delta b \\left(2 - \\operatorname{erfc}{\\left(\\frac{\\sqrt{2} \\delta}{4 \\sigma} \\right)}\\right) e^{- \\frac{\\delta^{2}}{8 \\sigma^{2}}} \\overline{a}}{4} + \\frac{\\delta b \\left(- 2 \\sqrt{\\pi} \\left(2 - \\operatorname{erfc}{\\left(\\frac{\\sqrt{2} \\delta}{4 \\sigma} \\right)}\\right) - \\frac{4 \\sqrt{2} \\sigma e^{- \\frac{\\delta^{2}}{8 \\sigma^{2}}}}{\\delta}\\right) e^{- \\frac{\\delta^{2}}{8 \\sigma^{2}}} \\overline{a}}{16 \\sqrt{\\pi}} + \\frac{\\delta b \\left(- 2 \\sqrt{\\pi} \\operatorname{erfc}{\\left(\\frac{\\sqrt{2} \\delta}{4 \\sigma} \\right)} + \\frac{4 \\sqrt{2} \\sigma e^{- \\frac{\\delta^{2}}{8 \\sigma^{2}}}}{\\delta}\\right) e^{- \\frac{\\delta^{2}}{8 \\sigma^{2}}} \\overline{a}}{16 \\sqrt{\\pi}} + \\frac{\\delta b e^{- \\frac{\\delta^{2}}{8 \\sigma^{2}}} \\overline{a} \\operatorname{erfc}{\\left(\\frac{\\sqrt{2} \\delta}{4 \\sigma} \\right)}}{4}$"
      ],
      "text/plain": [
       "<IPython.core.display.Math object>"
      ]
     },
     "metadata": {},
     "output_type": "display_data"
    },
    {
     "data": {
      "text/latex": [
       "$\\displaystyle \\psi(x)_4 = 0$"
      ],
      "text/plain": [
       "<IPython.core.display.Math object>"
      ]
     },
     "metadata": {},
     "output_type": "display_data"
    }
   ],
   "source": [
    "psi_1_t = smp.integrate(psi_1*x, (x, -smp.oo, smp.oo))\n",
    "psi_2_t = smp.integrate(psi_2*x, (x, -smp.oo, smp.oo))\n",
    "psi_3_t = smp.integrate(psi_3*x, (x, -smp.oo, smp.oo))\n",
    "psi_4_t = smp.integrate(psi_4*x, (x, -smp.oo, smp.oo))\n",
    "\n",
    "display(Math(r'\\psi(x)_1 = ' +smp.latex(psi_1_t)))\n",
    "display(Math(r'\\psi(x)_2 = ' +smp.latex(psi_2_t)))\n",
    "display(Math(r'\\psi(x)_3 = ' +smp.latex(psi_3_t)))\n",
    "display(Math(r'\\psi(x)_4 = ' +smp.latex(psi_4_t)))"
   ]
  },
  {
   "cell_type": "code",
   "execution_count": 66,
   "metadata": {},
   "outputs": [
    {
     "data": {
      "text/latex": [
       "$\\displaystyle <\\hat{X}>\\frac{\\delta \\left(2 a e^{\\frac{\\delta^{2}}{8 \\sigma^{2}}} \\overline{a} + a \\overline{b} + b \\overline{a}\\right) e^{- \\frac{\\delta^{2}}{8 \\sigma^{2}}}}{4}$"
      ],
      "text/plain": [
       "<IPython.core.display.Math object>"
      ]
     },
     "metadata": {},
     "output_type": "display_data"
    },
    {
     "data": {
      "text/latex": [
       "$\\displaystyle \\lim_{e^{\\frac{-\\delta^{2}}{8\\sigma^{2}}} \\to 1} <\\hat{X}>= \\frac{\\delta \\left(2 a \\overline{a} + a \\overline{b} + b \\overline{a}\\right)}{4}$"
      ],
      "text/plain": [
       "<IPython.core.display.Math object>"
      ]
     },
     "metadata": {},
     "output_type": "display_data"
    }
   ],
   "source": [
    "x_moy = smp.simplify(psi_1_t + psi_2_t + psi_3_t + psi_4_t)\n",
    "display(Math(r\"<\\hat{X}> = \"+ smp.latex(x_moy)))\n",
    " \n",
    "x_moy_limit = x_moy.subs(smp.exp((-d**2)/(8*o**2)), 1)\n",
    "display(Math(r'\\lim_{e^{\\frac{-\\delta^{2}}{8\\sigma^{2}}} \\to 1} <\\hat{X}>= ' +smp.latex(x_moy_limit)))"
   ]
  },
  {
   "cell_type": "code",
   "execution_count": 67,
   "metadata": {},
   "outputs": [
    {
     "data": {
      "text/latex": [
       "$\\displaystyle \\psi(k)_{f} = \\sqrt[4]{2} \\sqrt[4]{\\pi} \\sqrt{\\sigma} \\left(a + b e^{2 i \\pi \\delta k}\\right) e^{- 2 \\pi k \\left(i \\delta + 2 \\pi \\sigma^{2} k\\right)}$"
      ],
      "text/plain": [
       "<IPython.core.display.Math object>"
      ]
     },
     "metadata": {},
     "output_type": "display_data"
    }
   ],
   "source": [
    "#continue avec ce système pour trouver la moyenne de la fréquence\n",
    "k = smp.symbols('k', real=True)\n",
    "\n",
    "d_ff = smp.fourier_transform(diag_f, x, k)\n",
    "display(Math(r'\\psi(k)_{f} = ' +smp.latex(d_ff)))"
   ]
  },
  {
   "cell_type": "code",
   "execution_count": 68,
   "metadata": {},
   "outputs": [
    {
     "data": {
      "text/latex": [
       "$\\displaystyle \\psi(k)_{f_a} = \\sqrt[4]{2} \\sqrt[4]{\\pi} \\sqrt{\\sigma} a e^{- 2 \\pi k \\left(i \\delta + 2 \\pi \\sigma^{2} k\\right)}$"
      ],
      "text/plain": [
       "<IPython.core.display.Math object>"
      ]
     },
     "metadata": {},
     "output_type": "display_data"
    },
    {
     "data": {
      "text/latex": [
       "$\\displaystyle \\psi(k)_{f_b} = \\sqrt[4]{2} \\sqrt[4]{\\pi} \\sqrt{\\sigma} b e^{- 2 \\pi k \\left(i \\delta + 2 \\pi \\sigma^{2} k\\right)} e^{2 i \\pi \\delta k}$"
      ],
      "text/plain": [
       "<IPython.core.display.Math object>"
      ]
     },
     "metadata": {},
     "output_type": "display_data"
    }
   ],
   "source": [
    "fa = smp.root(2, 4)*smp.root(smp.pi, 4)*smp.sqrt(o)*a*smp.exp(-2*smp.pi*k*(smp.I*d +2*smp.pi*k*o**2))\n",
    "display(Math(r'\\psi(k)_{f_a} = ' +smp.latex(fa)))\n",
    "fb = smp.root(2, 4)*smp.root(smp.pi, 4)*smp.sqrt(o)*b*smp.exp(2*smp.I*smp.pi*d*k)*smp.exp(-2*smp.pi*k*(smp.I*d +2*smp.pi*k*o**2))\n",
    "display(Math(r'\\psi(k)_{f_b} = ' +smp.latex(fb)))"
   ]
  },
  {
   "cell_type": "code",
   "execution_count": 69,
   "metadata": {},
   "outputs": [
    {
     "data": {
      "text/latex": [
       "$\\displaystyle \\psi(k)_1 = \\sqrt{2} \\sqrt{\\pi} \\sigma a e^{- 2 \\pi k \\left(- i \\delta + 2 \\pi \\sigma^{2} k\\right)} e^{- 2 \\pi k \\left(i \\delta + 2 \\pi \\sigma^{2} k\\right)} \\overline{a}$"
      ],
      "text/plain": [
       "<IPython.core.display.Math object>"
      ]
     },
     "metadata": {},
     "output_type": "display_data"
    },
    {
     "data": {
      "text/latex": [
       "$\\displaystyle \\psi(k)_2 = \\sqrt{2} \\sqrt{\\pi} \\sigma a e^{- 2 \\pi k \\left(- i \\delta + 2 \\pi \\sigma^{2} k\\right)} e^{- 2 \\pi k \\left(i \\delta + 2 \\pi \\sigma^{2} k\\right)} e^{- 2 i \\pi \\delta k} \\overline{b}$"
      ],
      "text/plain": [
       "<IPython.core.display.Math object>"
      ]
     },
     "metadata": {},
     "output_type": "display_data"
    },
    {
     "data": {
      "text/latex": [
       "$\\displaystyle \\psi(k)_3 = \\sqrt{2} \\sqrt{\\pi} \\sigma b e^{- 2 \\pi k \\left(- i \\delta + 2 \\pi \\sigma^{2} k\\right)} e^{- 2 \\pi k \\left(i \\delta + 2 \\pi \\sigma^{2} k\\right)} e^{2 i \\pi \\delta k} \\overline{a}$"
      ],
      "text/plain": [
       "<IPython.core.display.Math object>"
      ]
     },
     "metadata": {},
     "output_type": "display_data"
    },
    {
     "data": {
      "text/latex": [
       "$\\displaystyle \\psi(k)_4 = \\sqrt{2} \\sqrt{\\pi} \\sigma b e^{- 2 \\pi k \\left(- i \\delta + 2 \\pi \\sigma^{2} k\\right)} e^{- 2 \\pi k \\left(i \\delta + 2 \\pi \\sigma^{2} k\\right)} \\overline{b}$"
      ],
      "text/plain": [
       "<IPython.core.display.Math object>"
      ]
     },
     "metadata": {},
     "output_type": "display_data"
    }
   ],
   "source": [
    "psi_1 = fa*smp.conjugate(fa)\n",
    "psi_2 = fa*smp.conjugate(fb)\n",
    "psi_3 = smp.conjugate(fa)*fb\n",
    "psi_4 = smp.conjugate(fb)*fb\n",
    "display(Math(r'\\psi(k)_1 = ' +smp.latex(psi_1)))\n",
    "display(Math(r'\\psi(k)_2 = ' +smp.latex(psi_2)))\n",
    "display(Math(r'\\psi(k)_3 = ' +smp.latex(psi_3)))\n",
    "display(Math(r'\\psi(k)_4 = ' +smp.latex(psi_4)))"
   ]
  },
  {
   "cell_type": "code",
   "execution_count": 70,
   "metadata": {},
   "outputs": [
    {
     "data": {
      "text/latex": [
       "$\\displaystyle \\psi(k)_1 = 0$"
      ],
      "text/plain": [
       "<IPython.core.display.Math object>"
      ]
     },
     "metadata": {},
     "output_type": "display_data"
    },
    {
     "data": {
      "text/latex": [
       "$\\displaystyle \\psi(k)_2 = \\frac{i \\delta a \\left(- 2 \\sqrt{\\pi} \\left(2 - \\operatorname{erfc}{\\left(\\frac{\\sqrt{2} i \\delta}{4 \\sigma} \\right)}\\right) + \\frac{4 \\sqrt{2} i \\sigma e^{\\frac{\\delta^{2}}{8 \\sigma^{2}}}}{\\delta}\\right) e^{- \\frac{\\delta^{2}}{8 \\sigma^{2}}} \\overline{b}}{64 \\pi^{\\frac{3}{2}} \\sigma^{2}} + \\frac{i \\delta a \\left(- 2 \\sqrt{\\pi} \\operatorname{erfc}{\\left(\\frac{\\sqrt{2} i \\delta}{4 \\sigma} \\right)} - \\frac{4 \\sqrt{2} i \\sigma e^{\\frac{\\delta^{2}}{8 \\sigma^{2}}}}{\\delta}\\right) e^{- \\frac{\\delta^{2}}{8 \\sigma^{2}}} \\overline{b}}{64 \\pi^{\\frac{3}{2}} \\sigma^{2}}$"
      ],
      "text/plain": [
       "<IPython.core.display.Math object>"
      ]
     },
     "metadata": {},
     "output_type": "display_data"
    },
    {
     "data": {
      "text/latex": [
       "$\\displaystyle \\psi(k)_3 = - \\frac{i \\delta b \\left(- 2 \\sqrt{\\pi} \\left(2 - \\operatorname{erfc}{\\left(\\frac{\\sqrt{2} i \\delta}{4 \\sigma} \\right)}\\right) + \\frac{4 \\sqrt{2} i \\sigma e^{\\frac{\\delta^{2}}{8 \\sigma^{2}}}}{\\delta}\\right) e^{- \\frac{\\delta^{2}}{8 \\sigma^{2}}} \\overline{a}}{64 \\pi^{\\frac{3}{2}} \\sigma^{2}} - \\frac{i \\delta b \\left(- 2 \\sqrt{\\pi} \\operatorname{erfc}{\\left(\\frac{\\sqrt{2} i \\delta}{4 \\sigma} \\right)} - \\frac{4 \\sqrt{2} i \\sigma e^{\\frac{\\delta^{2}}{8 \\sigma^{2}}}}{\\delta}\\right) e^{- \\frac{\\delta^{2}}{8 \\sigma^{2}}} \\overline{a}}{64 \\pi^{\\frac{3}{2}} \\sigma^{2}}$"
      ],
      "text/plain": [
       "<IPython.core.display.Math object>"
      ]
     },
     "metadata": {},
     "output_type": "display_data"
    },
    {
     "data": {
      "text/latex": [
       "$\\displaystyle \\psi(k)_4 = 0$"
      ],
      "text/plain": [
       "<IPython.core.display.Math object>"
      ]
     },
     "metadata": {},
     "output_type": "display_data"
    }
   ],
   "source": [
    "psi_1_k = smp.integrate(psi_1*k, (k, -smp.oo, smp.oo))\n",
    "psi_2_k = smp.integrate(psi_2*k, (k, -smp.oo, smp.oo))\n",
    "psi_3_k = smp.integrate(psi_3*k, (k, -smp.oo, smp.oo))\n",
    "psi_4_k = smp.integrate(psi_4*k, (k, -smp.oo, smp.oo))\n",
    "\n",
    "display(Math(r'\\psi(k)_1 = ' +smp.latex(psi_1_k)))\n",
    "display(Math(r'\\psi(k)_2 = ' +smp.latex(psi_2_k)))\n",
    "display(Math(r'\\psi(k)_3 = ' +smp.latex(psi_3_k)))\n",
    "display(Math(r'\\psi(k)_4 = ' +smp.latex(psi_4_k)))"
   ]
  },
  {
   "cell_type": "code",
   "execution_count": 71,
   "metadata": {},
   "outputs": [
    {
     "data": {
      "text/latex": [
       "$\\displaystyle <\\hat{K}> = \\frac{i \\delta \\left(- a \\overline{b} + b \\overline{a}\\right) e^{- \\frac{\\delta^{2}}{8 \\sigma^{2}}}}{16 \\pi \\sigma^{2}}$"
      ],
      "text/plain": [
       "<IPython.core.display.Math object>"
      ]
     },
     "metadata": {},
     "output_type": "display_data"
    },
    {
     "data": {
      "text/latex": [
       "$\\displaystyle \\lim_{e^{\\frac{-\\delta^{2}}{8\\sigma^{2}}} \\to 1} <\\hat{K}> = \\frac{i \\delta \\left(- a \\overline{b} + b \\overline{a}\\right)}{16 \\pi \\sigma^{2}}$"
      ],
      "text/plain": [
       "<IPython.core.display.Math object>"
      ]
     },
     "metadata": {},
     "output_type": "display_data"
    }
   ],
   "source": [
    "#trouve la fréquence moyenne\n",
    "k_moy = smp.simplify(psi_1_k + psi_2_k + psi_3_k + psi_4_k)\n",
    "display(Math(r'<\\hat{K}> = ' +smp.latex(k_moy)))\n",
    "\n",
    "#prend limit de exp((-d**2)/(8*o**2) -> 1\n",
    "k_moy_limit = k_moy.subs(smp.exp((-d**2)/(8*o**2)), 1)\n",
    "display(Math(r'\\lim_{e^{\\frac{-\\delta^{2}}{8\\sigma^{2}}} \\to 1} <\\hat{K}> = ' +smp.latex(k_moy_limit)))"
   ]
  }
 ],
 "metadata": {
  "kernelspec": {
   "display_name": "Python 3 (ipykernel)",
   "language": "python",
   "name": "python3"
  },
  "language_info": {
   "codemirror_mode": {
    "name": "ipython",
    "version": 3
   },
   "file_extension": ".py",
   "mimetype": "text/x-python",
   "name": "python",
   "nbconvert_exporter": "python",
   "pygments_lexer": "ipython3",
   "version": "3.11.3"
  }
 },
 "nbformat": 4,
 "nbformat_minor": 4
}
