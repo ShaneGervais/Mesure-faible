{
 "cells": [
  {
   "cell_type": "code",
   "execution_count": 75,
   "metadata": {},
   "outputs": [
    {
     "data": {
      "text/plain": [
       "\"\\nMesure faible d'un système simple\\n\\ntous ces mesures faibles produit un shift sur l'état par un δt\\n\\npar Shane Gervais\\n\""
      ]
     },
     "execution_count": 75,
     "metadata": {},
     "output_type": "execute_result"
    }
   ],
   "source": [
    "'''\n",
    "Mesure faible d'un système simple\n",
    "\n",
    "tous ces mesures faibles produit un shift sur l'état par un δt\n",
    "\n",
    "par Shane Gervais\n",
    "'''"
   ]
  },
  {
   "cell_type": "code",
   "execution_count": 76,
   "metadata": {},
   "outputs": [
    {
     "name": "stdout",
     "output_type": "stream",
     "text": [
      "IPython console for SymPy 1.11.1 (Python 3.10.6-64-bit) (ground types: python)\n",
      "\n",
      "These commands were executed:\n",
      ">>> from sympy import *\n",
      ">>> x, y, z, t = symbols('x y z t')\n",
      ">>> k, m, n = symbols('k m n', integer=True)\n",
      ">>> f, g, h = symbols('f g h', cls=Function)\n",
      ">>> init_printing()\n",
      "\n",
      "Documentation can be found at https://docs.sympy.org/1.11.1/\n",
      "\n"
     ]
    }
   ],
   "source": [
    "#sympy pour effectuer les calcules\n",
    "import sympy as smp\n",
    "from IPython.display import display, Math\n",
    "smp.init_session()"
   ]
  },
  {
   "cell_type": "code",
   "execution_count": 77,
   "metadata": {},
   "outputs": [],
   "source": [
    "a = smp.symbols('a', real=False, complex = True)\n",
    "t = smp.symbols('t', real=True)\n",
    "o = smp.symbols('σ', real=True, positive = True)\n",
    "b = smp.symbols('b', real=False, complex = True)\n",
    "d = smp.symbols('δ', real=True)"
   ]
  },
  {
   "cell_type": "code",
   "execution_count": 78,
   "metadata": {},
   "outputs": [
    {
     "data": {
      "text/latex": [
       "$\\displaystyle H(t) = \\frac{2^{\\frac{3}{4}} a e^{- \\frac{t^{2}}{4 σ^{2}}}}{2 \\sqrt[4]{\\pi} \\sqrt{σ}}$"
      ],
      "text/plain": [
       "<IPython.core.display.Math object>"
      ]
     },
     "metadata": {},
     "output_type": "display_data"
    }
   ],
   "source": [
    "#état polarisé horizontal\n",
    "h = a*(smp.sqrt(1/((smp.sqrt(2*smp.pi))*o)))*smp.exp(-(t**2)/(4*o**2))\n",
    "display(Math('H(t) = ' +latex(h)))"
   ]
  },
  {
   "cell_type": "code",
   "execution_count": 79,
   "metadata": {},
   "outputs": [
    {
     "data": {
      "text/latex": [
       "$\\displaystyle V(t) = \\frac{2^{\\frac{3}{4}} b e^{- \\frac{t^{2}}{4 σ^{2}}}}{2 \\sqrt[4]{\\pi} \\sqrt{σ}}$"
      ],
      "text/plain": [
       "<IPython.core.display.Math object>"
      ]
     },
     "metadata": {},
     "output_type": "display_data"
    }
   ],
   "source": [
    "#état polarisé vertical\n",
    "v = b*(smp.sqrt(1/((smp.sqrt(2*smp.pi))*o)))*smp.exp(-(t**2)/(4*o**2))\n",
    "display(Math('V(t) = ' +latex(v)))"
   ]
  },
  {
   "cell_type": "code",
   "execution_count": 80,
   "metadata": {},
   "outputs": [],
   "source": [
    "#mesure faible - shift sur H(t) par δt\n",
    "h_f = a*(smp.sqrt(1/((smp.sqrt(2*smp.pi))*o)))*smp.exp(-((t-d)**2)/(4*o**2))"
   ]
  },
  {
   "cell_type": "code",
   "execution_count": 81,
   "metadata": {},
   "outputs": [],
   "source": [
    "#état polarisé diagonaux\n",
    "diag = (1/smp.sqrt(2))*(h+v)\n",
    "anti = (1/smp.sqrt(2))*(h-v)"
   ]
  },
  {
   "cell_type": "code",
   "execution_count": 82,
   "metadata": {},
   "outputs": [],
   "source": [
    "#shift sur V(t)\n",
    "v_f = b*(smp.sqrt(1/((smp.sqrt(2*smp.pi))*o)))*smp.exp(-((t-d)**2)/(4*o**2))"
   ]
  },
  {
   "cell_type": "code",
   "execution_count": 83,
   "metadata": {},
   "outputs": [
    {
     "data": {
      "text/latex": [
       "$\\displaystyle D(t + δ) = \\frac{\\sqrt{2} \\cdot \\left(\\frac{2^{\\frac{3}{4}} a e^{- \\frac{\\left(t - δ\\right)^{2}}{4 σ^{2}}}}{2 \\sqrt[4]{\\pi} \\sqrt{σ}} + \\frac{2^{\\frac{3}{4}} b e^{- \\frac{\\left(t - δ\\right)^{2}}{4 σ^{2}}}}{2 \\sqrt[4]{\\pi} \\sqrt{σ}}\\right)}{2}$"
      ],
      "text/plain": [
       "<IPython.core.display.Math object>"
      ]
     },
     "metadata": {},
     "output_type": "display_data"
    }
   ],
   "source": [
    "#Pour un système préparé diagonaux \n",
    "#mesure faible - shift sur D(t) par δt\n",
    "diag_f = (1/smp.sqrt(2))*(h_f + v_f)\n",
    "display(Math('D(t + δ) = ' +latex(diag_f)))"
   ]
  },
  {
   "cell_type": "code",
   "execution_count": 84,
   "metadata": {},
   "outputs": [
    {
     "data": {
      "text/latex": [
       "$\\displaystyle H(t) = \\frac{2^{\\frac{3}{4}} a e^{- \\frac{\\left(t - δ\\right)^{2}}{4 σ^{2}}}}{4 \\sqrt[4]{\\pi} \\sqrt{σ}} - \\frac{2^{\\frac{3}{4}} a e^{- \\frac{t^{2}}{4 σ^{2}}}}{4 \\sqrt[4]{\\pi} \\sqrt{σ}} + \\frac{2^{\\frac{3}{4}} b e^{- \\frac{\\left(t - δ\\right)^{2}}{4 σ^{2}}}}{4 \\sqrt[4]{\\pi} \\sqrt{σ}} + \\frac{2^{\\frac{3}{4}} b e^{- \\frac{t^{2}}{4 σ^{2}}}}{4 \\sqrt[4]{\\pi} \\sqrt{σ}}$"
      ],
      "text/plain": [
       "<IPython.core.display.Math object>"
      ]
     },
     "metadata": {},
     "output_type": "display_data"
    }
   ],
   "source": [
    "#Faire une post-sélection sur H, donc nous avons une mesure en base D et A\n",
    "h_post = (1/smp.sqrt(2))*diag_f - (1/smp.sqrt(2))*anti\n",
    "display(Math('H(t) = ' +latex(h_post)))"
   ]
  },
  {
   "cell_type": "code",
   "execution_count": 85,
   "metadata": {},
   "outputs": [
    {
     "data": {
      "text/latex": [
       "$\\displaystyle H_1(t) = \\frac{2^{\\frac{3}{4}} a e^{- \\frac{\\left(t - δ\\right)^{2}}{4 σ^{2}}}}{4 \\sqrt[4]{\\pi} \\sqrt{σ}}$"
      ],
      "text/plain": [
       "<IPython.core.display.Math object>"
      ]
     },
     "metadata": {},
     "output_type": "display_data"
    },
    {
     "data": {
      "text/latex": [
       "$\\displaystyle H_2(t) = \\frac{2^{\\frac{3}{4}} b e^{- \\frac{\\left(t - δ\\right)^{2}}{4 σ^{2}}}}{4 \\sqrt[4]{\\pi} \\sqrt{σ}}$"
      ],
      "text/plain": [
       "<IPython.core.display.Math object>"
      ]
     },
     "metadata": {},
     "output_type": "display_data"
    },
    {
     "data": {
      "text/latex": [
       "$\\displaystyle H_3(t) = \\frac{2^{\\frac{3}{4}} a e^{- \\frac{t^{2}}{4 σ^{2}}}}{4 \\sqrt[4]{\\pi} \\sqrt{σ}}$"
      ],
      "text/plain": [
       "<IPython.core.display.Math object>"
      ]
     },
     "metadata": {},
     "output_type": "display_data"
    },
    {
     "data": {
      "text/latex": [
       "$\\displaystyle H_4(t) = \\frac{2^{\\frac{3}{4}} b e^{- \\frac{t^{2}}{4 σ^{2}}}}{4 \\sqrt[4]{\\pi} \\sqrt{σ}}$"
      ],
      "text/plain": [
       "<IPython.core.display.Math object>"
      ]
     },
     "metadata": {},
     "output_type": "display_data"
    },
    {
     "data": {
      "text/latex": [
       "$\\displaystyle H(t) = \\frac{2^{\\frac{3}{4}} a e^{- \\frac{\\left(t - δ\\right)^{2}}{4 σ^{2}}}}{4 \\sqrt[4]{\\pi} \\sqrt{σ}} - \\frac{2^{\\frac{3}{4}} a e^{- \\frac{t^{2}}{4 σ^{2}}}}{4 \\sqrt[4]{\\pi} \\sqrt{σ}} + \\frac{2^{\\frac{3}{4}} b e^{- \\frac{\\left(t - δ\\right)^{2}}{4 σ^{2}}}}{4 \\sqrt[4]{\\pi} \\sqrt{σ}} + \\frac{2^{\\frac{3}{4}} b e^{- \\frac{t^{2}}{4 σ^{2}}}}{4 \\sqrt[4]{\\pi} \\sqrt{σ}}$"
      ],
      "text/plain": [
       "<IPython.core.display.Math object>"
      ]
     },
     "metadata": {},
     "output_type": "display_data"
    }
   ],
   "source": [
    "#Écrit la post-selection de H en partie\n",
    "h1 = smp.Rational(1, 2)*h_f\n",
    "h2 = smp.Rational(1, 2)*v_f\n",
    "h3 = smp.Rational(1, 2)*h\n",
    "h4 = smp.Rational(1, 2)*v\n",
    "display(Math('H_1(t) = ' +latex(h1)))\n",
    "display(Math('H_2(t) = ' +latex(h2)))\n",
    "display(Math('H_3(t) = ' +latex(h3)))\n",
    "display(Math('H_4(t) = ' +latex(h4)))\n",
    "display(Math('H(t) = ' +latex(h1 + h2 - h3 + h4)))\n"
   ]
  },
  {
   "cell_type": "code",
   "execution_count": 86,
   "metadata": {},
   "outputs": [],
   "source": [
    "#combinaisons des postsélections de H\n",
    "h_11 = h1*smp.conjugate(h1)\n",
    "h_22 = h2*smp.conjugate(h2)\n",
    "h_33 = h3*smp.conjugate(h3)\n",
    "h_44 = h4*smp.conjugate(h4)\n",
    "h_12 = h1*smp.conjugate(h2)\n",
    "h_13 = h1*smp.conjugate(h3)\n",
    "h_14 = h1*smp.conjugate(h4)\n",
    "h_21 = h2*smp.conjugate(h1)\n",
    "h_23 = h2*smp.conjugate(h3)\n",
    "h_24 = h2*smp.conjugate(h4)\n",
    "h_31 = h3*smp.conjugate(h1)\n",
    "h_32 = h3*smp.conjugate(h2)\n",
    "h_34 = h3*smp.conjugate(h4)\n",
    "h_41 = h4*smp.conjugate(h1)\n",
    "h_42 = h4*smp.conjugate(h2)\n",
    "h_43 = h4*smp.conjugate(h3)"
   ]
  },
  {
   "cell_type": "code",
   "execution_count": 87,
   "metadata": {},
   "outputs": [],
   "source": [
    "#integre chaque partie\n",
    "h_11_t = smp.integrate(h_11*t, (t, -smp.oo, smp.oo))\n",
    "h_22_t = smp.integrate(h_22*t, (t, -smp.oo, smp.oo))\n",
    "h_33_t = smp.integrate(h_33*t, (t, -smp.oo, smp.oo))\n",
    "h_44_t = smp.integrate(h_44*t, (t, -smp.oo, smp.oo))\n",
    "h_12_t = smp.integrate(h_12*t, (t, -smp.oo, smp.oo))\n",
    "h_13_t = smp.integrate(h_13*t, (t, -smp.oo, smp.oo))\n",
    "h_14_t = smp.integrate(h_14*t, (t, -smp.oo, smp.oo))\n",
    "h_21_t = smp.integrate(h_21*t, (t, -smp.oo, smp.oo))\n",
    "h_23_t = smp.integrate(h_23*t, (t, -smp.oo, smp.oo))\n",
    "h_24_t = smp.integrate(h_24*t, (t, -smp.oo, smp.oo))\n",
    "h_31_t = smp.integrate(h_31*t, (t, -smp.oo, smp.oo))\n",
    "h_32_t = smp.integrate(h_32*t, (t, -smp.oo, smp.oo))\n",
    "h_34_t = smp.integrate(h_34*t, (t, -smp.oo, smp.oo))\n",
    "h_41_t = smp.integrate(h_41*t, (t, -smp.oo, smp.oo))\n",
    "h_42_t = smp.integrate(h_42*t, (t, -smp.oo, smp.oo))\n",
    "h_43_t = smp.integrate(h_43*t, (t, -smp.oo, smp.oo))"
   ]
  },
  {
   "cell_type": "code",
   "execution_count": 88,
   "metadata": {},
   "outputs": [
    {
     "data": {
      "text/latex": [
       "$\\displaystyle <T> = \\frac{δ \\left(a e^{\\frac{δ^{2}}{8 σ^{2}}} \\overline{a} + a e^{\\frac{δ^{2}}{8 σ^{2}}} \\overline{b} + a \\overline{a} + a \\overline{b} + b e^{\\frac{δ^{2}}{8 σ^{2}}} \\overline{a} + b e^{\\frac{δ^{2}}{8 σ^{2}}} \\overline{b} + b \\overline{a} + b \\overline{b}\\right) e^{- \\frac{δ^{2}}{8 σ^{2}}}}{4}$"
      ],
      "text/plain": [
       "<IPython.core.display.Math object>"
      ]
     },
     "metadata": {},
     "output_type": "display_data"
    },
    {
     "data": {
      "text/latex": [
       "$\\displaystyle <T>_{limit} = \\frac{δ \\left(2 a \\overline{a} + 2 a \\overline{b} + 2 b \\overline{a} + 2 b \\overline{b}\\right)}{4}$"
      ],
      "text/plain": [
       "<IPython.core.display.Math object>"
      ]
     },
     "metadata": {},
     "output_type": "display_data"
    }
   ],
   "source": [
    "#trouve le temp moyen\n",
    "t_moy_d = smp.simplify((h_11_t + h_22_t + h_33_t + h_44_t + h_12_t + h_13_t + h_14_t + h_21_t + h_23_t + h_24_t + h_31_t + h_32_t + h_34_t + h_41_t + h_42_t + h_43_t))\n",
    "display(Math('<T> = ' +latex(t_moy_d)))\n",
    "\n",
    "#solution su temp moyenne shift de δt sur D avec une post selection sur H\n",
    "t_moy_limit = t_moy_d.subs(smp.exp((-d**2)/(8*o**2)), 1)\n",
    "display(Math('<T>_{limit} = ' +latex(t_moy_limit)))"
   ]
  },
  {
   "cell_type": "code",
   "execution_count": 89,
   "metadata": {},
   "outputs": [
    {
     "data": {
      "text/latex": [
       "$\\displaystyle H(ω)_{f_t} = \\frac{2^{\\frac{3}{4}} \\sqrt[4]{\\pi} \\sqrt{σ} \\left(- a e^{2 i \\pi δ ω} + a + b e^{2 i \\pi δ ω} + b\\right) e^{- 2 \\pi ω \\left(i δ + 2 \\pi σ^{2} ω\\right)}}{2}$"
      ],
      "text/plain": [
       "<IPython.core.display.Math object>"
      ]
     },
     "metadata": {},
     "output_type": "display_data"
    }
   ],
   "source": [
    "#continue avec ce système pour trouver la moyenne de la fréquence\n",
    "w = smp.symbols('ω', real=True)\n",
    "\n",
    "d_ff = smp.fourier_transform(h_post, t, w)\n",
    "display(Math('H(ω)_{f_t} = ' +latex(d_ff)))"
   ]
  },
  {
   "cell_type": "code",
   "execution_count": 90,
   "metadata": {},
   "outputs": [
    {
     "data": {
      "text/plain": [
       "'\\ndisplay(f1)\\ndisplay(f2)\\ndisplay(f3)\\ndisplay(f4)\\ndisplay(smp.simplify(f1 + f2 - f3 + f4))\\n'"
      ]
     },
     "execution_count": 90,
     "metadata": {},
     "output_type": "execute_result"
    }
   ],
   "source": [
    "#transformation de Fourier\n",
    "f1 = smp.fourier_transform(h1, t, w)\n",
    "f2 = smp.fourier_transform(h2, t, w)\n",
    "f3 = smp.fourier_transform(h3, t, w)\n",
    "f4 = smp.fourier_transform(h4, t, w)\n",
    "\"\"\"\n",
    "display(f1)\n",
    "display(f2)\n",
    "display(f3)\n",
    "display(f4)\n",
    "display(smp.simplify(f1 + f2 - f3 + f4))\n",
    "\"\"\""
   ]
  },
  {
   "cell_type": "code",
   "execution_count": 91,
   "metadata": {},
   "outputs": [
    {
     "data": {
      "text/plain": [
       "'\\ndisplay(f_11)\\ndisplay(f_22)\\ndisplay(f_33)\\ndisplay(f_44)\\ndisplay(f_12)\\ndisplay(f_13)\\ndisplay(f_14)\\ndisplay(f_21)\\ndisplay(f_23)\\ndisplay(f_24)\\ndisplay(f_31)\\ndisplay(f_32)\\ndisplay(f_34)\\ndisplay(f_41)\\ndisplay(f_42)\\ndisplay(f_43)\\n'"
      ]
     },
     "execution_count": 91,
     "metadata": {},
     "output_type": "execute_result"
    }
   ],
   "source": [
    "#combinaisons des postsélections de H\n",
    "f_11 = f1*smp.conjugate(f1)\n",
    "f_22 = f2*smp.conjugate(f2)\n",
    "f_33 = f3*smp.conjugate(f3)\n",
    "f_44 = f4*smp.conjugate(f4)\n",
    "f_12 = f1*smp.conjugate(f2)\n",
    "f_13 = f1*smp.conjugate(f3)\n",
    "f_14 = f1*smp.conjugate(f4)\n",
    "f_21 = f2*smp.conjugate(f1)\n",
    "f_23 = f2*smp.conjugate(f3)\n",
    "f_24 = f2*smp.conjugate(f4)\n",
    "f_31 = f3*smp.conjugate(f1)\n",
    "f_32 = f3*smp.conjugate(f2)\n",
    "f_34 = f3*smp.conjugate(f4)\n",
    "f_41 = f4*smp.conjugate(f1)\n",
    "f_42 = f4*smp.conjugate(f2)\n",
    "f_43 = f4*smp.conjugate(f3)\n",
    "\n",
    "'''\n",
    "display(f_11)\n",
    "display(f_22)\n",
    "display(f_33)\n",
    "display(f_44)\n",
    "display(f_12)\n",
    "display(f_13)\n",
    "display(f_14)\n",
    "display(f_21)\n",
    "display(f_23)\n",
    "display(f_24)\n",
    "display(f_31)\n",
    "display(f_32)\n",
    "display(f_34)\n",
    "display(f_41)\n",
    "display(f_42)\n",
    "display(f_43)\n",
    "'''"
   ]
  },
  {
   "cell_type": "code",
   "execution_count": 92,
   "metadata": {},
   "outputs": [
    {
     "data": {
      "text/plain": [
       "'\\ndisplay(f_11_w)\\ndisplay(f_22_w)\\ndisplay(f_33_w)\\ndisplay(f_44_w)\\ndisplay(f_12_w)\\ndisplay(f_13_w)\\ndisplay(f_14_w)\\ndisplay(f_21_w)\\ndisplay(f_23_w)\\ndisplay(f_24_w)\\ndisplay(f_31_w)\\ndisplay(f_32_w)\\ndisplay(f_34_w)\\ndisplay(f_41_w)\\ndisplay(f_42_w)\\ndisplay(f_43_w)\\n'"
      ]
     },
     "execution_count": 92,
     "metadata": {},
     "output_type": "execute_result"
    }
   ],
   "source": [
    "#integre chaque partie\n",
    "f_11_w = smp.integrate(f_11*w, (w, -smp.oo, smp.oo))\n",
    "f_22_w = smp.integrate(f_22*w, (w, -smp.oo, smp.oo))\n",
    "f_33_w = smp.integrate(f_33*w, (w, -smp.oo, smp.oo))\n",
    "f_44_w = smp.integrate(f_44*w, (w, -smp.oo, smp.oo))\n",
    "f_12_w = smp.integrate(f_12*w, (w, -smp.oo, smp.oo))\n",
    "f_13_w = smp.integrate(f_13*w, (w, -smp.oo, smp.oo))\n",
    "f_14_w = smp.integrate(f_14*w, (w, -smp.oo, smp.oo))\n",
    "f_21_w = smp.integrate(f_21*w, (w, -smp.oo, smp.oo))\n",
    "f_23_w = smp.integrate(f_23*w, (w, -smp.oo, smp.oo))\n",
    "f_24_w = smp.integrate(f_24*w, (w, -smp.oo, smp.oo))\n",
    "f_31_w = smp.integrate(f_31*w, (w, -smp.oo, smp.oo))\n",
    "f_32_w = smp.integrate(f_32*w, (w, -smp.oo, smp.oo))\n",
    "f_34_w = smp.integrate(f_34*w, (w, -smp.oo, smp.oo))\n",
    "f_41_w = smp.integrate(f_41*w, (w, -smp.oo, smp.oo))\n",
    "f_42_w = smp.integrate(f_42*w, (w, -smp.oo, smp.oo))\n",
    "f_43_w = smp.integrate(f_43*w, (w, -smp.oo, smp.oo))\n",
    "\n",
    "'''\n",
    "display(f_11_w)\n",
    "display(f_22_w)\n",
    "display(f_33_w)\n",
    "display(f_44_w)\n",
    "display(f_12_w)\n",
    "display(f_13_w)\n",
    "display(f_14_w)\n",
    "display(f_21_w)\n",
    "display(f_23_w)\n",
    "display(f_24_w)\n",
    "display(f_31_w)\n",
    "display(f_32_w)\n",
    "display(f_34_w)\n",
    "display(f_41_w)\n",
    "display(f_42_w)\n",
    "display(f_43_w)\n",
    "'''"
   ]
  },
  {
   "cell_type": "code",
   "execution_count": 93,
   "metadata": {},
   "outputs": [
    {
     "data": {
      "text/latex": [
       "$\\displaystyle <Ω> = 0$"
      ],
      "text/plain": [
       "<IPython.core.display.Math object>"
      ]
     },
     "metadata": {},
     "output_type": "display_data"
    },
    {
     "data": {
      "text/latex": [
       "$\\displaystyle <Ω>_{limit} = 0$"
      ],
      "text/plain": [
       "<IPython.core.display.Math object>"
      ]
     },
     "metadata": {},
     "output_type": "display_data"
    }
   ],
   "source": [
    "#trouve la fréquence moyenne\n",
    "w_moy = smp.simplify(f_11_w + f_22_w + f_33_w + f_44_w + f_12_w + f_13_w + f_14_w + f_21_w + f_23_w + f_24_w + f_31_w + f_32_w + f_34_w + f_41_w + f_42_w + f_43_w)\n",
    "display(Math('<Ω> = ' +latex(w_moy)))\n",
    "\n",
    "#prend limit de exp((-d**2)/(8*o**2) -> 1\n",
    "w_moy_limit = w_moy.subs(smp.exp((-d**2)/(8*o**2)), 1)\n",
    "display(Math('<Ω>_{limit} = ' +latex(w_moy_limit)))"
   ]
  },
  {
   "cell_type": "code",
   "execution_count": 94,
   "metadata": {},
   "outputs": [
    {
     "data": {
      "text/latex": [
       "$\\displaystyle <W>_{DH} = \\frac{a \\overline{a}}{2} + \\frac{a \\overline{b}}{2} + \\frac{b \\overline{a}}{2} + \\frac{b \\overline{b}}{2}$"
      ],
      "text/plain": [
       "<IPython.core.display.Math object>"
      ]
     },
     "metadata": {},
     "output_type": "display_data"
    },
    {
     "data": {
      "text/latex": [
       "$\\displaystyle \\frac{\\operatorname{re}{\\left(a \\overline{b}\\right)}}{2} + \\frac{\\operatorname{re}{\\left(b \\overline{a}\\right)}}{2} + \\frac{\\left|{a}\\right|^{2}}{2} + \\frac{\\left|{b}\\right|^{2}}{2}$"
      ],
      "text/plain": [
       "  ⎛  _⎞     ⎛  _⎞      2      2\n",
       "re⎝a⋅b⎠   re⎝b⋅a⎠   │a│    │b│ \n",
       "─────── + ─────── + ──── + ────\n",
       "   2         2       2      2  "
      ]
     },
     "metadata": {},
     "output_type": "display_data"
    }
   ],
   "source": [
    "#Trouver la valeur faible\n",
    "W_d_h = (1/d)*(t_moy_limit - 4*smp.I*(o**2)*w_moy_limit)\n",
    "display(Math('<W>_{DH} = ' +latex(W_d_h)))\n",
    "#La partie réel de la valeur faible de D est\n",
    "display(smp.simplify(smp.re(W_d_h)))"
   ]
  }
 ],
 "metadata": {
  "kernelspec": {
   "display_name": "Python 3",
   "language": "python",
   "name": "python3"
  },
  "language_info": {
   "name": "python",
   "version": "3.10.6 (main, Nov 14 2022, 16:10:14) [GCC 11.3.0]"
  },
  "orig_nbformat": 4,
  "vscode": {
   "interpreter": {
    "hash": "916dbcbb3f70747c44a77c7bcd40155683ae19c65e1c03b4aa3499c5328201f1"
   }
  }
 },
 "nbformat": 4,
 "nbformat_minor": 2
}
