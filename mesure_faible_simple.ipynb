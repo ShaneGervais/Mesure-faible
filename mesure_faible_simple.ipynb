{
 "cells": [
  {
   "cell_type": "code",
   "execution_count": 222,
   "metadata": {},
   "outputs": [
    {
     "data": {
      "text/plain": [
       "\"\\nMesure faible d'un système simple\\n\\ntous ces mesures faibles produit un shift sur l'état par un δt\\n\\npar Shane Gervais\\n\""
      ]
     },
     "execution_count": 222,
     "metadata": {},
     "output_type": "execute_result"
    }
   ],
   "source": [
    "'''\n",
    "Mesure faible d'un système simple\n",
    "\n",
    "tous ces mesures faibles produit un shift sur l'état par un δt\n",
    "\n",
    "par Shane Gervais\n",
    "'''"
   ]
  },
  {
   "cell_type": "code",
   "execution_count": 223,
   "metadata": {},
   "outputs": [],
   "source": [
    "#sympy pour effectuer les calcules\n",
    "import sympy as smp "
   ]
  },
  {
   "cell_type": "code",
   "execution_count": 224,
   "metadata": {},
   "outputs": [],
   "source": [
    "a = smp.symbols('a', real=False, complex = True)\n",
    "t = smp.symbols('t', real=True)\n",
    "o = smp.symbols('σ', real=True, positive = True)\n",
    "b = smp.symbols('b', real=False, complex = True)\n",
    "d = smp.symbols('δ', real=True)"
   ]
  },
  {
   "cell_type": "code",
   "execution_count": 225,
   "metadata": {},
   "outputs": [
    {
     "data": {
      "text/latex": [
       "$\\displaystyle \\frac{2^{\\frac{3}{4}} a e^{- \\frac{t^{2}}{4 σ^{2}}}}{2 \\sqrt[4]{\\pi} \\sqrt{σ}}$"
      ],
      "text/plain": [
       "2**(3/4)*a*exp(-t**2/(4*σ**2))/(2*pi**(1/4)*sqrt(σ))"
      ]
     },
     "metadata": {},
     "output_type": "display_data"
    }
   ],
   "source": [
    "#état polarisé horizontal\n",
    "h = a*(smp.sqrt(1/((smp.sqrt(2*smp.pi))*o)))*smp.exp(-(t**2)/(4*o**2))\n",
    "display(h)"
   ]
  },
  {
   "cell_type": "code",
   "execution_count": 226,
   "metadata": {},
   "outputs": [
    {
     "data": {
      "text/latex": [
       "$\\displaystyle \\frac{2^{\\frac{3}{4}} b e^{- \\frac{t^{2}}{4 σ^{2}}}}{2 \\sqrt[4]{\\pi} \\sqrt{σ}}$"
      ],
      "text/plain": [
       "2**(3/4)*b*exp(-t**2/(4*σ**2))/(2*pi**(1/4)*sqrt(σ))"
      ]
     },
     "metadata": {},
     "output_type": "display_data"
    }
   ],
   "source": [
    "#état polarisé vertical\n",
    "v = b*(smp.sqrt(1/((smp.sqrt(2*smp.pi))*o)))*smp.exp(-(t**2)/(4*o**2))\n",
    "display(v)"
   ]
  },
  {
   "cell_type": "code",
   "execution_count": 227,
   "metadata": {},
   "outputs": [],
   "source": [
    "#mesure faible - shift sur H(t) par δt\n",
    "h_f = a*(smp.sqrt(1/((smp.sqrt(2*smp.pi))*o)))*smp.exp(-((t-d)**2)/(4*o**2))"
   ]
  },
  {
   "cell_type": "code",
   "execution_count": 228,
   "metadata": {},
   "outputs": [],
   "source": [
    "#état polarisé diagonaux\n",
    "diag = (1/smp.sqrt(2))*(h+v)\n",
    "anti = (1/smp.sqrt(2))*(h-v)"
   ]
  },
  {
   "cell_type": "code",
   "execution_count": 229,
   "metadata": {},
   "outputs": [],
   "source": [
    "#shift sur V(t)\n",
    "v_f = b*(smp.sqrt(1/((smp.sqrt(2*smp.pi))*o)))*smp.exp(-((t-d)**2)/(4*o**2))"
   ]
  },
  {
   "cell_type": "code",
   "execution_count": 230,
   "metadata": {},
   "outputs": [
    {
     "data": {
      "text/latex": [
       "$\\displaystyle \\frac{\\sqrt{2} \\cdot \\left(\\frac{2^{\\frac{3}{4}} a e^{- \\frac{\\left(t - δ\\right)^{2}}{4 σ^{2}}}}{2 \\sqrt[4]{\\pi} \\sqrt{σ}} + \\frac{2^{\\frac{3}{4}} b e^{- \\frac{\\left(t - δ\\right)^{2}}{4 σ^{2}}}}{2 \\sqrt[4]{\\pi} \\sqrt{σ}}\\right)}{2}$"
      ],
      "text/plain": [
       "sqrt(2)*(2**(3/4)*a*exp(-(t - δ)**2/(4*σ**2))/(2*pi**(1/4)*sqrt(σ)) + 2**(3/4)*b*exp(-(t - δ)**2/(4*σ**2))/(2*pi**(1/4)*sqrt(σ)))/2"
      ]
     },
     "metadata": {},
     "output_type": "display_data"
    }
   ],
   "source": [
    "#Pour un système préparé diagonaux \n",
    "#mesure faible - shift sur D(t) par δt\n",
    "diag_f = (1/smp.sqrt(2))*(h_f + v_f)\n",
    "display(diag_f)"
   ]
  },
  {
   "cell_type": "code",
   "execution_count": 231,
   "metadata": {},
   "outputs": [
    {
     "data": {
      "text/latex": [
       "$\\displaystyle \\frac{2^{\\frac{3}{4}} a e^{- \\frac{\\left(t - δ\\right)^{2}}{4 σ^{2}}}}{4 \\sqrt[4]{\\pi} \\sqrt{σ}} - \\frac{2^{\\frac{3}{4}} a e^{- \\frac{t^{2}}{4 σ^{2}}}}{4 \\sqrt[4]{\\pi} \\sqrt{σ}} + \\frac{2^{\\frac{3}{4}} b e^{- \\frac{\\left(t - δ\\right)^{2}}{4 σ^{2}}}}{4 \\sqrt[4]{\\pi} \\sqrt{σ}} + \\frac{2^{\\frac{3}{4}} b e^{- \\frac{t^{2}}{4 σ^{2}}}}{4 \\sqrt[4]{\\pi} \\sqrt{σ}}$"
      ],
      "text/plain": [
       "2**(3/4)*a*exp(-(t - δ)**2/(4*σ**2))/(4*pi**(1/4)*sqrt(σ)) - 2**(3/4)*a*exp(-t**2/(4*σ**2))/(4*pi**(1/4)*sqrt(σ)) + 2**(3/4)*b*exp(-(t - δ)**2/(4*σ**2))/(4*pi**(1/4)*sqrt(σ)) + 2**(3/4)*b*exp(-t**2/(4*σ**2))/(4*pi**(1/4)*sqrt(σ))"
      ]
     },
     "metadata": {},
     "output_type": "display_data"
    }
   ],
   "source": [
    "#Faire une post-sélection sur H, donc nous avons une mesure en base D et A\n",
    "h_post = (1/smp.sqrt(2))*diag_f - (1/smp.sqrt(2))*anti\n",
    "display(h_post)"
   ]
  },
  {
   "cell_type": "code",
   "execution_count": 232,
   "metadata": {},
   "outputs": [
    {
     "data": {
      "text/latex": [
       "$\\displaystyle \\frac{2^{\\frac{3}{4}} a e^{- \\frac{\\left(t - δ\\right)^{2}}{4 σ^{2}}}}{4 \\sqrt[4]{\\pi} \\sqrt{σ}}$"
      ],
      "text/plain": [
       "2**(3/4)*a*exp(-(t - δ)**2/(4*σ**2))/(4*pi**(1/4)*sqrt(σ))"
      ]
     },
     "metadata": {},
     "output_type": "display_data"
    },
    {
     "data": {
      "text/latex": [
       "$\\displaystyle \\frac{2^{\\frac{3}{4}} b e^{- \\frac{\\left(t - δ\\right)^{2}}{4 σ^{2}}}}{4 \\sqrt[4]{\\pi} \\sqrt{σ}}$"
      ],
      "text/plain": [
       "2**(3/4)*b*exp(-(t - δ)**2/(4*σ**2))/(4*pi**(1/4)*sqrt(σ))"
      ]
     },
     "metadata": {},
     "output_type": "display_data"
    },
    {
     "data": {
      "text/latex": [
       "$\\displaystyle \\frac{2^{\\frac{3}{4}} a e^{- \\frac{t^{2}}{4 σ^{2}}}}{4 \\sqrt[4]{\\pi} \\sqrt{σ}}$"
      ],
      "text/plain": [
       "2**(3/4)*a*exp(-t**2/(4*σ**2))/(4*pi**(1/4)*sqrt(σ))"
      ]
     },
     "metadata": {},
     "output_type": "display_data"
    },
    {
     "data": {
      "text/latex": [
       "$\\displaystyle \\frac{2^{\\frac{3}{4}} b e^{- \\frac{t^{2}}{4 σ^{2}}}}{4 \\sqrt[4]{\\pi} \\sqrt{σ}}$"
      ],
      "text/plain": [
       "2**(3/4)*b*exp(-t**2/(4*σ**2))/(4*pi**(1/4)*sqrt(σ))"
      ]
     },
     "metadata": {},
     "output_type": "display_data"
    },
    {
     "data": {
      "text/latex": [
       "$\\displaystyle \\frac{2^{\\frac{3}{4}} a e^{- \\frac{\\left(t - δ\\right)^{2}}{4 σ^{2}}}}{4 \\sqrt[4]{\\pi} \\sqrt{σ}} - \\frac{2^{\\frac{3}{4}} a e^{- \\frac{t^{2}}{4 σ^{2}}}}{4 \\sqrt[4]{\\pi} \\sqrt{σ}} + \\frac{2^{\\frac{3}{4}} b e^{- \\frac{\\left(t - δ\\right)^{2}}{4 σ^{2}}}}{4 \\sqrt[4]{\\pi} \\sqrt{σ}} + \\frac{2^{\\frac{3}{4}} b e^{- \\frac{t^{2}}{4 σ^{2}}}}{4 \\sqrt[4]{\\pi} \\sqrt{σ}}$"
      ],
      "text/plain": [
       "2**(3/4)*a*exp(-(t - δ)**2/(4*σ**2))/(4*pi**(1/4)*sqrt(σ)) - 2**(3/4)*a*exp(-t**2/(4*σ**2))/(4*pi**(1/4)*sqrt(σ)) + 2**(3/4)*b*exp(-(t - δ)**2/(4*σ**2))/(4*pi**(1/4)*sqrt(σ)) + 2**(3/4)*b*exp(-t**2/(4*σ**2))/(4*pi**(1/4)*sqrt(σ))"
      ]
     },
     "metadata": {},
     "output_type": "display_data"
    }
   ],
   "source": [
    "#Écrit la post-selection de H en partie\n",
    "h1 = smp.Rational(1, 2)*h_f\n",
    "h2 = smp.Rational(1, 2)*v_f\n",
    "h3 = smp.Rational(1, 2)*h\n",
    "h4 = smp.Rational(1, 2)*v\n",
    "display(h1)\n",
    "display(h2)\n",
    "display(h3)\n",
    "display(h4)\n",
    "display(h1 + h2 - h3 + h4)\n"
   ]
  },
  {
   "cell_type": "code",
   "execution_count": 233,
   "metadata": {},
   "outputs": [],
   "source": [
    "#combinaisons des postsélections de H\n",
    "h_11 = h1*smp.conjugate(h1)\n",
    "h_22 = h2*smp.conjugate(h2)\n",
    "h_33 = h3*smp.conjugate(h3)\n",
    "h_44 = h4*smp.conjugate(h4)\n",
    "h_12 = h1*smp.conjugate(h2)\n",
    "h_13 = h1*smp.conjugate(h3)\n",
    "h_14 = h1*smp.conjugate(h4)\n",
    "h_21 = h2*smp.conjugate(h1)\n",
    "h_23 = h2*smp.conjugate(h3)\n",
    "h_24 = h2*smp.conjugate(h4)\n",
    "h_31 = h3*smp.conjugate(h1)\n",
    "h_32 = h3*smp.conjugate(h2)\n",
    "h_34 = h3*smp.conjugate(h4)\n",
    "h_41 = h4*smp.conjugate(h1)\n",
    "h_42 = h4*smp.conjugate(h2)\n",
    "h_43 = h4*smp.conjugate(h3)"
   ]
  },
  {
   "cell_type": "code",
   "execution_count": 234,
   "metadata": {},
   "outputs": [
    {
     "data": {
      "text/plain": [
       "'\\ndisplay(h_11_t)\\ndisplay(h_22_t)\\ndisplay(h_33_t)\\ndisplay(h_44_t)\\ndisplay(h_12_t)\\ndisplay(h_13_t)\\ndisplay(h_14_t)\\ndisplay(h_21_t)\\ndisplay(h_23_t)\\ndisplay(h_24_t)\\ndisplay(h_31_t)\\ndisplay(h_32_t)\\ndisplay(h_34_t)\\ndisplay(h_41_t)\\ndisplay(h_42_t)\\ndisplay(h_43_t)\\n'"
      ]
     },
     "execution_count": 234,
     "metadata": {},
     "output_type": "execute_result"
    }
   ],
   "source": [
    "#integre chaque partie\n",
    "h_11_t = smp.integrate(h_11*t, (t, -smp.oo, smp.oo))\n",
    "h_22_t = smp.integrate(h_22*t, (t, -smp.oo, smp.oo))\n",
    "h_33_t = smp.integrate(h_33*t, (t, -smp.oo, smp.oo))\n",
    "h_44_t = smp.integrate(h_44*t, (t, -smp.oo, smp.oo))\n",
    "h_12_t = smp.integrate(h_12*t, (t, -smp.oo, smp.oo))\n",
    "h_13_t = smp.integrate(h_13*t, (t, -smp.oo, smp.oo))\n",
    "h_14_t = smp.integrate(h_14*t, (t, -smp.oo, smp.oo))\n",
    "h_21_t = smp.integrate(h_21*t, (t, -smp.oo, smp.oo))\n",
    "h_23_t = smp.integrate(h_23*t, (t, -smp.oo, smp.oo))\n",
    "h_24_t = smp.integrate(h_24*t, (t, -smp.oo, smp.oo))\n",
    "h_31_t = smp.integrate(h_31*t, (t, -smp.oo, smp.oo))\n",
    "h_32_t = smp.integrate(h_32*t, (t, -smp.oo, smp.oo))\n",
    "h_34_t = smp.integrate(h_34*t, (t, -smp.oo, smp.oo))\n",
    "h_41_t = smp.integrate(h_41*t, (t, -smp.oo, smp.oo))\n",
    "h_42_t = smp.integrate(h_42*t, (t, -smp.oo, smp.oo))\n",
    "h_43_t = smp.integrate(h_43*t, (t, -smp.oo, smp.oo))\n",
    "\n",
    "'''\n",
    "display(h_11_t)\n",
    "display(h_22_t)\n",
    "display(h_33_t)\n",
    "display(h_44_t)\n",
    "display(h_12_t)\n",
    "display(h_13_t)\n",
    "display(h_14_t)\n",
    "display(h_21_t)\n",
    "display(h_23_t)\n",
    "display(h_24_t)\n",
    "display(h_31_t)\n",
    "display(h_32_t)\n",
    "display(h_34_t)\n",
    "display(h_41_t)\n",
    "display(h_42_t)\n",
    "display(h_43_t)\n",
    "'''"
   ]
  },
  {
   "cell_type": "code",
   "execution_count": 235,
   "metadata": {},
   "outputs": [
    {
     "data": {
      "text/latex": [
       "$\\displaystyle \\frac{δ \\left(a e^{\\frac{δ^{2}}{8 σ^{2}}} \\overline{a} + a e^{\\frac{δ^{2}}{8 σ^{2}}} \\overline{b} + a \\overline{a} + a \\overline{b} + b e^{\\frac{δ^{2}}{8 σ^{2}}} \\overline{a} + b e^{\\frac{δ^{2}}{8 σ^{2}}} \\overline{b} + b \\overline{a} + b \\overline{b}\\right) e^{- \\frac{δ^{2}}{8 σ^{2}}}}{4}$"
      ],
      "text/plain": [
       "δ*(a*exp(δ**2/(8*σ**2))*conjugate(a) + a*exp(δ**2/(8*σ**2))*conjugate(b) + a*conjugate(a) + a*conjugate(b) + b*exp(δ**2/(8*σ**2))*conjugate(a) + b*exp(δ**2/(8*σ**2))*conjugate(b) + b*conjugate(a) + b*conjugate(b))*exp(-δ**2/(8*σ**2))/4"
      ]
     },
     "metadata": {},
     "output_type": "display_data"
    },
    {
     "data": {
      "text/latex": [
       "$\\displaystyle \\frac{δ \\left(2 a \\overline{a} + 2 a \\overline{b} + 2 b \\overline{a} + 2 b \\overline{b}\\right)}{4}$"
      ],
      "text/plain": [
       "δ*(2*a*conjugate(a) + 2*a*conjugate(b) + 2*b*conjugate(a) + 2*b*conjugate(b))/4"
      ]
     },
     "metadata": {},
     "output_type": "display_data"
    }
   ],
   "source": [
    "#trouve le temp moyen\n",
    "t_moy_d = smp.simplify((h_11_t + h_22_t + h_33_t + h_44_t + h_12_t + h_13_t + h_14_t + h_21_t + h_23_t + h_24_t + h_31_t + h_32_t + h_34_t + h_41_t + h_42_t + h_43_t))\n",
    "display(t_moy_d)\n",
    "\n",
    "#solution su temp moyenne shift de δt sur D avec une post selection sur H\n",
    "t_moy_limit = t_moy_d.subs(smp.exp((-d**2)/(8*o**2)), 1)\n",
    "display(t_moy_limit)"
   ]
  },
  {
   "cell_type": "code",
   "execution_count": 236,
   "metadata": {},
   "outputs": [
    {
     "data": {
      "text/latex": [
       "$\\displaystyle \\frac{2^{\\frac{3}{4}} \\sqrt[4]{\\pi} \\sqrt{σ} \\left(- a e^{2 i \\pi δ ω} + a + b e^{2 i \\pi δ ω} + b\\right) e^{- 2 \\pi ω \\left(i δ + 2 \\pi σ^{2} ω\\right)}}{2}$"
      ],
      "text/plain": [
       "2**(3/4)*pi**(1/4)*sqrt(σ)*(-a*exp(2*I*pi*δ*ω) + a + b*exp(2*I*pi*δ*ω) + b)*exp(-2*pi*ω*(I*δ + 2*pi*σ**2*ω))/2"
      ]
     },
     "metadata": {},
     "output_type": "display_data"
    }
   ],
   "source": [
    "#continue avec ce système pour trouver la moyenne de la fréquence\n",
    "w = smp.symbols('ω', real=True)\n",
    "\n",
    "d_ff = smp.fourier_transform(h_post, t, w)\n",
    "display(d_ff)"
   ]
  },
  {
   "cell_type": "code",
   "execution_count": 237,
   "metadata": {},
   "outputs": [
    {
     "data": {
      "text/latex": [
       "$\\displaystyle \\frac{2^{\\frac{3}{4}} \\sqrt[4]{\\pi} a \\sqrt{σ} e^{- 2 \\pi ω \\left(i δ + 2 \\pi σ^{2} ω\\right)}}{2}$"
      ],
      "text/plain": [
       "2**(3/4)*pi**(1/4)*a*sqrt(σ)*exp(-2*pi*ω*(I*δ + 2*pi*σ**2*ω))/2"
      ]
     },
     "metadata": {},
     "output_type": "display_data"
    },
    {
     "data": {
      "text/latex": [
       "$\\displaystyle \\frac{2^{\\frac{3}{4}} \\sqrt[4]{\\pi} b \\sqrt{σ} e^{- 2 \\pi ω \\left(i δ + 2 \\pi σ^{2} ω\\right)}}{2}$"
      ],
      "text/plain": [
       "2**(3/4)*pi**(1/4)*b*sqrt(σ)*exp(-2*pi*ω*(I*δ + 2*pi*σ**2*ω))/2"
      ]
     },
     "metadata": {},
     "output_type": "display_data"
    },
    {
     "data": {
      "text/latex": [
       "$\\displaystyle \\frac{2^{\\frac{3}{4}} \\sqrt[4]{\\pi} a \\sqrt{σ} e^{- 4 \\pi^{2} σ^{2} ω^{2}}}{2}$"
      ],
      "text/plain": [
       "2**(3/4)*pi**(1/4)*a*sqrt(σ)*exp(-4*pi**2*σ**2*ω**2)/2"
      ]
     },
     "metadata": {},
     "output_type": "display_data"
    },
    {
     "data": {
      "text/latex": [
       "$\\displaystyle \\frac{2^{\\frac{3}{4}} \\sqrt[4]{\\pi} b \\sqrt{σ} e^{- 4 \\pi^{2} σ^{2} ω^{2}}}{2}$"
      ],
      "text/plain": [
       "2**(3/4)*pi**(1/4)*b*sqrt(σ)*exp(-4*pi**2*σ**2*ω**2)/2"
      ]
     },
     "metadata": {},
     "output_type": "display_data"
    },
    {
     "data": {
      "text/latex": [
       "$\\displaystyle \\frac{2^{\\frac{3}{4}} \\sqrt[4]{\\pi} \\sqrt{σ} \\left(- a e^{2 i \\pi δ ω} + a + b e^{2 i \\pi δ ω} + b\\right) e^{- 2 \\pi ω \\left(i δ + 2 \\pi σ^{2} ω\\right)}}{2}$"
      ],
      "text/plain": [
       "2**(3/4)*pi**(1/4)*sqrt(σ)*(-a*exp(2*I*pi*δ*ω) + a + b*exp(2*I*pi*δ*ω) + b)*exp(-2*pi*ω*(I*δ + 2*pi*σ**2*ω))/2"
      ]
     },
     "metadata": {},
     "output_type": "display_data"
    }
   ],
   "source": [
    "#transformation de Fourier\n",
    "f1 = smp.fourier_transform(h1, t, w)\n",
    "f2 = smp.fourier_transform(h2, t, w)\n",
    "f3 = smp.fourier_transform(h3, t, w)\n",
    "f4 = smp.fourier_transform(h4, t, w)\n",
    "display(f1)\n",
    "display(f2)\n",
    "display(f3)\n",
    "display(f4)\n",
    "display(smp.simplify(f1 + f2 - f3 + f4))"
   ]
  },
  {
   "cell_type": "code",
   "execution_count": 238,
   "metadata": {},
   "outputs": [
    {
     "data": {
      "text/plain": [
       "'\\ndisplay(f_11)\\ndisplay(f_22)\\ndisplay(f_33)\\ndisplay(f_44)\\ndisplay(f_12)\\ndisplay(f_13)\\ndisplay(f_14)\\ndisplay(f_21)\\ndisplay(f_23)\\ndisplay(f_24)\\ndisplay(f_31)\\ndisplay(f_32)\\ndisplay(f_34)\\ndisplay(f_41)\\ndisplay(f_42)\\ndisplay(f_43)\\n'"
      ]
     },
     "execution_count": 238,
     "metadata": {},
     "output_type": "execute_result"
    }
   ],
   "source": [
    "#combinaisons des postsélections de H\n",
    "f_11 = f1*smp.conjugate(f1)\n",
    "f_22 = f2*smp.conjugate(f2)\n",
    "f_33 = f3*smp.conjugate(f3)\n",
    "f_44 = f4*smp.conjugate(f4)\n",
    "f_12 = f1*smp.conjugate(f2)\n",
    "f_13 = f1*smp.conjugate(f3)\n",
    "f_14 = f1*smp.conjugate(f4)\n",
    "f_21 = f2*smp.conjugate(f1)\n",
    "f_23 = f2*smp.conjugate(f3)\n",
    "f_24 = f2*smp.conjugate(f4)\n",
    "f_31 = f3*smp.conjugate(f1)\n",
    "f_32 = f3*smp.conjugate(f2)\n",
    "f_34 = f3*smp.conjugate(f4)\n",
    "f_41 = f4*smp.conjugate(f1)\n",
    "f_42 = f4*smp.conjugate(f2)\n",
    "f_43 = f4*smp.conjugate(f3)\n",
    "\n",
    "'''\n",
    "display(f_11)\n",
    "display(f_22)\n",
    "display(f_33)\n",
    "display(f_44)\n",
    "display(f_12)\n",
    "display(f_13)\n",
    "display(f_14)\n",
    "display(f_21)\n",
    "display(f_23)\n",
    "display(f_24)\n",
    "display(f_31)\n",
    "display(f_32)\n",
    "display(f_34)\n",
    "display(f_41)\n",
    "display(f_42)\n",
    "display(f_43)\n",
    "'''"
   ]
  },
  {
   "cell_type": "code",
   "execution_count": 239,
   "metadata": {},
   "outputs": [
    {
     "data": {
      "text/plain": [
       "'\\ndisplay(f_11_w)\\ndisplay(f_22_w)\\ndisplay(f_33_w)\\ndisplay(f_44_w)\\ndisplay(f_12_w)\\ndisplay(f_13_w)\\ndisplay(f_14_w)\\ndisplay(f_21_w)\\ndisplay(f_23_w)\\ndisplay(f_24_w)\\ndisplay(f_31_w)\\ndisplay(f_32_w)\\ndisplay(f_34_w)\\ndisplay(f_41_w)\\ndisplay(f_42_w)\\ndisplay(f_43_w)\\n'"
      ]
     },
     "execution_count": 239,
     "metadata": {},
     "output_type": "execute_result"
    }
   ],
   "source": [
    "#integre chaque partie\n",
    "f_11_w = smp.integrate(f_11*w, (w, -smp.oo, smp.oo))\n",
    "f_22_w = smp.integrate(f_22*w, (w, -smp.oo, smp.oo))\n",
    "f_33_w = smp.integrate(f_33*w, (w, -smp.oo, smp.oo))\n",
    "f_44_w = smp.integrate(f_44*w, (w, -smp.oo, smp.oo))\n",
    "f_12_w = smp.integrate(f_12*w, (w, -smp.oo, smp.oo))\n",
    "f_13_w = smp.integrate(f_13*w, (w, -smp.oo, smp.oo))\n",
    "f_14_w = smp.integrate(f_14*w, (w, -smp.oo, smp.oo))\n",
    "f_21_w = smp.integrate(f_21*w, (w, -smp.oo, smp.oo))\n",
    "f_23_w = smp.integrate(f_23*w, (w, -smp.oo, smp.oo))\n",
    "f_24_w = smp.integrate(f_24*w, (w, -smp.oo, smp.oo))\n",
    "f_31_w = smp.integrate(f_31*w, (w, -smp.oo, smp.oo))\n",
    "f_32_w = smp.integrate(f_32*w, (w, -smp.oo, smp.oo))\n",
    "f_34_w = smp.integrate(f_34*w, (w, -smp.oo, smp.oo))\n",
    "f_41_w = smp.integrate(f_41*w, (w, -smp.oo, smp.oo))\n",
    "f_42_w = smp.integrate(f_42*w, (w, -smp.oo, smp.oo))\n",
    "f_43_w = smp.integrate(f_43*w, (w, -smp.oo, smp.oo))\n",
    "\n",
    "'''\n",
    "display(f_11_w)\n",
    "display(f_22_w)\n",
    "display(f_33_w)\n",
    "display(f_44_w)\n",
    "display(f_12_w)\n",
    "display(f_13_w)\n",
    "display(f_14_w)\n",
    "display(f_21_w)\n",
    "display(f_23_w)\n",
    "display(f_24_w)\n",
    "display(f_31_w)\n",
    "display(f_32_w)\n",
    "display(f_34_w)\n",
    "display(f_41_w)\n",
    "display(f_42_w)\n",
    "display(f_43_w)\n",
    "'''"
   ]
  },
  {
   "cell_type": "code",
   "execution_count": 240,
   "metadata": {},
   "outputs": [
    {
     "data": {
      "text/latex": [
       "$\\displaystyle 0$"
      ],
      "text/plain": [
       "0"
      ]
     },
     "metadata": {},
     "output_type": "display_data"
    },
    {
     "data": {
      "text/latex": [
       "$\\displaystyle 0$"
      ],
      "text/plain": [
       "0"
      ]
     },
     "metadata": {},
     "output_type": "display_data"
    }
   ],
   "source": [
    "#trouve la fréquence moyenne\n",
    "w_moy = smp.simplify(f_11_w + f_22_w + f_33_w + f_44_w + f_12_w + f_13_w + f_14_w + f_21_w + f_23_w + f_24_w + f_31_w + f_32_w + f_34_w + f_41_w + f_42_w + f_43_w)\n",
    "display(w_moy)\n",
    "\n",
    "#prend limit de exp((-d**2)/(8*o**2) -> 1\n",
    "w_moy_limit = w_moy.subs(smp.exp((-d**2)/(8*o**2)), 1)\n",
    "display(w_moy_limit)"
   ]
  },
  {
   "cell_type": "code",
   "execution_count": 241,
   "metadata": {},
   "outputs": [
    {
     "data": {
      "text/latex": [
       "$\\displaystyle \\frac{a \\overline{a}}{2} + \\frac{a \\overline{b}}{2} + \\frac{b \\overline{a}}{2} + \\frac{b \\overline{b}}{2}$"
      ],
      "text/plain": [
       "a*conjugate(a)/2 + a*conjugate(b)/2 + b*conjugate(a)/2 + b*conjugate(b)/2"
      ]
     },
     "metadata": {},
     "output_type": "display_data"
    },
    {
     "data": {
      "text/latex": [
       "$\\displaystyle \\frac{\\operatorname{re}{\\left(a \\overline{b}\\right)}}{2} + \\frac{\\operatorname{re}{\\left(b \\overline{a}\\right)}}{2} + \\frac{\\left|{a}\\right|^{2}}{2} + \\frac{\\left|{b}\\right|^{2}}{2}$"
      ],
      "text/plain": [
       "re(a*conjugate(b))/2 + re(b*conjugate(a))/2 + Abs(a)**2/2 + Abs(b)**2/2"
      ]
     },
     "metadata": {},
     "output_type": "display_data"
    }
   ],
   "source": [
    "#Trouver la valeur faible \n",
    "W_d_h = (1/d)*(t_moy_limit - 4*smp.I*(o**2)*w_moy_limit)\n",
    "display(W_d_h)\n",
    "#La partie réel de la valeur faible de D est\n",
    "display(smp.simplify(smp.re(W_d_h)))"
   ]
  }
 ],
 "metadata": {
  "kernelspec": {
   "display_name": "Python 3.11.0 64-bit",
   "language": "python",
   "name": "python3"
  },
  "language_info": {
   "codemirror_mode": {
    "name": "ipython",
    "version": 3
   },
   "file_extension": ".py",
   "mimetype": "text/x-python",
   "name": "python",
   "nbconvert_exporter": "python",
   "pygments_lexer": "ipython3",
   "version": "3.11.0"
  },
  "orig_nbformat": 4,
  "vscode": {
   "interpreter": {
    "hash": "08b5b9f03626247fc374d43087fecf6916aa8a13053ca2b145f142965ea1e448"
   }
  }
 },
 "nbformat": 4,
 "nbformat_minor": 2
}
