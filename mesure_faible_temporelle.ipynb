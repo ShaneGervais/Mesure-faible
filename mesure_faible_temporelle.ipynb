{
 "cells": [
  {
   "cell_type": "code",
   "execution_count": 59,
   "metadata": {},
   "outputs": [
    {
     "name": "stdout",
     "output_type": "stream",
     "text": [
      "IPython console for SymPy 1.11.1 (Python 3.11.3-64-bit) (ground types: python)\n",
      "\n",
      "These commands were executed:\n",
      ">>> from sympy import *\n",
      ">>> x, y, z, t = symbols('x y z t')\n",
      ">>> k, m, n = symbols('k m n', integer=True)\n",
      ">>> f, g, h = symbols('f g h', cls=Function)\n",
      ">>> init_printing()\n",
      "\n",
      "Documentation can be found at https://docs.sympy.org/1.11.1/\n",
      "\n"
     ]
    }
   ],
   "source": [
    "#sympy pour effectuer les calcules\n",
    "import sympy as smp\n",
    "from sympy.physics import quantum as qtm\n",
    "from IPython.display import display, Math\n",
    "smp.init_session()"
   ]
  },
  {
   "cell_type": "code",
   "execution_count": 60,
   "metadata": {},
   "outputs": [],
   "source": [
    "a = smp.symbols('a', real=False, complex = True)\n",
    "t = smp.symbols('t', real=True)\n",
    "o = smp.symbols(r'\\sigma', real=True, positive = True)\n",
    "b = smp.symbols('b', real=False, complex = True)\n",
    "d = smp.symbols(r'\\delta', real=True)"
   ]
  },
  {
   "cell_type": "code",
   "execution_count": 61,
   "metadata": {},
   "outputs": [
    {
     "data": {
      "text/latex": [
       "$\\displaystyle A(t) = \\frac{2^{\\frac{3}{4}} e^{- \\frac{t^{2}}{4 \\sigma^{2}}}}{2 \\sqrt[4]{\\pi} \\sqrt{\\sigma}}$"
      ],
      "text/plain": [
       "<IPython.core.display.Math object>"
      ]
     },
     "metadata": {},
     "output_type": "display_data"
    }
   ],
   "source": [
    "#Fonction gaussien\n",
    "A = (smp.sqrt(1/((smp.sqrt(2*smp.pi))*o)))*smp.exp(-(t**2)/(4*o**2))\n",
    "display(Math(r'A(t) = '+smp.latex(A)))"
   ]
  },
  {
   "cell_type": "code",
   "execution_count": 62,
   "metadata": {},
   "outputs": [
    {
     "data": {
      "text/latex": [
       "$\\displaystyle \\ket{H(t)} = \\frac{2^{\\frac{3}{4}} a e^{- \\frac{t^{2}}{4 \\sigma^{2}}}}{2 \\sqrt[4]{\\pi} \\sqrt{\\sigma}}$"
      ],
      "text/plain": [
       "<IPython.core.display.Math object>"
      ]
     },
     "metadata": {},
     "output_type": "display_data"
    }
   ],
   "source": [
    "#état polarisé horizontal\n",
    "h = a*A\n",
    "display(Math(r'\\ket{H(t)} = ' +smp.latex(h)))"
   ]
  },
  {
   "cell_type": "code",
   "execution_count": 63,
   "metadata": {},
   "outputs": [
    {
     "data": {
      "text/latex": [
       "$\\displaystyle \\ket{V(t)} = \\frac{2^{\\frac{3}{4}} b e^{- \\frac{t^{2}}{4 \\sigma^{2}}}}{2 \\sqrt[4]{\\pi} \\sqrt{\\sigma}}$"
      ],
      "text/plain": [
       "<IPython.core.display.Math object>"
      ]
     },
     "metadata": {},
     "output_type": "display_data"
    }
   ],
   "source": [
    "#état polarisé vertical\n",
    "v = b*A\n",
    "display(Math('\\ket{V(t)} = ' +smp.latex(v)))"
   ]
  },
  {
   "cell_type": "code",
   "execution_count": 64,
   "metadata": {},
   "outputs": [
    {
     "data": {
      "text/latex": [
       "$\\displaystyle \\ket{\\varphi(t)} = a {\\left|H\\right\\rangle } + b {\\left|V\\right\\rangle }$"
      ],
      "text/plain": [
       "<IPython.core.display.Math object>"
      ]
     },
     "metadata": {},
     "output_type": "display_data"
    },
    {
     "data": {
      "text/latex": [
       "$\\displaystyle \\ket{\\varphi(t)} = \\frac{2^{\\frac{3}{4}} a e^{- \\frac{t^{2}}{4 \\sigma^{2}}}}{2 \\sqrt[4]{\\pi} \\sqrt{\\sigma}} + \\frac{2^{\\frac{3}{4}} b e^{- \\frac{t^{2}}{4 \\sigma^{2}}}}{2 \\sqrt[4]{\\pi} \\sqrt{\\sigma}}$"
      ],
      "text/plain": [
       "<IPython.core.display.Math object>"
      ]
     },
     "metadata": {},
     "output_type": "display_data"
    }
   ],
   "source": [
    "#intiallement\n",
    "phi = h + v\n",
    "H = qtm.KetBase('H')\n",
    "V = qtm.KetBase('V')\n",
    "display(Math(r'\\ket{\\varphi(t)} = ' +smp.latex(a*H + b*V)))\n",
    "display(Math(r'\\ket{\\varphi(t)} = ' +smp.latex(phi)))"
   ]
  },
  {
   "cell_type": "code",
   "execution_count": 65,
   "metadata": {},
   "outputs": [
    {
     "data": {
      "text/latex": [
       "$\\displaystyle \\ket{\\psi(t)}_{\\delta} = \\frac{2^{\\frac{3}{4}} a e^{- \\frac{\\left(- \\delta + t\\right)^{2}}{4 \\sigma^{2}}}}{2 \\sqrt[4]{\\pi} \\sqrt{\\sigma}} + \\frac{2^{\\frac{3}{4}} b e^{- \\frac{t^{2}}{4 \\sigma^{2}}}}{2 \\sqrt[4]{\\pi} \\sqrt{\\sigma}}$"
      ],
      "text/plain": [
       "<IPython.core.display.Math object>"
      ]
     },
     "metadata": {},
     "output_type": "display_data"
    }
   ],
   "source": [
    "#decalage (mesure faible) sur H\n",
    "A_f = (smp.sqrt(1/((smp.sqrt(2*smp.pi))*o)))*smp.exp(-((t-d)**2)/(4*o**2))\n",
    "h_f = A_f*a\n",
    "psi_d = (h_f + v)\n",
    "display(Math(r'\\ket{\\psi(t)}_{\\delta} = ' +smp.latex(psi_d)))"
   ]
  },
  {
   "cell_type": "code",
   "execution_count": 66,
   "metadata": {},
   "outputs": [
    {
     "data": {
      "text/latex": [
       "$\\displaystyle \\ket{\\psi(t)}_f = \\frac{\\sqrt{2} \\cdot \\left(\\frac{2^{\\frac{3}{4}} a e^{- \\frac{\\left(- \\delta + t\\right)^{2}}{4 \\sigma^{2}}}}{2 \\sqrt[4]{\\pi} \\sqrt{\\sigma}} + \\frac{2^{\\frac{3}{4}} b e^{- \\frac{t^{2}}{4 \\sigma^{2}}}}{2 \\sqrt[4]{\\pi} \\sqrt{\\sigma}}\\right)}{2}$"
      ],
      "text/plain": [
       "<IPython.core.display.Math object>"
      ]
     },
     "metadata": {},
     "output_type": "display_data"
    }
   ],
   "source": [
    "psi_f = (1/smp.sqrt(2))*(h_f + v)\n",
    "display(Math(r'\\ket{\\psi(t)}_f = ' +smp.latex(psi_f)))"
   ]
  },
  {
   "cell_type": "code",
   "execution_count": 67,
   "metadata": {},
   "outputs": [
    {
     "data": {
      "text/latex": [
       "$\\displaystyle \\langle \\hat{T} \\rangle= \\bra{\\psi}_f \\hat{t} \\ket{\\psi}_f =\\frac{\\delta \\left(2 a e^{\\frac{\\delta^{2}}{8 \\sigma^{2}}} \\overline{a} + a \\overline{b} + b \\overline{a}\\right) e^{- \\frac{\\delta^{2}}{8 \\sigma^{2}}}}{4}$"
      ],
      "text/plain": [
       "<IPython.core.display.Math object>"
      ]
     },
     "metadata": {},
     "output_type": "display_data"
    },
    {
     "data": {
      "text/latex": [
       "$\\displaystyle \\lim_{e^{\\frac{-\\delta^{2}}{8\\sigma^{2}}} \\to 1} \\langle \\hat{T} \\rangle= \\frac{\\delta \\left(2 a \\overline{a} + a \\overline{b} + b \\overline{a}\\right)}{4}$"
      ],
      "text/plain": [
       "<IPython.core.display.Math object>"
      ]
     },
     "metadata": {},
     "output_type": "display_data"
    }
   ],
   "source": [
    "t_moy = (smp.integrate(smp.conjugate(psi_f)*t*psi_f, (t, -smp.oo, smp.oo))).simplify()\n",
    "display(Math(r'\\langle \\hat{T} \\rangle= \\bra{\\psi}_f \\hat{t} \\ket{\\psi}_f =' +smp.latex(t_moy)))\n",
    "\n",
    "t_moy_limit = t_moy.subs(smp.exp((-d**2)/(8*o**2)), 1)\n",
    "display(Math(r'\\lim_{e^{\\frac{-\\delta^{2}}{8\\sigma^{2}}} \\to 1} \\langle \\hat{T} \\rangle= ' +smp.latex(t_moy_limit)))"
   ]
  },
  {
   "cell_type": "code",
   "execution_count": 68,
   "metadata": {},
   "outputs": [
    {
     "data": {
      "text/latex": [
       "$\\displaystyle \\ket{\\psi(ω)_{f_t}} = \\sqrt[4]{2} \\sqrt[4]{\\pi} \\sqrt{\\sigma} \\left(a + b e^{i \\delta ω}\\right) e^{- ω \\left(i \\delta + \\sigma^{2} ω\\right)}$"
      ],
      "text/plain": [
       "<IPython.core.display.Math object>"
      ]
     },
     "metadata": {},
     "output_type": "display_data"
    }
   ],
   "source": [
    "#continue avec ce système pour trouver la moyenne de la fréquence\n",
    "w = smp.symbols('ω', real=True)\n",
    "\n",
    "psi_ff = (smp.integrate(psi_f*smp.exp(-smp.I*w*t), (t, -smp.oo, smp.oo))).simplify()\n",
    "display(Math(r'\\ket{\\psi(ω)_{f_t}} = ' +smp.latex(psi_ff)))"
   ]
  },
  {
   "cell_type": "code",
   "execution_count": 69,
   "metadata": {},
   "outputs": [
    {
     "data": {
      "text/latex": [
       "$\\displaystyle <\\hat{\\Omega}> = \\bra{\\psi(ω)_{f_t}} \\hat{\\omega} \\ket{\\psi(ω)_{f_t}} =\\frac{i \\pi \\delta \\left(- a \\overline{b} + b \\overline{a}\\right) e^{- \\frac{\\delta^{2}}{8 \\sigma^{2}}}}{4 \\sigma^{2}}$"
      ],
      "text/plain": [
       "<IPython.core.display.Math object>"
      ]
     },
     "metadata": {},
     "output_type": "display_data"
    },
    {
     "data": {
      "text/latex": [
       "$\\displaystyle \\lim_{e^{\\frac{-\\delta^{2}}{8\\sigma^{2}}} \\to 1} <\\hat{\\Omega}> = \\frac{i \\pi \\delta \\left(- a \\overline{b} + b \\overline{a}\\right)}{4 \\sigma^{2}}$"
      ],
      "text/plain": [
       "<IPython.core.display.Math object>"
      ]
     },
     "metadata": {},
     "output_type": "display_data"
    }
   ],
   "source": [
    "#trouve la fréquence moyenne\n",
    "w_moy = (smp.integrate(smp.conjugate(psi_ff)*w*psi_ff, (w, -smp.oo, smp.oo))).simplify()\n",
    "display(Math(r'<\\hat{\\Omega}> = \\bra{\\psi(ω)_{f_t}} \\hat{\\omega} \\ket{\\psi(ω)_{f_t}} =' +smp.latex(w_moy)))\n",
    "\n",
    "#prend limit de exp((-d**2)/(8*o**2) -> 1\n",
    "w_moy_limit = w_moy.subs(smp.exp((-d**2)/(8*o**2)), 1)\n",
    "display(Math(r'\\lim_{e^{\\frac{-\\delta^{2}}{8\\sigma^{2}}} \\to 1} <\\hat{\\Omega}> = ' +smp.latex(w_moy_limit)))"
   ]
  },
  {
   "cell_type": "code",
   "execution_count": 70,
   "metadata": {},
   "outputs": [
    {
     "data": {
      "text/latex": [
       "$\\displaystyle <\\hat{S}>_{W} = \\frac{\\pi \\delta \\left(- a \\overline{b} + b \\overline{a}\\right) + \\frac{\\delta \\left(2 a \\overline{a} + a \\overline{b} + b \\overline{a}\\right)}{4}}{\\delta}$"
      ],
      "text/plain": [
       "<IPython.core.display.Math object>"
      ]
     },
     "metadata": {},
     "output_type": "display_data"
    },
    {
     "data": {
      "text/latex": [
       "$\\displaystyle <\\hat{t}> = - \\pi \\left(\\operatorname{re}{\\left(a \\overline{b}\\right)} - \\operatorname{re}{\\left(b \\overline{a}\\right)}\\right) + \\frac{\\operatorname{re}{\\left(a \\overline{b}\\right)}}{4} + \\frac{\\operatorname{re}{\\left(b \\overline{a}\\right)}}{4} + \\frac{\\left|{a}\\right|^{2}}{2}$"
      ],
      "text/plain": [
       "<IPython.core.display.Math object>"
      ]
     },
     "metadata": {},
     "output_type": "display_data"
    },
    {
     "data": {
      "text/latex": [
       "$\\displaystyle <\\hat{\\omega}> = - \\pi \\left(\\operatorname{im}{\\left(a \\overline{b}\\right)} - \\operatorname{im}{\\left(b \\overline{a}\\right)}\\right) + \\frac{\\operatorname{im}{\\left(a \\overline{b}\\right)}}{4} + \\frac{\\operatorname{im}{\\left(b \\overline{a}\\right)}}{4}$"
      ],
      "text/plain": [
       "<IPython.core.display.Math object>"
      ]
     },
     "metadata": {},
     "output_type": "display_data"
    }
   ],
   "source": [
    "#Trouver la valeur faible\n",
    "W_d_h = (1/d)*(t_moy_limit - 4*smp.I*(o**2)*w_moy_limit)\n",
    "display(Math(r'<\\hat{S}>_{W} = ' +smp.latex(W_d_h)))\n",
    "#La partie réel de la valeur faible de D est\n",
    "display(Math(r'<\\hat{t}> = ' + smp.latex(smp.simplify(smp.re(W_d_h)))))\n",
    "display(Math(r'<\\hat{\\omega}> = ' + smp.latex(smp.simplify(smp.im(W_d_h)))))"
   ]
  }
 ],
 "metadata": {
  "kernelspec": {
   "display_name": "Python 3 (ipykernel)",
   "language": "python",
   "name": "python3"
  },
  "language_info": {
   "codemirror_mode": {
    "name": "ipython",
    "version": 3
   },
   "file_extension": ".py",
   "mimetype": "text/x-python",
   "name": "python",
   "nbconvert_exporter": "python",
   "pygments_lexer": "ipython3",
   "version": "3.11.3"
  }
 },
 "nbformat": 4,
 "nbformat_minor": 4
}
