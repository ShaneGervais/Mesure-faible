{
 "cells": [
  {
   "cell_type": "code",
   "execution_count": 78,
   "metadata": {},
   "outputs": [
    {
     "name": "stdout",
     "output_type": "stream",
     "text": [
      "IPython console for SymPy 1.11.1 (Python 3.11.2-64-bit) (ground types: python)\n",
      "\n",
      "These commands were executed:\n",
      ">>> from sympy import *\n",
      ">>> x, y, z, t = symbols('x y z t')\n",
      ">>> k, m, n = symbols('k m n', integer=True)\n",
      ">>> f, g, h = symbols('f g h', cls=Function)\n",
      ">>> init_printing()\n",
      "\n",
      "Documentation can be found at https://docs.sympy.org/1.11.1/\n",
      "\n"
     ]
    }
   ],
   "source": [
    "#sympy pour effectuer les calcules\n",
    "import sympy as smp\n",
    "from IPython.display import display, Math\n",
    "smp.init_session()"
   ]
  },
  {
   "cell_type": "code",
   "execution_count": 79,
   "metadata": {},
   "outputs": [],
   "source": [
    "a = smp.symbols('a', real=False, complex = True)\n",
    "t = smp.symbols('t', real=True)\n",
    "o = smp.symbols(r'\\sigma', real=True, positive = True)\n",
    "b = smp.symbols('b', real=False, complex = True)\n",
    "d = smp.symbols(r'\\delta', real=True)"
   ]
  },
  {
   "cell_type": "code",
   "execution_count": 80,
   "metadata": {},
   "outputs": [
    {
     "data": {
      "text/latex": [
       "$\\displaystyle A(t) = \\frac{2^{\\frac{3}{4}} e^{- \\frac{t^{2}}{4 \\sigma^{2}}}}{2 \\sqrt[4]{\\pi} \\sqrt{\\sigma}}$"
      ],
      "text/plain": [
       "<IPython.core.display.Math object>"
      ]
     },
     "metadata": {},
     "output_type": "display_data"
    }
   ],
   "source": [
    "#Fonction gaussien\n",
    "A = (smp.sqrt(1/((smp.sqrt(2*smp.pi))*o)))*smp.exp(-(t**2)/(4*o**2))\n",
    "display(Math(r'A(t) = '+smp.latex(A)))"
   ]
  },
  {
   "cell_type": "code",
   "execution_count": 81,
   "metadata": {},
   "outputs": [
    {
     "data": {
      "text/latex": [
       "$\\displaystyle H(t) = \\frac{2^{\\frac{3}{4}} a e^{- \\frac{t^{2}}{4 \\sigma^{2}}}}{2 \\sqrt[4]{\\pi} \\sqrt{\\sigma}}$"
      ],
      "text/plain": [
       "<IPython.core.display.Math object>"
      ]
     },
     "metadata": {},
     "output_type": "display_data"
    }
   ],
   "source": [
    "#état polarisé horizontal\n",
    "h = a*A\n",
    "display(Math('H(t) = ' +smp.latex(h)))"
   ]
  },
  {
   "cell_type": "code",
   "execution_count": 82,
   "metadata": {},
   "outputs": [
    {
     "data": {
      "text/latex": [
       "$\\displaystyle V(t) = \\frac{2^{\\frac{3}{4}} b e^{- \\frac{t^{2}}{4 \\sigma^{2}}}}{2 \\sqrt[4]{\\pi} \\sqrt{\\sigma}}$"
      ],
      "text/plain": [
       "<IPython.core.display.Math object>"
      ]
     },
     "metadata": {},
     "output_type": "display_data"
    }
   ],
   "source": [
    "#état polarisé vertical\n",
    "v = b*A\n",
    "display(Math('V(t) = ' +latex(v)))"
   ]
  },
  {
   "cell_type": "code",
   "execution_count": 83,
   "metadata": {},
   "outputs": [
    {
     "data": {
      "text/latex": [
       "$\\displaystyle \\psi(t) = \\frac{2^{\\frac{3}{4}} a e^{- \\frac{t^{2}}{4 \\sigma^{2}}}}{2 \\sqrt[4]{\\pi} \\sqrt{\\sigma}} + \\frac{2^{\\frac{3}{4}} b e^{- \\frac{t^{2}}{4 \\sigma^{2}}}}{2 \\sqrt[4]{\\pi} \\sqrt{\\sigma}}$"
      ],
      "text/plain": [
       "<IPython.core.display.Math object>"
      ]
     },
     "metadata": {},
     "output_type": "display_data"
    }
   ],
   "source": [
    "#intiallement\n",
    "psi = h + v\n",
    "display(Math(r'\\psi(t) = ' +smp.latex(psi)))"
   ]
  },
  {
   "cell_type": "code",
   "execution_count": 84,
   "metadata": {},
   "outputs": [
    {
     "data": {
      "text/latex": [
       "$\\displaystyle \\psi(t)_f = \\frac{2^{\\frac{3}{4}} a e^{- \\frac{\\left(- \\delta + t\\right)^{2}}{4 \\sigma^{2}}}}{2 \\sqrt[4]{\\pi} \\sqrt{\\sigma}} + \\frac{2^{\\frac{3}{4}} b e^{- \\frac{t^{2}}{4 \\sigma^{2}}}}{2 \\sqrt[4]{\\pi} \\sqrt{\\sigma}}$"
      ],
      "text/plain": [
       "<IPython.core.display.Math object>"
      ]
     },
     "metadata": {},
     "output_type": "display_data"
    }
   ],
   "source": [
    "#decalage (mesure faible) sur H\n",
    "A_f = (smp.sqrt(1/((smp.sqrt(2*smp.pi))*o)))*smp.exp(-((t-d)**2)/(4*o**2))\n",
    "h_f = A_f*a\n",
    "psi_f = (h_f + v)\n",
    "display(Math(r'\\psi(t)_f = ' +smp.latex(psi_f)))"
   ]
  },
  {
   "cell_type": "code",
   "execution_count": 85,
   "metadata": {},
   "outputs": [
    {
     "data": {
      "text/latex": [
       "$\\displaystyle D(t)_f = \\frac{\\sqrt{2} \\cdot \\left(\\frac{2^{\\frac{3}{4}} a e^{- \\frac{\\left(- \\delta + t\\right)^{2}}{4 \\sigma^{2}}}}{2 \\sqrt[4]{\\pi} \\sqrt{\\sigma}} + \\frac{2^{\\frac{3}{4}} b e^{- \\frac{t^{2}}{4 \\sigma^{2}}}}{2 \\sqrt[4]{\\pi} \\sqrt{\\sigma}}\\right)}{2}$"
      ],
      "text/plain": [
       "<IPython.core.display.Math object>"
      ]
     },
     "metadata": {},
     "output_type": "display_data"
    }
   ],
   "source": [
    "diag_f = (1/smp.sqrt(2))*(h_f + v)\n",
    "display(Math(r'D(t)_f = ' +smp.latex(diag_f)))"
   ]
  },
  {
   "cell_type": "code",
   "execution_count": 86,
   "metadata": {},
   "outputs": [
    {
     "data": {
      "text/latex": [
       "$\\displaystyle \\psi(t)_a = \\frac{\\sqrt[4]{2} a e^{- \\frac{\\left(- \\delta + t\\right)^{2}}{4 \\sigma^{2}}}}{2 \\sqrt[4]{\\pi} \\sqrt{\\sigma}}$"
      ],
      "text/plain": [
       "<IPython.core.display.Math object>"
      ]
     },
     "metadata": {},
     "output_type": "display_data"
    },
    {
     "data": {
      "text/latex": [
       "$\\displaystyle \\psi(t)_b = \\frac{\\sqrt[4]{2} b e^{- \\frac{t^{2}}{4 \\sigma^{2}}}}{2 \\sqrt[4]{\\pi} \\sqrt{\\sigma}}$"
      ],
      "text/plain": [
       "<IPython.core.display.Math object>"
      ]
     },
     "metadata": {},
     "output_type": "display_data"
    }
   ],
   "source": [
    "psi_a = (1/smp.sqrt(2))*(h_f)\n",
    "psi_b = (1/smp.sqrt(2))*(v)\n",
    "display(Math(r'\\psi(t)_a = ' +smp.latex(psi_a)))\n",
    "display(Math(r'\\psi(t)_b = ' +smp.latex(psi_b)))"
   ]
  },
  {
   "cell_type": "code",
   "execution_count": 87,
   "metadata": {},
   "outputs": [
    {
     "data": {
      "text/latex": [
       "$\\displaystyle \\psi(t)_1 = \\frac{\\sqrt{2} a e^{- \\frac{\\left(- \\delta + t\\right)^{2}}{2 \\sigma^{2}}} \\overline{a}}{4 \\sqrt{\\pi} \\sigma}$"
      ],
      "text/plain": [
       "<IPython.core.display.Math object>"
      ]
     },
     "metadata": {},
     "output_type": "display_data"
    },
    {
     "data": {
      "text/latex": [
       "$\\displaystyle \\psi(t)_2 = \\frac{\\sqrt{2} a e^{- \\frac{t^{2}}{4 \\sigma^{2}}} e^{- \\frac{\\left(- \\delta + t\\right)^{2}}{4 \\sigma^{2}}} \\overline{b}}{4 \\sqrt{\\pi} \\sigma}$"
      ],
      "text/plain": [
       "<IPython.core.display.Math object>"
      ]
     },
     "metadata": {},
     "output_type": "display_data"
    },
    {
     "data": {
      "text/latex": [
       "$\\displaystyle \\psi(t)_3 = \\frac{\\sqrt{2} b e^{- \\frac{t^{2}}{4 \\sigma^{2}}} e^{- \\frac{\\left(- \\delta + t\\right)^{2}}{4 \\sigma^{2}}} \\overline{a}}{4 \\sqrt{\\pi} \\sigma}$"
      ],
      "text/plain": [
       "<IPython.core.display.Math object>"
      ]
     },
     "metadata": {},
     "output_type": "display_data"
    },
    {
     "data": {
      "text/latex": [
       "$\\displaystyle \\psi(t)_4 = \\frac{\\sqrt{2} b e^{- \\frac{t^{2}}{2 \\sigma^{2}}} \\overline{b}}{4 \\sqrt{\\pi} \\sigma}$"
      ],
      "text/plain": [
       "<IPython.core.display.Math object>"
      ]
     },
     "metadata": {},
     "output_type": "display_data"
    }
   ],
   "source": [
    "psi_1 = psi_a*smp.conjugate(psi_a)\n",
    "psi_2 = psi_a*smp.conjugate(psi_b)\n",
    "psi_3 = smp.conjugate(psi_a)*psi_b\n",
    "psi_4 = smp.conjugate(psi_b)*psi_b\n",
    "display(Math(r'\\psi(t)_1 = ' +smp.latex(psi_1)))\n",
    "display(Math(r'\\psi(t)_2 = ' +smp.latex(psi_2)))\n",
    "display(Math(r'\\psi(t)_3 = ' +smp.latex(psi_3)))\n",
    "display(Math(r'\\psi(t)_4 = ' +smp.latex(psi_4)))"
   ]
  },
  {
   "cell_type": "code",
   "execution_count": 88,
   "metadata": {},
   "outputs": [
    {
     "data": {
      "text/latex": [
       "$\\displaystyle \\psi(t)_1 = \\frac{\\delta a \\overline{a}}{2}$"
      ],
      "text/plain": [
       "<IPython.core.display.Math object>"
      ]
     },
     "metadata": {},
     "output_type": "display_data"
    },
    {
     "data": {
      "text/latex": [
       "$\\displaystyle \\psi(t)_2 = \\frac{\\delta a \\left(2 - \\operatorname{erfc}{\\left(\\frac{\\sqrt{2} \\delta}{4 \\sigma} \\right)}\\right) e^{- \\frac{\\delta^{2}}{8 \\sigma^{2}}} \\overline{b}}{4} + \\frac{\\delta a \\left(- 2 \\sqrt{\\pi} \\left(2 - \\operatorname{erfc}{\\left(\\frac{\\sqrt{2} \\delta}{4 \\sigma} \\right)}\\right) - \\frac{4 \\sqrt{2} \\sigma e^{- \\frac{\\delta^{2}}{8 \\sigma^{2}}}}{\\delta}\\right) e^{- \\frac{\\delta^{2}}{8 \\sigma^{2}}} \\overline{b}}{16 \\sqrt{\\pi}} + \\frac{\\delta a \\left(- 2 \\sqrt{\\pi} \\operatorname{erfc}{\\left(\\frac{\\sqrt{2} \\delta}{4 \\sigma} \\right)} + \\frac{4 \\sqrt{2} \\sigma e^{- \\frac{\\delta^{2}}{8 \\sigma^{2}}}}{\\delta}\\right) e^{- \\frac{\\delta^{2}}{8 \\sigma^{2}}} \\overline{b}}{16 \\sqrt{\\pi}} + \\frac{\\delta a e^{- \\frac{\\delta^{2}}{8 \\sigma^{2}}} \\overline{b} \\operatorname{erfc}{\\left(\\frac{\\sqrt{2} \\delta}{4 \\sigma} \\right)}}{4}$"
      ],
      "text/plain": [
       "<IPython.core.display.Math object>"
      ]
     },
     "metadata": {},
     "output_type": "display_data"
    },
    {
     "data": {
      "text/latex": [
       "$\\displaystyle \\psi(t)_3 = \\frac{\\delta b \\left(2 - \\operatorname{erfc}{\\left(\\frac{\\sqrt{2} \\delta}{4 \\sigma} \\right)}\\right) e^{- \\frac{\\delta^{2}}{8 \\sigma^{2}}} \\overline{a}}{4} + \\frac{\\delta b \\left(- 2 \\sqrt{\\pi} \\left(2 - \\operatorname{erfc}{\\left(\\frac{\\sqrt{2} \\delta}{4 \\sigma} \\right)}\\right) - \\frac{4 \\sqrt{2} \\sigma e^{- \\frac{\\delta^{2}}{8 \\sigma^{2}}}}{\\delta}\\right) e^{- \\frac{\\delta^{2}}{8 \\sigma^{2}}} \\overline{a}}{16 \\sqrt{\\pi}} + \\frac{\\delta b \\left(- 2 \\sqrt{\\pi} \\operatorname{erfc}{\\left(\\frac{\\sqrt{2} \\delta}{4 \\sigma} \\right)} + \\frac{4 \\sqrt{2} \\sigma e^{- \\frac{\\delta^{2}}{8 \\sigma^{2}}}}{\\delta}\\right) e^{- \\frac{\\delta^{2}}{8 \\sigma^{2}}} \\overline{a}}{16 \\sqrt{\\pi}} + \\frac{\\delta b e^{- \\frac{\\delta^{2}}{8 \\sigma^{2}}} \\overline{a} \\operatorname{erfc}{\\left(\\frac{\\sqrt{2} \\delta}{4 \\sigma} \\right)}}{4}$"
      ],
      "text/plain": [
       "<IPython.core.display.Math object>"
      ]
     },
     "metadata": {},
     "output_type": "display_data"
    },
    {
     "data": {
      "text/latex": [
       "$\\displaystyle \\psi(t)_4 = 0$"
      ],
      "text/plain": [
       "<IPython.core.display.Math object>"
      ]
     },
     "metadata": {},
     "output_type": "display_data"
    }
   ],
   "source": [
    "psi_1_t = smp.integrate(psi_1*t, (t, -smp.oo, smp.oo))\n",
    "psi_2_t = smp.integrate(psi_2*t, (t, -smp.oo, smp.oo))\n",
    "psi_3_t = smp.integrate(psi_3*t, (t, -smp.oo, smp.oo))\n",
    "psi_4_t = smp.integrate(psi_4*t, (t, -smp.oo, smp.oo))\n",
    "\n",
    "display(Math(r'\\psi(t)_1 = ' +smp.latex(psi_1_t)))\n",
    "display(Math(r'\\psi(t)_2 = ' +smp.latex(psi_2_t)))\n",
    "display(Math(r'\\psi(t)_3 = ' +smp.latex(psi_3_t)))\n",
    "display(Math(r'\\psi(t)_4 = ' +smp.latex(psi_4_t)))"
   ]
  },
  {
   "cell_type": "code",
   "execution_count": 89,
   "metadata": {},
   "outputs": [
    {
     "data": {
      "text/latex": [
       "$\\displaystyle <T>\\frac{\\delta \\left(2 a e^{\\frac{\\delta^{2}}{8 \\sigma^{2}}} \\overline{a} + a \\overline{b} + b \\overline{a}\\right) e^{- \\frac{\\delta^{2}}{8 \\sigma^{2}}}}{4}$"
      ],
      "text/plain": [
       "<IPython.core.display.Math object>"
      ]
     },
     "metadata": {},
     "output_type": "display_data"
    },
    {
     "data": {
      "text/latex": [
       "$\\displaystyle \\lim_{e^{\\frac{-\\delta^{2}}{8\\sigma^{2}}} \\to 1} <T>= \\frac{\\delta \\left(2 a \\overline{a} + a \\overline{b} + b \\overline{a}\\right)}{4}$"
      ],
      "text/plain": [
       "<IPython.core.display.Math object>"
      ]
     },
     "metadata": {},
     "output_type": "display_data"
    }
   ],
   "source": [
    "t_moy = smp.simplify(psi_1_t + psi_2_t + psi_3_t + psi_4_t)\n",
    "display(Math(\"<T>\"+ smp.latex(t_moy)))\n",
    " \n",
    "t_moy_limit = t_moy.subs(smp.exp((-d**2)/(8*o**2)), 1)\n",
    "display(Math(r'\\lim_{e^{\\frac{-\\delta^{2}}{8\\sigma^{2}}} \\to 1} <T>= ' +smp.latex(t_moy_limit)))"
   ]
  },
  {
   "cell_type": "code",
   "execution_count": 90,
   "metadata": {},
   "outputs": [
    {
     "data": {
      "text/latex": [
       "$\\displaystyle \\psi(ω)_{f_t} = \\sqrt[4]{2} \\sqrt[4]{\\pi} \\sqrt{\\sigma} \\left(a + b e^{2 i \\pi \\delta ω}\\right) e^{- 2 \\pi ω \\left(i \\delta + 2 \\pi \\sigma^{2} ω\\right)}$"
      ],
      "text/plain": [
       "<IPython.core.display.Math object>"
      ]
     },
     "metadata": {},
     "output_type": "display_data"
    }
   ],
   "source": [
    "#continue avec ce système pour trouver la moyenne de la fréquence\n",
    "w = smp.symbols('ω', real=True)\n",
    "\n",
    "d_ff = smp.fourier_transform(diag_f, t, w)\n",
    "display(Math(r'\\psi(ω)_{f_t} = ' +smp.latex(d_ff)))"
   ]
  },
  {
   "cell_type": "code",
   "execution_count": 91,
   "metadata": {},
   "outputs": [],
   "source": [
    "#transformation de Fourier\n",
    "f1 = smp.fourier_transform(psi_1, t, w)\n",
    "f2 = smp.fourier_transform(psi_2, t, w)\n",
    "f3 = smp.fourier_transform(psi_3, t, w)\n",
    "f4 = smp.fourier_transform(psi_4, t, w)"
   ]
  },
  {
   "cell_type": "code",
   "execution_count": 92,
   "metadata": {},
   "outputs": [],
   "source": [
    "#combinaisons des postsélections de D\n",
    "f_11 = f1*smp.conjugate(f1)\n",
    "f_22 = f2*smp.conjugate(f2)\n",
    "f_33 = f3*smp.conjugate(f3)\n",
    "f_44 = f4*smp.conjugate(f4)\n",
    "f_12 = f1*smp.conjugate(f2)\n",
    "f_13 = f1*smp.conjugate(f3)\n",
    "f_14 = f1*smp.conjugate(f4)\n",
    "f_21 = f2*smp.conjugate(f1)\n",
    "f_23 = f2*smp.conjugate(f3)\n",
    "f_24 = f2*smp.conjugate(f4)\n",
    "f_31 = f3*smp.conjugate(f1)\n",
    "f_32 = f3*smp.conjugate(f2)\n",
    "f_34 = f3*smp.conjugate(f4)\n",
    "f_41 = f4*smp.conjugate(f1)\n",
    "f_42 = f4*smp.conjugate(f2)\n",
    "f_43 = f4*smp.conjugate(f3)"
   ]
  },
  {
   "cell_type": "code",
   "execution_count": 93,
   "metadata": {},
   "outputs": [],
   "source": [
    "#integre chaque partie\n",
    "f_11_w = smp.integrate(f_11*w, (w, -smp.oo, smp.oo))\n",
    "f_22_w = smp.integrate(f_22*w, (w, -smp.oo, smp.oo))\n",
    "f_33_w = smp.integrate(f_33*w, (w, -smp.oo, smp.oo))\n",
    "f_44_w = smp.integrate(f_44*w, (w, -smp.oo, smp.oo))\n",
    "f_12_w = smp.integrate(f_12*w, (w, -smp.oo, smp.oo))\n",
    "f_13_w = smp.integrate(f_13*w, (w, -smp.oo, smp.oo))\n",
    "f_14_w = smp.integrate(f_14*w, (w, -smp.oo, smp.oo))\n",
    "f_21_w = smp.integrate(f_21*w, (w, -smp.oo, smp.oo))\n",
    "f_23_w = smp.integrate(f_23*w, (w, -smp.oo, smp.oo))\n",
    "f_24_w = smp.integrate(f_24*w, (w, -smp.oo, smp.oo))\n",
    "f_31_w = smp.integrate(f_31*w, (w, -smp.oo, smp.oo))\n",
    "f_32_w = smp.integrate(f_32*w, (w, -smp.oo, smp.oo))\n",
    "f_34_w = smp.integrate(f_34*w, (w, -smp.oo, smp.oo))\n",
    "f_41_w = smp.integrate(f_41*w, (w, -smp.oo, smp.oo))\n",
    "f_42_w = smp.integrate(f_42*w, (w, -smp.oo, smp.oo))\n",
    "f_43_w = smp.integrate(f_43*w, (w, -smp.oo, smp.oo))"
   ]
  },
  {
   "cell_type": "code",
   "execution_count": 94,
   "metadata": {},
   "outputs": [
    {
     "data": {
      "text/latex": [
       "$\\displaystyle <\\hat{\\Omega}> = 0$"
      ],
      "text/plain": [
       "<IPython.core.display.Math object>"
      ]
     },
     "metadata": {},
     "output_type": "display_data"
    },
    {
     "data": {
      "text/latex": [
       "$\\displaystyle \\lim_{e^{\\frac{-\\delta^{2}}{8\\sigma^{2}}} \\to 1} <\\hat{\\Omega}> = 0$"
      ],
      "text/plain": [
       "<IPython.core.display.Math object>"
      ]
     },
     "metadata": {},
     "output_type": "display_data"
    }
   ],
   "source": [
    "#trouve la fréquence moyenne\n",
    "w_moy = smp.simplify(f_11_w + f_22_w + f_33_w + f_44_w + f_12_w + f_13_w + f_14_w + f_21_w + f_23_w + f_24_w + f_31_w + f_32_w + f_34_w + f_41_w + f_42_w + f_43_w)\n",
    "display(Math(r'<\\hat{\\Omega}> = ' +smp.latex(w_moy)))\n",
    "\n",
    "#prend limit de exp((-d**2)/(8*o**2) -> 1\n",
    "w_moy_limit = w_moy.subs(smp.exp((-d**2)/(8*o**2)), 1)\n",
    "display(Math(r'\\lim_{e^{\\frac{-\\delta^{2}}{8\\sigma^{2}}} \\to 1} <\\hat{\\Omega}> = ' +smp.latex(w_moy_limit)))"
   ]
  },
  {
   "cell_type": "code",
   "execution_count": 95,
   "metadata": {},
   "outputs": [
    {
     "data": {
      "text/latex": [
       "$\\displaystyle <\\hat{S}>_{W} = \\frac{a \\overline{a}}{2} + \\frac{a \\overline{b}}{4} + \\frac{b \\overline{a}}{4}$"
      ],
      "text/plain": [
       "<IPython.core.display.Math object>"
      ]
     },
     "metadata": {},
     "output_type": "display_data"
    },
    {
     "data": {
      "text/latex": [
       "$\\displaystyle <\\hat{t}> = \\frac{\\operatorname{re}{\\left(a \\overline{b}\\right)}}{4} + \\frac{\\operatorname{re}{\\left(b \\overline{a}\\right)}}{4} + \\frac{\\left|{a}\\right|^{2}}{2}$"
      ],
      "text/plain": [
       "<IPython.core.display.Math object>"
      ]
     },
     "metadata": {},
     "output_type": "display_data"
    },
    {
     "data": {
      "text/latex": [
       "$\\displaystyle <\\hat{\\omega}> = \\frac{\\operatorname{im}{\\left(a \\overline{b}\\right)}}{4} + \\frac{\\operatorname{im}{\\left(b \\overline{a}\\right)}}{4}$"
      ],
      "text/plain": [
       "<IPython.core.display.Math object>"
      ]
     },
     "metadata": {},
     "output_type": "display_data"
    }
   ],
   "source": [
    "#Trouver la valeur faible\n",
    "W_d_h = (1/d)*(t_moy_limit - 4*smp.I*(o**2)*w_moy_limit)\n",
    "display(Math(r'<\\hat{S}>_{W} = ' +smp.latex(W_d_h)))\n",
    "#La partie réel de la valeur faible de D est\n",
    "display(Math(r'<\\hat{t}> = ' + smp.latex(smp.simplify(smp.re(W_d_h)))))\n",
    "display(Math(r'<\\hat{\\omega}> = ' + smp.latex(smp.simplify(smp.im(W_d_h)))))"
   ]
  }
 ],
 "metadata": {
  "kernelspec": {
   "display_name": "Python 3",
   "language": "python",
   "name": "python3"
  },
  "language_info": {
   "codemirror_mode": {
    "name": "ipython",
    "version": 3
   },
   "file_extension": ".py",
   "mimetype": "text/x-python",
   "name": "python",
   "nbconvert_exporter": "python",
   "pygments_lexer": "ipython3",
   "version": "3.11.2"
  },
  "orig_nbformat": 4
 },
 "nbformat": 4,
 "nbformat_minor": 2
}
